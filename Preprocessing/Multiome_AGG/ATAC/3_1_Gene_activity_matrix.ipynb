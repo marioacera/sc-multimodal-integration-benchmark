{
 "cells": [
  {
   "cell_type": "code",
   "execution_count": 1,
   "id": "ed989873-bfbc-41fa-876b-75da7aa99f32",
   "metadata": {},
   "outputs": [],
   "source": [
    "import os\n",
    "\n",
    "import matplotlib as mpl\n",
    "\n",
    "from scipy import sparse\n",
    "from matplotlib import rcParams\n",
    "rcParams['pdf.fonttype'] = 42 # enables correct plotting of text\n",
    "rcParams['figure.figsize'] = (5,5)\n",
    "import seaborn as sns"
   ]
  },
  {
   "cell_type": "code",
   "execution_count": 2,
   "id": "5a5ffd2f-b0d2-4932-a17f-3361b3af7fbf",
   "metadata": {
    "tags": []
   },
   "outputs": [
    {
     "name": "stderr",
     "output_type": "stream",
     "text": [
      "/home/marioam/miniconda3/envs/General_env/lib/python3.9/site-packages/torchvision/io/image.py:13: UserWarning: Failed to load image Python extension: libtorch_cuda_cu.so: cannot open shared object file: No such file or directory\n",
      "  warn(f\"Failed to load image Python extension: {e}\")\n",
      "Global seed set to 0\n"
     ]
    }
   ],
   "source": [
    "import anndata\n",
    "import matplotlib.pyplot as plt\n",
    "import numpy as np\n",
    "import pandas as pd\n",
    "import scanpy as sc\n",
    "import scipy\n",
    "import scvi\n",
    "import muon as mu\n",
    "from muon import atac as ac\n",
    "import episcanpy as epi"
   ]
  },
  {
   "cell_type": "markdown",
   "id": "92b2676f-5418-4fb4-ae52-8722d6ec7bcd",
   "metadata": {},
   "source": [
    "## Generate GENE ACTIVITY MATRIX FOR ATAC DATA "
   ]
  },
  {
   "cell_type": "code",
   "execution_count": 4,
   "id": "b3297bf5-5484-451d-9f09-988dc72384e6",
   "metadata": {
    "tags": []
   },
   "outputs": [],
   "source": [
    "atac = sc.read(f'objects/atac_clusters.h5ad')"
   ]
  },
  {
   "cell_type": "code",
   "execution_count": 5,
   "id": "5c525a93-9910-473a-8d3c-6a7153dc60eb",
   "metadata": {},
   "outputs": [],
   "source": [
    "atac.layers['tfidf'] = atac.X.copy()"
   ]
  },
  {
   "cell_type": "code",
   "execution_count": 6,
   "id": "b64b4551-87b0-4ac9-8487-451927c9ffb1",
   "metadata": {
    "tags": []
   },
   "outputs": [],
   "source": [
    "atac.X = atac.layers['counts'].copy()"
   ]
  },
  {
   "cell_type": "code",
   "execution_count": 7,
   "id": "741c268a-5b14-4be5-bb87-cdcb3106dcfc",
   "metadata": {
    "tags": []
   },
   "outputs": [],
   "source": [
    "atac.var_names = [i.replace(':','_') for i in atac.var_names]\n",
    "atac.var_names = [i.replace('-','_') for i in atac.var_names]"
   ]
  },
  {
   "cell_type": "code",
   "execution_count": 8,
   "id": "81a4d24c-0f24-43a3-924d-b63207a3262e",
   "metadata": {
    "tags": []
   },
   "outputs": [
    {
     "data": {
      "text/plain": [
       "['chr1_181019_181792',\n",
       " 'chr1_191047_191897',\n",
       " 'chr1_629498_630394',\n",
       " 'chr1_631150_632220',\n",
       " 'chr1_633506_634827']"
      ]
     },
     "execution_count": 8,
     "metadata": {},
     "output_type": "execute_result"
    }
   ],
   "source": [
    "atac.var_names.tolist()[0:5]\n"
   ]
  },
  {
   "cell_type": "code",
   "execution_count": null,
   "id": "6e68efd0-6ed5-4c75-be83-9ce4f92d0116",
   "metadata": {
    "tags": []
   },
   "outputs": [],
   "source": [
    "def gtf(gtf_file,\n",
    "        upstream=2000,\n",
    "        feature_type='gene',\n",
    "        gene_biotype='protein_coding',\n",
    "        annotation='ensembl_havana',):\n",
    "    gtf = {}\n",
    "    with open(gtf_file) as f:\n",
    "        for line in f:\n",
    "            if line[0:2] != '#!' and '\\t'+feature_type+'\\t' in line and '\\t'+annotation+'\\t' in line and \"gene_biotype \"+gene_biotype:\n",
    "                line = line.rstrip('\\n').split('\\t')\n",
    "                if line[6] == '-':\n",
    "                    if 'chr'+line[0] not in gtf.keys():\n",
    "                        gtf['chr'+line[0]] = [[int(line[3]), int(line[4])+upstream,line[-1].split(';')[:-1]]]\n",
    "                    else:\n",
    "                        gtf['chr'+line[0]].append([int(line[3]), int(line[4])+upstream,line[-1].split(';')[:-1]])\n",
    "                else:\n",
    "                    if 'chr'+line[0] not in gtf.keys():\n",
    "                        gtf['chr'+line[0]] = [[int(line[3])-upstream, int(line[4]),line[-1].split(';')[:-1]]]\n",
    "                    else:\n",
    "                        gtf['chr'+line[0]].append([int(line[3])-upstream, int(line[4]),line[-1].split(';')[:-1]])\n",
    "    return gtf\n",
    "def raw_adata_features(raw_adata):\n",
    "    raw_adata_features = {}\n",
    "    feature_index = 0\n",
    "    # print(raw_adata.var_names.tolist())\n",
    "    for line in raw_adata.var_names.tolist():\n",
    "        line = line.split('_')\n",
    "        if line[0] not in raw_adata_features.keys():\n",
    "            raw_adata_features[line[0]] = [[int(line[1]),int(line[2]), feature_index]]\n",
    "        else:\n",
    "            raw_adata_features[line[0]].append([int(line[1]),int(line[2]), feature_index])\n",
    "        feature_index += 1\n",
    "    return raw_adata_features\n",
    "\n",
    "def gene_activity_X_(raw_adata, raw_adata_features, gtf):\n",
    "    gene_index = []\n",
    "    gene_activity_X = []\n",
    "    i=0\n",
    "    for chrom in gtf.keys():\n",
    "        print(chrom)\n",
    "        #print(chrom)\n",
    "        if chrom in raw_adata_features.keys():\n",
    "            # print(gtf.keys())\n",
    "\n",
    "            chrom_index = 0\n",
    "            previous_features_index = 0\n",
    "            for gene in gtf[chrom]:\n",
    "                # print(gene[-1])\n",
    "                gene_values = []\n",
    "                gene_start = gene[0]\n",
    "                gene_end = gene[1]\n",
    "                for feature in raw_adata_features[chrom]:\n",
    "                    feature_index = 0\n",
    "                    if (feature[1]<= gene_start): # the window is before the gene. we need to test the next window.\n",
    "                        continue\n",
    "                    elif (gene_end <= feature[0]): # the window is after the gene. we need totest the next gene.\n",
    "                        break\n",
    "                    else: # the window is overlapping the gene. \n",
    "                        gene_values.append(raw_adata.X[:,feature[2]].todense())\n",
    "                if gene_values != []:\n",
    "                    # print(chrom,i)\n",
    "                    i+=1\n",
    "                    gene_activity_X.append(np.sum(gene_values, axis=0))\n",
    "                    gene_index.append(gene[-1])\n",
    "    return gene_activity_X, gene_index\n",
    "\n",
    "\n",
    "\n",
    "gtf_ = gtf('../../../data/reference/Homo_sapiens.GRCh38.109.gtf')\n",
    "raw_f = raw_adata_features(atac)\n",
    "\n",
    "\n"
   ]
  },
  {
   "cell_type": "code",
   "execution_count": 10,
   "id": "2b034a8f-b815-4516-bbc1-a9e8a9d9f6b0",
   "metadata": {
    "tags": []
   },
   "outputs": [],
   "source": [
    "from tqdm import tqdm"
   ]
  },
  {
   "cell_type": "code",
   "execution_count": 11,
   "id": "365fcfe4-8e04-44a5-8205-bf02dfc986cb",
   "metadata": {
    "tags": []
   },
   "outputs": [],
   "source": [
    "def gene_activity_X_vectorized_(raw_adata, raw_adata_features, gtf):\n",
    "\n",
    "    gene_index = []\n",
    "    gene_activity_X = []\n",
    "\n",
    "    for chrom in gtf.keys():\n",
    "        print('Chrom: ', chrom)\n",
    "        if chrom in raw_adata_features.keys():\n",
    "            gene_start = np.array([gene[0] for gene in gtf[chrom]])\n",
    "            gene_end = np.array([gene[1] for gene in gtf[chrom]])\n",
    "            gene_names = np.array([gene[-1] for gene in gtf[chrom]])\n",
    "            raw_adata_chrom_features = raw_adata_features[chrom]\n",
    "            feature_start = np.array([feature[0] for feature in raw_adata_chrom_features])\n",
    "            feature_end = np.array([feature[1] for feature in raw_adata_chrom_features])\n",
    "            feature_indices = np.array([feature[2] for feature in raw_adata_chrom_features])\n",
    "            \n",
    "            for j, (start, end, name) in tqdm(enumerate(zip(gene_start, gene_end, gene_names)), total=len(gene_start),disable = False):\n",
    "                indices = np.logical_and(feature_start <= end, start <= feature_end)\n",
    "                gene_values = raw_adata.X[:, feature_indices[indices]].todense()\n",
    "                if gene_values.size > 0:\n",
    "                    gene_activity_X.append(np.sum(gene_values, axis=1))\n",
    "                    gene_index.append(name)\n",
    "\n",
    "    return gene_activity_X, gene_index"
   ]
  },
  {
   "cell_type": "code",
   "execution_count": 12,
   "id": "099a35e4-e569-4d5b-b1ce-a5a4e4efc6e2",
   "metadata": {
    "tags": []
   },
   "outputs": [
    {
     "name": "stderr",
     "output_type": "stream",
     "text": [
      " VisibleDeprecationWarning:/tmp/ipykernel_3521/884817907.py:11: Creating an ndarray from ragged nested sequences (which is a list-or-tuple of lists-or-tuples-or ndarrays with different lengths or shapes) is deprecated. If you meant to do this, you must specify 'dtype=object' when creating the ndarray.\n"
     ]
    },
    {
     "name": "stdout",
     "output_type": "stream",
     "text": [
      "Chrom:  chr1\n"
     ]
    },
    {
     "name": "stderr",
     "output_type": "stream",
     "text": [
      "100%|███████████████████████████████████████| 2013/2013 [25:12<00:00,  1.33it/s]\n"
     ]
    },
    {
     "name": "stdout",
     "output_type": "stream",
     "text": [
      "Chrom:  chr2\n"
     ]
    },
    {
     "name": "stderr",
     "output_type": "stream",
     "text": [
      "100%|███████████████████████████████████████| 1226/1226 [15:08<00:00,  1.35it/s]\n"
     ]
    },
    {
     "name": "stdout",
     "output_type": "stream",
     "text": [
      "Chrom:  chr3\n"
     ]
    },
    {
     "name": "stderr",
     "output_type": "stream",
     "text": [
      "100%|███████████████████████████████████████| 1042/1042 [13:08<00:00,  1.32it/s]\n"
     ]
    },
    {
     "name": "stdout",
     "output_type": "stream",
     "text": [
      "Chrom:  chr4\n"
     ]
    },
    {
     "name": "stderr",
     "output_type": "stream",
     "text": [
      "100%|█████████████████████████████████████████| 737/737 [09:34<00:00,  1.28it/s]\n"
     ]
    },
    {
     "name": "stdout",
     "output_type": "stream",
     "text": [
      "Chrom:  chr5\n"
     ]
    },
    {
     "name": "stderr",
     "output_type": "stream",
     "text": [
      "100%|█████████████████████████████████████████| 839/839 [10:43<00:00,  1.30it/s]\n"
     ]
    },
    {
     "name": "stdout",
     "output_type": "stream",
     "text": [
      "Chrom:  chr6\n"
     ]
    },
    {
     "name": "stderr",
     "output_type": "stream",
     "text": [
      "100%|███████████████████████████████████████| 1001/1001 [12:23<00:00,  1.35it/s]\n"
     ]
    },
    {
     "name": "stdout",
     "output_type": "stream",
     "text": [
      "Chrom:  chr7\n"
     ]
    },
    {
     "name": "stderr",
     "output_type": "stream",
     "text": [
      "100%|█████████████████████████████████████████| 879/879 [11:21<00:00,  1.29it/s]\n"
     ]
    },
    {
     "name": "stdout",
     "output_type": "stream",
     "text": [
      "Chrom:  chrX\n"
     ]
    },
    {
     "name": "stderr",
     "output_type": "stream",
     "text": [
      "100%|█████████████████████████████████████████| 812/812 [08:25<00:00,  1.61it/s]\n"
     ]
    },
    {
     "name": "stdout",
     "output_type": "stream",
     "text": [
      "Chrom:  chr8\n"
     ]
    },
    {
     "name": "stderr",
     "output_type": "stream",
     "text": [
      "100%|█████████████████████████████████████████| 662/662 [08:39<00:00,  1.27it/s]\n"
     ]
    },
    {
     "name": "stdout",
     "output_type": "stream",
     "text": [
      "Chrom:  chr9\n"
     ]
    },
    {
     "name": "stderr",
     "output_type": "stream",
     "text": [
      "100%|█████████████████████████████████████████| 760/760 [09:34<00:00,  1.32it/s]\n"
     ]
    },
    {
     "name": "stdout",
     "output_type": "stream",
     "text": [
      "Chrom:  chr11\n"
     ]
    },
    {
     "name": "stderr",
     "output_type": "stream",
     "text": [
      "100%|███████████████████████████████████████| 1266/1266 [14:28<00:00,  1.46it/s]\n"
     ]
    },
    {
     "name": "stdout",
     "output_type": "stream",
     "text": [
      "Chrom:  chr10\n"
     ]
    },
    {
     "name": "stderr",
     "output_type": "stream",
     "text": [
      "100%|█████████████████████████████████████████| 728/728 [09:32<00:00,  1.27it/s]\n"
     ]
    },
    {
     "name": "stdout",
     "output_type": "stream",
     "text": [
      "Chrom:  chr12\n"
     ]
    },
    {
     "name": "stderr",
     "output_type": "stream",
     "text": [
      "100%|█████████████████████████████████████████| 999/999 [12:51<00:00,  1.30it/s]\n"
     ]
    },
    {
     "name": "stdout",
     "output_type": "stream",
     "text": [
      "Chrom:  chr13\n"
     ]
    },
    {
     "name": "stderr",
     "output_type": "stream",
     "text": [
      "100%|█████████████████████████████████████████| 320/320 [04:13<00:00,  1.26it/s]\n"
     ]
    },
    {
     "name": "stdout",
     "output_type": "stream",
     "text": [
      "Chrom:  chr14\n"
     ]
    },
    {
     "name": "stderr",
     "output_type": "stream",
     "text": [
      "100%|█████████████████████████████████████████| 616/616 [07:53<00:00,  1.30it/s]\n"
     ]
    },
    {
     "name": "stdout",
     "output_type": "stream",
     "text": [
      "Chrom:  chr15\n"
     ]
    },
    {
     "name": "stderr",
     "output_type": "stream",
     "text": [
      "100%|█████████████████████████████████████████| 580/580 [07:37<00:00,  1.27it/s]\n"
     ]
    },
    {
     "name": "stdout",
     "output_type": "stream",
     "text": [
      "Chrom:  chr16\n"
     ]
    },
    {
     "name": "stderr",
     "output_type": "stream",
     "text": [
      "100%|█████████████████████████████████████████| 830/830 [10:29<00:00,  1.32it/s]\n"
     ]
    },
    {
     "name": "stdout",
     "output_type": "stream",
     "text": [
      "Chrom:  chr17\n"
     ]
    },
    {
     "name": "stderr",
     "output_type": "stream",
     "text": [
      "100%|███████████████████████████████████████| 1143/1143 [14:06<00:00,  1.35it/s]\n"
     ]
    },
    {
     "name": "stdout",
     "output_type": "stream",
     "text": [
      "Chrom:  chr18\n"
     ]
    },
    {
     "name": "stderr",
     "output_type": "stream",
     "text": [
      "100%|█████████████████████████████████████████| 265/265 [03:52<00:00,  1.14it/s]\n"
     ]
    },
    {
     "name": "stdout",
     "output_type": "stream",
     "text": [
      "Chrom:  chr20\n"
     ]
    },
    {
     "name": "stderr",
     "output_type": "stream",
     "text": [
      "100%|█████████████████████████████████████████| 538/538 [07:40<00:00,  1.17it/s]\n"
     ]
    },
    {
     "name": "stdout",
     "output_type": "stream",
     "text": [
      "Chrom:  chr19\n"
     ]
    },
    {
     "name": "stderr",
     "output_type": "stream",
     "text": [
      "100%|███████████████████████████████████████| 1366/1366 [18:34<00:00,  1.23it/s]\n"
     ]
    },
    {
     "name": "stdout",
     "output_type": "stream",
     "text": [
      "Chrom:  chrY\n"
     ]
    },
    {
     "name": "stderr",
     "output_type": "stream",
     "text": [
      "100%|███████████████████████████████████████████| 64/64 [00:11<00:00,  5.60it/s]\n"
     ]
    },
    {
     "name": "stdout",
     "output_type": "stream",
     "text": [
      "Chrom:  chr22\n"
     ]
    },
    {
     "name": "stderr",
     "output_type": "stream",
     "text": [
      "100%|█████████████████████████████████████████| 457/457 [05:57<00:00,  1.28it/s]\n"
     ]
    },
    {
     "name": "stdout",
     "output_type": "stream",
     "text": [
      "Chrom:  chr21\n"
     ]
    },
    {
     "name": "stderr",
     "output_type": "stream",
     "text": [
      "100%|█████████████████████████████████████████| 222/222 [02:37<00:00,  1.41it/s]\n"
     ]
    }
   ],
   "source": [
    "gene_activity_M, gene_index = gene_activity_X_vectorized_(atac, raw_f, gtf_)"
   ]
  },
  {
   "cell_type": "code",
   "execution_count": 13,
   "id": "c1b41d46-fcf1-446a-b5ad-2fc3db324e53",
   "metadata": {
    "tags": []
   },
   "outputs": [],
   "source": [
    "gene_activity_M = np.concatenate(tuple(gene_activity_M), axis=-1)"
   ]
  },
  {
   "cell_type": "code",
   "execution_count": 14,
   "id": "339ae82e-44ac-4c8c-9e3e-05643599532b",
   "metadata": {
    "tags": []
   },
   "outputs": [
    {
     "name": "stderr",
     "output_type": "stream",
     "text": [
      " VisibleDeprecationWarning:/home/marioam/miniconda3/envs/General_env/lib/python3.9/site-packages/numpy/lib/npyio.py:518: Creating an ndarray from ragged nested sequences (which is a list-or-tuple of lists-or-tuples-or ndarrays with different lengths or shapes) is deprecated. If you meant to do this, you must specify 'dtype=object' when creating the ndarray.\n"
     ]
    }
   ],
   "source": [
    "np.save('./gene_activity.npy', gene_activity_M)\n",
    "np.save('./gene_index.npy', gene_index)"
   ]
  },
  {
   "cell_type": "code",
   "execution_count": null,
   "id": "ae0cd5e4-5149-4d1e-8c3e-efdf622d9aa1",
   "metadata": {},
   "outputs": [
    {
     "name": "stderr",
     "output_type": "stream",
     "text": [
      " UserWarning:/home/marioam/miniconda3/envs/General_env/lib/python3.9/site-packages/anndata/_core/anndata.py:1830: Variable names are not unique. To make them unique, call `.var_names_make_unique`.\n"
     ]
    }
   ],
   "source": [
    "\n",
    "\n",
    "feature_type='gene',\n",
    "raw_adata = atac\n",
    "raw_adata_features = raw_f\n",
    "# get the variable metadata\n",
    "if feature_type=='transcript':\n",
    "    gene_name = [x[7].lstrip(' transcript_name \"').rstrip('\"') for x in gene_index]\n",
    "else:\n",
    "    gene_name = [x[2].lstrip(' gene_name \"').rstrip('\"') for x in gene_index]\n",
    "\n",
    "metadata_genes = {'gene_id' : [],\n",
    "                  'transcript_id' : [],\n",
    "                  'gene_type' : [],\n",
    "                  'gene_name' : [],\n",
    "                  'transcript_type' : [],\n",
    "                  'transcript_name' : [],\n",
    "                  'protein_id' : []}\n",
    "\n",
    "for line in gene_index:\n",
    "    dico_line = {}\n",
    "    for element in line:\n",
    "        if ' \"' in element:\n",
    "            dico_line[element.rstrip('\"').lstrip(\" \").split(' \"')[0]] = element.rstrip('\"').lstrip(\" \").split(' \"')[1]\n",
    "\n",
    "    for key in metadata_genes.keys():\n",
    "        if key in dico_line.keys():\n",
    "            metadata_genes[key].append(dico_line[key])\n",
    "        else:\n",
    "            metadata_genes[key].append('NA')  \n",
    "\n",
    "dataframe_genes = pd.DataFrame.from_dict(metadata_genes)\n",
    "dataframe_genes.index = gene_name\n",
    "\n",
    "#adata.layers[layer_name] = ad.AnnData(gene_activity_X, var=dataframe_genes, obs=raw_adata.obs)\n",
    "gene_adata = sc.AnnData(gene_activity_M, var=dataframe_genes, obs=raw_adata.obs)\n",
    "gene_adata.uns = atac.uns.copy()\n",
    "gene_adata.obsm = atac.obsm.copy()\n",
    "gene_adata.obsp = atac.obsp.copy()\n",
    "gene_adata.write('objects/gene_activity_from_RNA.h5ad')\n",
    "gene_adata.write('objects/GA_atac.h5ad')"
   ]
  }
 ],
 "metadata": {
  "kernelspec": {
   "display_name": "General_env",
   "language": "python",
   "name": "general_env"
  },
  "language_info": {
   "codemirror_mode": {
    "name": "ipython",
    "version": 3
   },
   "file_extension": ".py",
   "mimetype": "text/x-python",
   "name": "python",
   "nbconvert_exporter": "python",
   "pygments_lexer": "ipython3",
   "version": "3.9.7"
  }
 },
 "nbformat": 4,
 "nbformat_minor": 5
}
