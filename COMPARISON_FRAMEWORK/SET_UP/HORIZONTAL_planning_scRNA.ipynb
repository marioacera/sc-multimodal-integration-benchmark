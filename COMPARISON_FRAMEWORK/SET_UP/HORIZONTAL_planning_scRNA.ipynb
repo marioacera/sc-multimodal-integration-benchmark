{
 "cells": [
  {
   "cell_type": "code",
   "execution_count": 1,
   "id": "0d5164c8-779d-42dc-8fbf-1886aa65b403",
   "metadata": {
    "tags": []
   },
   "outputs": [],
   "source": [
    "import warnings\n",
    "warnings.simplefilter(action='ignore', category=FutureWarning)\n",
    "import os\n",
    "\n",
    "import scanpy as sc\n",
    "import anndata\n",
    "import pandas as pd\n",
    "import numpy as np\n",
    "import matplotlib.pyplot as plt\n",
    "import matplotlib as mpl\n",
    "from sklearn.metrics import adjusted_rand_score as ARI\n",
    "from sklearn.metrics import adjusted_mutual_info_score as AMI\n",
    "\n",
    "from scipy import sparse\n",
    "from matplotlib import rcParams\n",
    "rcParams['pdf.fonttype'] = 42 # enables correct plotting of text\n",
    "rcParams['figure.figsize'] = (12,12)\n",
    "import seaborn as sns\n",
    "from scipy import sparse\n",
    "\n",
    "sc.settings.verbosity =0"
   ]
  },
  {
   "cell_type": "code",
   "execution_count": 5,
   "id": "a1e1058e-ef3a-48a9-ab97-fb805fce665e",
   "metadata": {
    "tags": []
   },
   "outputs": [],
   "source": [
    "mod ='scRNA'"
   ]
  },
  {
   "cell_type": "code",
   "execution_count": 6,
   "id": "d0d7aa36-251f-4136-82c2-0ab8a8000879",
   "metadata": {
    "tags": []
   },
   "outputs": [],
   "source": [
    "adata = sc.read('../MODALITY_INTEGRATION/objects/Integration_2ndQC_metadata.h5ad', compression='gzip')"
   ]
  },
  {
   "cell_type": "code",
   "execution_count": 7,
   "id": "38a39118-1b06-4005-8c6b-8d5349124103",
   "metadata": {
    "tags": []
   },
   "outputs": [],
   "source": [
    "samples_to_filter = ['lib_776','lib_23']#,'lib_03','lib_420','lib_49','lib_68']#,'lib_36','lib_38','lib_34']"
   ]
  },
  {
   "cell_type": "code",
   "execution_count": 8,
   "id": "a817d230-8585-4a40-ab90-3ac57f9d4e95",
   "metadata": {},
   "outputs": [],
   "source": [
    "adata = adata[~adata.obs['sample'].isin(samples_to_filter)].copy()"
   ]
  },
  {
   "cell_type": "code",
   "execution_count": 9,
   "id": "7f173849-cea9-4a15-810b-ec862b2124b6",
   "metadata": {
    "tags": []
   },
   "outputs": [],
   "source": [
    "adata.X = adata.layers['counts'].copy()"
   ]
  },
  {
   "cell_type": "code",
   "execution_count": 10,
   "id": "36ca0b57-70f3-448e-a168-8d525170e2e5",
   "metadata": {
    "tags": []
   },
   "outputs": [
    {
     "data": {
      "text/plain": [
       "snRNA      69036\n",
       "scRNA      65705\n",
       "scRNA5p    11265\n",
       "Name: batch, dtype: int64"
      ]
     },
     "execution_count": 10,
     "metadata": {},
     "output_type": "execute_result"
    }
   ],
   "source": [
    "adata.obs['batch'].value_counts()"
   ]
  },
  {
   "cell_type": "code",
   "execution_count": 11,
   "id": "66d5d270-0cb1-4e27-b5df-efa79b66a7e4",
   "metadata": {
    "tags": []
   },
   "outputs": [],
   "source": [
    "adata = adata[adata.obs['batch'].isin(['scRNA'])].copy()"
   ]
  },
  {
   "cell_type": "code",
   "execution_count": 12,
   "id": "0e685a46-fda8-4e8c-a2a8-f8ffab74a5af",
   "metadata": {
    "tags": []
   },
   "outputs": [
    {
     "data": {
      "text/html": [
       "<div>\n",
       "<style scoped>\n",
       "    .dataframe tbody tr th:only-of-type {\n",
       "        vertical-align: middle;\n",
       "    }\n",
       "\n",
       "    .dataframe tbody tr th {\n",
       "        vertical-align: top;\n",
       "    }\n",
       "\n",
       "    .dataframe thead th {\n",
       "        text-align: right;\n",
       "    }\n",
       "</style>\n",
       "<table border=\"1\" class=\"dataframe\">\n",
       "  <thead>\n",
       "    <tr style=\"text-align: right;\">\n",
       "      <th></th>\n",
       "      <th>sample</th>\n",
       "      <th>batch</th>\n",
       "      <th>n_counts</th>\n",
       "      <th>n_genes_by_counts</th>\n",
       "      <th>total_counts</th>\n",
       "      <th>total_counts_mt</th>\n",
       "      <th>pct_counts_mt</th>\n",
       "      <th>total_counts_rb</th>\n",
       "      <th>pct_counts_rb</th>\n",
       "      <th>Deepscore_external</th>\n",
       "      <th>Doublet_Detection_doublets_scRNA</th>\n",
       "      <th>Doublet_Detection_doublets_score_scRNA</th>\n",
       "      <th>Doublet_Detection_doublets_scRNA5p</th>\n",
       "      <th>Doublet_Detection_doublets_score_scRNA5p</th>\n",
       "      <th>AMULET_doublets</th>\n",
       "      <th>AMULET_pval</th>\n",
       "      <th>AMULET_qval</th>\n",
       "      <th>Doublet_Detection_doublets_snRNA</th>\n",
       "      <th>Doublet_Detection_doublets_score_snRNA</th>\n",
       "    </tr>\n",
       "  </thead>\n",
       "  <tbody>\n",
       "    <tr>\n",
       "      <th>AAAGAACAGGTAAAGG-1-0-scRNA</th>\n",
       "      <td>lib_55</td>\n",
       "      <td>scRNA</td>\n",
       "      <td>1583.0</td>\n",
       "      <td>785</td>\n",
       "      <td>1583.0</td>\n",
       "      <td>661.0</td>\n",
       "      <td>41.756161</td>\n",
       "      <td>72.0</td>\n",
       "      <td>4.548326</td>\n",
       "      <td>Unclassified</td>\n",
       "      <td>1.0</td>\n",
       "      <td>57.652243</td>\n",
       "      <td>NaN</td>\n",
       "      <td>NaN</td>\n",
       "      <td>False</td>\n",
       "      <td>NaN</td>\n",
       "      <td>NaN</td>\n",
       "      <td>NaN</td>\n",
       "      <td>NaN</td>\n",
       "    </tr>\n",
       "    <tr>\n",
       "      <th>AAAGTCCCAATCGAAA-1-0-scRNA</th>\n",
       "      <td>lib_55</td>\n",
       "      <td>scRNA</td>\n",
       "      <td>6136.0</td>\n",
       "      <td>2394</td>\n",
       "      <td>6136.0</td>\n",
       "      <td>1248.0</td>\n",
       "      <td>20.338982</td>\n",
       "      <td>872.0</td>\n",
       "      <td>14.211212</td>\n",
       "      <td>Unclassified</td>\n",
       "      <td>0.0</td>\n",
       "      <td>38.928254</td>\n",
       "      <td>NaN</td>\n",
       "      <td>NaN</td>\n",
       "      <td>False</td>\n",
       "      <td>NaN</td>\n",
       "      <td>NaN</td>\n",
       "      <td>NaN</td>\n",
       "      <td>NaN</td>\n",
       "    </tr>\n",
       "    <tr>\n",
       "      <th>AACAAGAAGACCTTTG-1-0-scRNA</th>\n",
       "      <td>lib_55</td>\n",
       "      <td>scRNA</td>\n",
       "      <td>2563.0</td>\n",
       "      <td>792</td>\n",
       "      <td>2563.0</td>\n",
       "      <td>1532.0</td>\n",
       "      <td>59.773701</td>\n",
       "      <td>146.0</td>\n",
       "      <td>5.696449</td>\n",
       "      <td>Unclassified</td>\n",
       "      <td>0.0</td>\n",
       "      <td>38.444448</td>\n",
       "      <td>NaN</td>\n",
       "      <td>NaN</td>\n",
       "      <td>False</td>\n",
       "      <td>NaN</td>\n",
       "      <td>NaN</td>\n",
       "      <td>NaN</td>\n",
       "      <td>NaN</td>\n",
       "    </tr>\n",
       "    <tr>\n",
       "      <th>AACCAACGTATCCCTC-1-0-scRNA</th>\n",
       "      <td>lib_55</td>\n",
       "      <td>scRNA</td>\n",
       "      <td>1546.0</td>\n",
       "      <td>477</td>\n",
       "      <td>1546.0</td>\n",
       "      <td>889.0</td>\n",
       "      <td>57.503235</td>\n",
       "      <td>120.0</td>\n",
       "      <td>7.761966</td>\n",
       "      <td>Unclassified</td>\n",
       "      <td>0.0</td>\n",
       "      <td>28.275289</td>\n",
       "      <td>NaN</td>\n",
       "      <td>NaN</td>\n",
       "      <td>False</td>\n",
       "      <td>NaN</td>\n",
       "      <td>NaN</td>\n",
       "      <td>NaN</td>\n",
       "      <td>NaN</td>\n",
       "    </tr>\n",
       "    <tr>\n",
       "      <th>AAGACTCAGGTAAACT-1-0-scRNA</th>\n",
       "      <td>lib_55</td>\n",
       "      <td>scRNA</td>\n",
       "      <td>1222.0</td>\n",
       "      <td>310</td>\n",
       "      <td>1222.0</td>\n",
       "      <td>767.0</td>\n",
       "      <td>62.765957</td>\n",
       "      <td>138.0</td>\n",
       "      <td>11.292962</td>\n",
       "      <td>Unclassified</td>\n",
       "      <td>0.0</td>\n",
       "      <td>28.275289</td>\n",
       "      <td>NaN</td>\n",
       "      <td>NaN</td>\n",
       "      <td>False</td>\n",
       "      <td>NaN</td>\n",
       "      <td>NaN</td>\n",
       "      <td>NaN</td>\n",
       "      <td>NaN</td>\n",
       "    </tr>\n",
       "    <tr>\n",
       "      <th>...</th>\n",
       "      <td>...</td>\n",
       "      <td>...</td>\n",
       "      <td>...</td>\n",
       "      <td>...</td>\n",
       "      <td>...</td>\n",
       "      <td>...</td>\n",
       "      <td>...</td>\n",
       "      <td>...</td>\n",
       "      <td>...</td>\n",
       "      <td>...</td>\n",
       "      <td>...</td>\n",
       "      <td>...</td>\n",
       "      <td>...</td>\n",
       "      <td>...</td>\n",
       "      <td>...</td>\n",
       "      <td>...</td>\n",
       "      <td>...</td>\n",
       "      <td>...</td>\n",
       "      <td>...</td>\n",
       "    </tr>\n",
       "    <tr>\n",
       "      <th>TTGCCTGTCTAGCATG-1-19-scRNA</th>\n",
       "      <td>lib_49</td>\n",
       "      <td>scRNA</td>\n",
       "      <td>1874.0</td>\n",
       "      <td>736</td>\n",
       "      <td>1874.0</td>\n",
       "      <td>681.0</td>\n",
       "      <td>36.339382</td>\n",
       "      <td>235.0</td>\n",
       "      <td>12.540022</td>\n",
       "      <td>PT</td>\n",
       "      <td>0.0</td>\n",
       "      <td>0.024093</td>\n",
       "      <td>NaN</td>\n",
       "      <td>NaN</td>\n",
       "      <td>False</td>\n",
       "      <td>NaN</td>\n",
       "      <td>NaN</td>\n",
       "      <td>NaN</td>\n",
       "      <td>NaN</td>\n",
       "    </tr>\n",
       "    <tr>\n",
       "      <th>TTGTTGTGTTTCACTT-1-19-scRNA</th>\n",
       "      <td>lib_49</td>\n",
       "      <td>scRNA</td>\n",
       "      <td>5209.0</td>\n",
       "      <td>2163</td>\n",
       "      <td>5209.0</td>\n",
       "      <td>1274.0</td>\n",
       "      <td>24.457668</td>\n",
       "      <td>133.0</td>\n",
       "      <td>2.553273</td>\n",
       "      <td>PT</td>\n",
       "      <td>0.0</td>\n",
       "      <td>1.626684</td>\n",
       "      <td>NaN</td>\n",
       "      <td>NaN</td>\n",
       "      <td>False</td>\n",
       "      <td>NaN</td>\n",
       "      <td>NaN</td>\n",
       "      <td>NaN</td>\n",
       "      <td>NaN</td>\n",
       "    </tr>\n",
       "    <tr>\n",
       "      <th>TTGTTGTTCGAAGCCC-1-19-scRNA</th>\n",
       "      <td>lib_49</td>\n",
       "      <td>scRNA</td>\n",
       "      <td>1127.0</td>\n",
       "      <td>633</td>\n",
       "      <td>1127.0</td>\n",
       "      <td>379.0</td>\n",
       "      <td>33.629105</td>\n",
       "      <td>70.0</td>\n",
       "      <td>6.211180</td>\n",
       "      <td>PT</td>\n",
       "      <td>0.0</td>\n",
       "      <td>0.024093</td>\n",
       "      <td>NaN</td>\n",
       "      <td>NaN</td>\n",
       "      <td>False</td>\n",
       "      <td>NaN</td>\n",
       "      <td>NaN</td>\n",
       "      <td>NaN</td>\n",
       "      <td>NaN</td>\n",
       "    </tr>\n",
       "    <tr>\n",
       "      <th>TTTACTGTCAACGCTA-1-19-scRNA</th>\n",
       "      <td>lib_49</td>\n",
       "      <td>scRNA</td>\n",
       "      <td>2603.0</td>\n",
       "      <td>1191</td>\n",
       "      <td>2603.0</td>\n",
       "      <td>502.0</td>\n",
       "      <td>19.285440</td>\n",
       "      <td>253.0</td>\n",
       "      <td>9.719554</td>\n",
       "      <td>PT</td>\n",
       "      <td>0.0</td>\n",
       "      <td>0.024093</td>\n",
       "      <td>NaN</td>\n",
       "      <td>NaN</td>\n",
       "      <td>False</td>\n",
       "      <td>NaN</td>\n",
       "      <td>NaN</td>\n",
       "      <td>NaN</td>\n",
       "      <td>NaN</td>\n",
       "    </tr>\n",
       "    <tr>\n",
       "      <th>TTTCACAAGAAAGTCT-1-19-scRNA</th>\n",
       "      <td>lib_49</td>\n",
       "      <td>scRNA</td>\n",
       "      <td>1232.0</td>\n",
       "      <td>564</td>\n",
       "      <td>1232.0</td>\n",
       "      <td>321.0</td>\n",
       "      <td>26.055197</td>\n",
       "      <td>205.0</td>\n",
       "      <td>16.639610</td>\n",
       "      <td>PT</td>\n",
       "      <td>0.0</td>\n",
       "      <td>0.024093</td>\n",
       "      <td>NaN</td>\n",
       "      <td>NaN</td>\n",
       "      <td>False</td>\n",
       "      <td>NaN</td>\n",
       "      <td>NaN</td>\n",
       "      <td>NaN</td>\n",
       "      <td>NaN</td>\n",
       "    </tr>\n",
       "  </tbody>\n",
       "</table>\n",
       "<p>65705 rows × 19 columns</p>\n",
       "</div>"
      ],
      "text/plain": [
       "                             sample  batch  n_counts  n_genes_by_counts  \\\n",
       "AAAGAACAGGTAAAGG-1-0-scRNA   lib_55  scRNA    1583.0                785   \n",
       "AAAGTCCCAATCGAAA-1-0-scRNA   lib_55  scRNA    6136.0               2394   \n",
       "AACAAGAAGACCTTTG-1-0-scRNA   lib_55  scRNA    2563.0                792   \n",
       "AACCAACGTATCCCTC-1-0-scRNA   lib_55  scRNA    1546.0                477   \n",
       "AAGACTCAGGTAAACT-1-0-scRNA   lib_55  scRNA    1222.0                310   \n",
       "...                             ...    ...       ...                ...   \n",
       "TTGCCTGTCTAGCATG-1-19-scRNA  lib_49  scRNA    1874.0                736   \n",
       "TTGTTGTGTTTCACTT-1-19-scRNA  lib_49  scRNA    5209.0               2163   \n",
       "TTGTTGTTCGAAGCCC-1-19-scRNA  lib_49  scRNA    1127.0                633   \n",
       "TTTACTGTCAACGCTA-1-19-scRNA  lib_49  scRNA    2603.0               1191   \n",
       "TTTCACAAGAAAGTCT-1-19-scRNA  lib_49  scRNA    1232.0                564   \n",
       "\n",
       "                             total_counts  total_counts_mt  pct_counts_mt  \\\n",
       "AAAGAACAGGTAAAGG-1-0-scRNA         1583.0            661.0      41.756161   \n",
       "AAAGTCCCAATCGAAA-1-0-scRNA         6136.0           1248.0      20.338982   \n",
       "AACAAGAAGACCTTTG-1-0-scRNA         2563.0           1532.0      59.773701   \n",
       "AACCAACGTATCCCTC-1-0-scRNA         1546.0            889.0      57.503235   \n",
       "AAGACTCAGGTAAACT-1-0-scRNA         1222.0            767.0      62.765957   \n",
       "...                                   ...              ...            ...   \n",
       "TTGCCTGTCTAGCATG-1-19-scRNA        1874.0            681.0      36.339382   \n",
       "TTGTTGTGTTTCACTT-1-19-scRNA        5209.0           1274.0      24.457668   \n",
       "TTGTTGTTCGAAGCCC-1-19-scRNA        1127.0            379.0      33.629105   \n",
       "TTTACTGTCAACGCTA-1-19-scRNA        2603.0            502.0      19.285440   \n",
       "TTTCACAAGAAAGTCT-1-19-scRNA        1232.0            321.0      26.055197   \n",
       "\n",
       "                             total_counts_rb  pct_counts_rb  \\\n",
       "AAAGAACAGGTAAAGG-1-0-scRNA              72.0       4.548326   \n",
       "AAAGTCCCAATCGAAA-1-0-scRNA             872.0      14.211212   \n",
       "AACAAGAAGACCTTTG-1-0-scRNA             146.0       5.696449   \n",
       "AACCAACGTATCCCTC-1-0-scRNA             120.0       7.761966   \n",
       "AAGACTCAGGTAAACT-1-0-scRNA             138.0      11.292962   \n",
       "...                                      ...            ...   \n",
       "TTGCCTGTCTAGCATG-1-19-scRNA            235.0      12.540022   \n",
       "TTGTTGTGTTTCACTT-1-19-scRNA            133.0       2.553273   \n",
       "TTGTTGTTCGAAGCCC-1-19-scRNA             70.0       6.211180   \n",
       "TTTACTGTCAACGCTA-1-19-scRNA            253.0       9.719554   \n",
       "TTTCACAAGAAAGTCT-1-19-scRNA            205.0      16.639610   \n",
       "\n",
       "                            Deepscore_external  \\\n",
       "AAAGAACAGGTAAAGG-1-0-scRNA        Unclassified   \n",
       "AAAGTCCCAATCGAAA-1-0-scRNA        Unclassified   \n",
       "AACAAGAAGACCTTTG-1-0-scRNA        Unclassified   \n",
       "AACCAACGTATCCCTC-1-0-scRNA        Unclassified   \n",
       "AAGACTCAGGTAAACT-1-0-scRNA        Unclassified   \n",
       "...                                        ...   \n",
       "TTGCCTGTCTAGCATG-1-19-scRNA                 PT   \n",
       "TTGTTGTGTTTCACTT-1-19-scRNA                 PT   \n",
       "TTGTTGTTCGAAGCCC-1-19-scRNA                 PT   \n",
       "TTTACTGTCAACGCTA-1-19-scRNA                 PT   \n",
       "TTTCACAAGAAAGTCT-1-19-scRNA                 PT   \n",
       "\n",
       "                             Doublet_Detection_doublets_scRNA  \\\n",
       "AAAGAACAGGTAAAGG-1-0-scRNA                                1.0   \n",
       "AAAGTCCCAATCGAAA-1-0-scRNA                                0.0   \n",
       "AACAAGAAGACCTTTG-1-0-scRNA                                0.0   \n",
       "AACCAACGTATCCCTC-1-0-scRNA                                0.0   \n",
       "AAGACTCAGGTAAACT-1-0-scRNA                                0.0   \n",
       "...                                                       ...   \n",
       "TTGCCTGTCTAGCATG-1-19-scRNA                               0.0   \n",
       "TTGTTGTGTTTCACTT-1-19-scRNA                               0.0   \n",
       "TTGTTGTTCGAAGCCC-1-19-scRNA                               0.0   \n",
       "TTTACTGTCAACGCTA-1-19-scRNA                               0.0   \n",
       "TTTCACAAGAAAGTCT-1-19-scRNA                               0.0   \n",
       "\n",
       "                             Doublet_Detection_doublets_score_scRNA  \\\n",
       "AAAGAACAGGTAAAGG-1-0-scRNA                                57.652243   \n",
       "AAAGTCCCAATCGAAA-1-0-scRNA                                38.928254   \n",
       "AACAAGAAGACCTTTG-1-0-scRNA                                38.444448   \n",
       "AACCAACGTATCCCTC-1-0-scRNA                                28.275289   \n",
       "AAGACTCAGGTAAACT-1-0-scRNA                                28.275289   \n",
       "...                                                             ...   \n",
       "TTGCCTGTCTAGCATG-1-19-scRNA                                0.024093   \n",
       "TTGTTGTGTTTCACTT-1-19-scRNA                                1.626684   \n",
       "TTGTTGTTCGAAGCCC-1-19-scRNA                                0.024093   \n",
       "TTTACTGTCAACGCTA-1-19-scRNA                                0.024093   \n",
       "TTTCACAAGAAAGTCT-1-19-scRNA                                0.024093   \n",
       "\n",
       "                             Doublet_Detection_doublets_scRNA5p  \\\n",
       "AAAGAACAGGTAAAGG-1-0-scRNA                                  NaN   \n",
       "AAAGTCCCAATCGAAA-1-0-scRNA                                  NaN   \n",
       "AACAAGAAGACCTTTG-1-0-scRNA                                  NaN   \n",
       "AACCAACGTATCCCTC-1-0-scRNA                                  NaN   \n",
       "AAGACTCAGGTAAACT-1-0-scRNA                                  NaN   \n",
       "...                                                         ...   \n",
       "TTGCCTGTCTAGCATG-1-19-scRNA                                 NaN   \n",
       "TTGTTGTGTTTCACTT-1-19-scRNA                                 NaN   \n",
       "TTGTTGTTCGAAGCCC-1-19-scRNA                                 NaN   \n",
       "TTTACTGTCAACGCTA-1-19-scRNA                                 NaN   \n",
       "TTTCACAAGAAAGTCT-1-19-scRNA                                 NaN   \n",
       "\n",
       "                             Doublet_Detection_doublets_score_scRNA5p  \\\n",
       "AAAGAACAGGTAAAGG-1-0-scRNA                                        NaN   \n",
       "AAAGTCCCAATCGAAA-1-0-scRNA                                        NaN   \n",
       "AACAAGAAGACCTTTG-1-0-scRNA                                        NaN   \n",
       "AACCAACGTATCCCTC-1-0-scRNA                                        NaN   \n",
       "AAGACTCAGGTAAACT-1-0-scRNA                                        NaN   \n",
       "...                                                               ...   \n",
       "TTGCCTGTCTAGCATG-1-19-scRNA                                       NaN   \n",
       "TTGTTGTGTTTCACTT-1-19-scRNA                                       NaN   \n",
       "TTGTTGTTCGAAGCCC-1-19-scRNA                                       NaN   \n",
       "TTTACTGTCAACGCTA-1-19-scRNA                                       NaN   \n",
       "TTTCACAAGAAAGTCT-1-19-scRNA                                       NaN   \n",
       "\n",
       "                            AMULET_doublets  AMULET_pval  AMULET_qval  \\\n",
       "AAAGAACAGGTAAAGG-1-0-scRNA            False          NaN          NaN   \n",
       "AAAGTCCCAATCGAAA-1-0-scRNA            False          NaN          NaN   \n",
       "AACAAGAAGACCTTTG-1-0-scRNA            False          NaN          NaN   \n",
       "AACCAACGTATCCCTC-1-0-scRNA            False          NaN          NaN   \n",
       "AAGACTCAGGTAAACT-1-0-scRNA            False          NaN          NaN   \n",
       "...                                     ...          ...          ...   \n",
       "TTGCCTGTCTAGCATG-1-19-scRNA           False          NaN          NaN   \n",
       "TTGTTGTGTTTCACTT-1-19-scRNA           False          NaN          NaN   \n",
       "TTGTTGTTCGAAGCCC-1-19-scRNA           False          NaN          NaN   \n",
       "TTTACTGTCAACGCTA-1-19-scRNA           False          NaN          NaN   \n",
       "TTTCACAAGAAAGTCT-1-19-scRNA           False          NaN          NaN   \n",
       "\n",
       "                             Doublet_Detection_doublets_snRNA  \\\n",
       "AAAGAACAGGTAAAGG-1-0-scRNA                                NaN   \n",
       "AAAGTCCCAATCGAAA-1-0-scRNA                                NaN   \n",
       "AACAAGAAGACCTTTG-1-0-scRNA                                NaN   \n",
       "AACCAACGTATCCCTC-1-0-scRNA                                NaN   \n",
       "AAGACTCAGGTAAACT-1-0-scRNA                                NaN   \n",
       "...                                                       ...   \n",
       "TTGCCTGTCTAGCATG-1-19-scRNA                               NaN   \n",
       "TTGTTGTGTTTCACTT-1-19-scRNA                               NaN   \n",
       "TTGTTGTTCGAAGCCC-1-19-scRNA                               NaN   \n",
       "TTTACTGTCAACGCTA-1-19-scRNA                               NaN   \n",
       "TTTCACAAGAAAGTCT-1-19-scRNA                               NaN   \n",
       "\n",
       "                             Doublet_Detection_doublets_score_snRNA  \n",
       "AAAGAACAGGTAAAGG-1-0-scRNA                                      NaN  \n",
       "AAAGTCCCAATCGAAA-1-0-scRNA                                      NaN  \n",
       "AACAAGAAGACCTTTG-1-0-scRNA                                      NaN  \n",
       "AACCAACGTATCCCTC-1-0-scRNA                                      NaN  \n",
       "AAGACTCAGGTAAACT-1-0-scRNA                                      NaN  \n",
       "...                                                             ...  \n",
       "TTGCCTGTCTAGCATG-1-19-scRNA                                     NaN  \n",
       "TTGTTGTGTTTCACTT-1-19-scRNA                                     NaN  \n",
       "TTGTTGTTCGAAGCCC-1-19-scRNA                                     NaN  \n",
       "TTTACTGTCAACGCTA-1-19-scRNA                                     NaN  \n",
       "TTTCACAAGAAAGTCT-1-19-scRNA                                     NaN  \n",
       "\n",
       "[65705 rows x 19 columns]"
      ]
     },
     "execution_count": 12,
     "metadata": {},
     "output_type": "execute_result"
    }
   ],
   "source": [
    "adata.obs"
   ]
  },
  {
   "cell_type": "code",
   "execution_count": 13,
   "id": "ea8b1ef4-fe78-428d-a3b0-c939297568c9",
   "metadata": {
    "tags": []
   },
   "outputs": [
    {
     "name": "stderr",
     "output_type": "stream",
     "text": [
      "/tmp/ipykernel_50364/3819850974.py:1: DtypeWarning: Columns (4,5,6,11,13) have mixed types. Specify dtype option on import or set low_memory=False.\n",
      "  obs = pd.read_csv('../MODALITY_INTEGRATION/Multi_obs.csv', index_col=0)\n"
     ]
    }
   ],
   "source": [
    "obs = pd.read_csv('../MODALITY_INTEGRATION/Multi_obs.csv', index_col=0)"
   ]
  },
  {
   "cell_type": "code",
   "execution_count": 14,
   "id": "76a360f8-c078-48a1-96f5-9fe7ae59d5ba",
   "metadata": {
    "tags": []
   },
   "outputs": [],
   "source": [
    "obs = obs[obs['batch'].isin(['scRNA'])]\n",
    "obs.index = [i.split('_')[0] for i in obs.index]"
   ]
  },
  {
   "cell_type": "code",
   "execution_count": 15,
   "id": "7e1efaeb-350d-43dc-b877-ebf8cab20e7b",
   "metadata": {
    "tags": []
   },
   "outputs": [
    {
     "data": {
      "text/plain": [
       "True     43502\n",
       "False    22203\n",
       "Name: In_final_obj, dtype: int64"
      ]
     },
     "execution_count": 15,
     "metadata": {},
     "output_type": "execute_result"
    }
   ],
   "source": [
    "adata.obs['In_final_obj'] = [i in obs.index for i in adata.obs.index]\n",
    "adata.obs['In_final_obj'].value_counts()"
   ]
  },
  {
   "cell_type": "code",
   "execution_count": 16,
   "id": "d2b23b86-0db7-4d17-aef2-6cc2ea67ae29",
   "metadata": {
    "tags": []
   },
   "outputs": [],
   "source": [
    "adata.obs['In_final_obj'] = adata.obs['In_final_obj'].astype('category')"
   ]
  },
  {
   "cell_type": "code",
   "execution_count": 18,
   "id": "dc2c6d55-397f-485c-8e9e-718c7382428e",
   "metadata": {
    "tags": []
   },
   "outputs": [],
   "source": [
    "adata = adata[adata.obs['In_final_obj'].astype(bool)].copy()"
   ]
  },
  {
   "cell_type": "code",
   "execution_count": 19,
   "id": "99b1a457-931c-4716-9398-39433b0334c2",
   "metadata": {
    "tags": []
   },
   "outputs": [
    {
     "data": {
      "text/plain": [
       "lib_19     5574\n",
       "lib_68     4218\n",
       "lib_38     3627\n",
       "lib_51     3513\n",
       "lib_49     3246\n",
       "lib_420    2743\n",
       "lib_15     2426\n",
       "lib_56     2323\n",
       "lib_16     2126\n",
       "lib_03     1968\n",
       "lib_57     1931\n",
       "lib_09     1813\n",
       "lib_29     1792\n",
       "lib_55     1689\n",
       "lib_20     1673\n",
       "lib_10     1578\n",
       "lib_36     1002\n",
       "lib_34      260\n",
       "Name: sample, dtype: int64"
      ]
     },
     "execution_count": 19,
     "metadata": {},
     "output_type": "execute_result"
    }
   ],
   "source": [
    "adata.obs['sample'].value_counts()"
   ]
  },
  {
   "cell_type": "code",
   "execution_count": null,
   "id": "11cf688a-35dd-49b9-9e66-4f8f673c0223",
   "metadata": {},
   "outputs": [],
   "source": [
    "## Filter Out cell with less than 500 genes - In single cell 3' less than 500 genes is a clear indicative of low quality - We dont want this confounding factor in our analysis"
   ]
  },
  {
   "cell_type": "code",
   "execution_count": 21,
   "id": "81c47ec4-3539-4d42-8b7a-48b3858c3478",
   "metadata": {
    "tags": []
   },
   "outputs": [
    {
     "data": {
      "text/plain": [
       "7989"
      ]
     },
     "execution_count": 21,
     "metadata": {},
     "output_type": "execute_result"
    }
   ],
   "source": [
    "filter_mask = (adata.obs['n_genes_by_counts'] < 500 & ~adata.obs['Deepscore_external'].isin(['LEUK']))\n",
    "np.sum(filter_mask)"
   ]
  },
  {
   "cell_type": "code",
   "execution_count": 22,
   "id": "8ec01c8f-6126-427a-b882-f46e31ceb81f",
   "metadata": {
    "tags": []
   },
   "outputs": [
    {
     "data": {
      "text/plain": [
       "AnnData object with n_obs × n_vars = 35513 × 38224\n",
       "    obs: 'sample', 'batch', 'n_counts', 'n_genes_by_counts', 'total_counts', 'total_counts_mt', 'pct_counts_mt', 'total_counts_rb', 'pct_counts_rb', 'Deepscore_external', 'Doublet_Detection_doublets_scRNA', 'Doublet_Detection_doublets_score_scRNA', 'Doublet_Detection_doublets_scRNA5p', 'Doublet_Detection_doublets_score_scRNA5p', 'AMULET_doublets', 'AMULET_pval', 'AMULET_qval', 'Doublet_Detection_doublets_snRNA', 'Doublet_Detection_doublets_score_snRNA', 'In_final_obj', 'Deepscore'\n",
       "    uns: 'batch_colors', 'log1p', 'neighbors', 'pca', 'sample_colors', 'umap'\n",
       "    obsm: 'X_pca', 'X_umap'\n",
       "    varm: 'PCs'\n",
       "    layers: 'counts'\n",
       "    obsp: 'connectivities', 'distances'"
      ]
     },
     "execution_count": 22,
     "metadata": {},
     "output_type": "execute_result"
    }
   ],
   "source": [
    "adata = adata[~filter_mask].copy()\n",
    "adata"
   ]
  },
  {
   "cell_type": "code",
   "execution_count": 23,
   "id": "93eadc21-e525-4174-9326-8b188f235fcd",
   "metadata": {
    "tags": []
   },
   "outputs": [],
   "source": [
    "sc.pp.highly_variable_genes(adata, n_top_genes=2000, flavor = 'seurat_v3', n_bins=1)"
   ]
  },
  {
   "cell_type": "code",
   "execution_count": 24,
   "id": "9c8d372f-7560-4e06-9d80-47fe3fdf59e1",
   "metadata": {
    "tags": []
   },
   "outputs": [],
   "source": [
    "adata.write('objects/scRNA_raw.h5ad', compression='gzip')"
   ]
  }
 ],
 "metadata": {
  "kernelspec": {
   "display_name": "General_env",
   "language": "python",
   "name": "general_env"
  },
  "language_info": {
   "codemirror_mode": {
    "name": "ipython",
    "version": 3
   },
   "file_extension": ".py",
   "mimetype": "text/x-python",
   "name": "python",
   "nbconvert_exporter": "python",
   "pygments_lexer": "ipython3",
   "version": "3.9.7"
  }
 },
 "nbformat": 4,
 "nbformat_minor": 5
}
