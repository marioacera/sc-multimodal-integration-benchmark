{
 "cells": [
  {
   "cell_type": "code",
   "execution_count": 1,
   "id": "0d5164c8-779d-42dc-8fbf-1886aa65b403",
   "metadata": {
    "tags": []
   },
   "outputs": [],
   "source": [
    "import warnings\n",
    "warnings.simplefilter(action='ignore', category=FutureWarning)\n",
    "import os\n",
    "\n",
    "import scanpy as sc\n",
    "import anndata\n",
    "import pandas as pd\n",
    "import numpy as np\n",
    "import matplotlib.pyplot as plt\n",
    "import matplotlib as mpl\n",
    "from sklearn.metrics import adjusted_rand_score as ARI\n",
    "from sklearn.metrics import adjusted_mutual_info_score as AMI\n",
    "\n",
    "from scipy import sparse\n",
    "from matplotlib import rcParams\n",
    "rcParams['pdf.fonttype'] = 42 # enables correct plotting of text\n",
    "rcParams['figure.figsize'] = (12,12)\n",
    "import seaborn as sns\n",
    "from scipy import sparse\n",
    "\n",
    "sc.settings.verbosity =0"
   ]
  },
  {
   "cell_type": "raw",
   "id": "ee225984",
   "metadata": {},
   "source": [
    "adata = sc.read('../MODALITY_INTEGRATION/objects/Integration_2ndQC_metadata.h5ad', compression='gzip')"
   ]
  },
  {
   "cell_type": "raw",
   "id": "986b7515",
   "metadata": {},
   "source": [
    "mod = 'snRNA'"
   ]
  },
  {
   "cell_type": "raw",
   "id": "3b87c706",
   "metadata": {},
   "source": [
    "samples_to_filter = ['lib_23','lib_38']\n",
    "\n",
    "adata = adata[~adata.obs['sample'].isin(samples_to_filter)].copy()"
   ]
  },
  {
   "cell_type": "raw",
   "id": "ac4c109c",
   "metadata": {},
   "source": [
    "adata.X = adata.layers['counts'].copy()"
   ]
  },
  {
   "cell_type": "raw",
   "id": "e6986bd2",
   "metadata": {},
   "source": [
    "adata = adata[adata.obs['batch'].isin([mod])].copy()"
   ]
  },
  {
   "cell_type": "raw",
   "id": "38005d1a",
   "metadata": {},
   "source": [
    "obs = pd.read_csv('../MODALITY_INTEGRATION/Multi_obs.csv', index_col=0)"
   ]
  },
  {
   "cell_type": "raw",
   "id": "ca031e2a",
   "metadata": {},
   "source": [
    "obs = obs[obs['batch'].isin([mod])]\n",
    "obs.index = [i.split('_')[0] for i in obs.index]"
   ]
  },
  {
   "cell_type": "raw",
   "id": "438dc540",
   "metadata": {},
   "source": [
    "adata.obs['In_final_obj'] = [i in obs.index for i in adata.obs.index]\n",
    "adata.obs['In_final_obj'].value_counts()"
   ]
  },
  {
   "cell_type": "code",
   "execution_count": null,
   "id": "35ee30fd",
   "metadata": {
    "vscode": {
     "languageId": "plaintext"
    }
   },
   "outputs": [],
   "source": [
    "adata.obs['In_final_obj'] = adata.obs['In_final_obj'].astype('category')"
   ]
  },
  {
   "cell_type": "raw",
   "id": "7031b3c2",
   "metadata": {},
   "source": [
    "adata = adata[adata.obs['In_final_obj'].astype(bool)].copy()"
   ]
  },
  {
   "cell_type": "raw",
   "id": "ed34e59a",
   "metadata": {},
   "source": [
    "adata.obs['sample'].value_counts()"
   ]
  },
  {
   "cell_type": "raw",
   "id": "ef56f99b",
   "metadata": {},
   "source": [
    "sc.pp.highly_variable_genes(adata, n_top_genes=2000, flavor = 'seurat_v3', n_bins=1)"
   ]
  },
  {
   "cell_type": "raw",
   "id": "1bfaa9d6",
   "metadata": {},
   "source": [
    "adata.write(f'objects/{mod}_raw.h5ad', compression='gzip')"
   ]
  },
  {
   "cell_type": "code",
   "execution_count": 61,
   "id": "3165d33b-24fd-4b09-967f-89fa1575c42a",
   "metadata": {
    "tags": []
   },
   "outputs": [
    {
     "data": {
      "text/plain": [
       "AnnData object with n_obs × n_vars = 53799 × 38224\n",
       "    obs: 'sample', 'batch', 'n_counts', 'n_genes_by_counts', 'total_counts', 'total_counts_mt', 'pct_counts_mt', 'total_counts_rb', 'pct_counts_rb', 'Deepscore_external', 'Doublet_Detection_doublets_scRNA', 'Doublet_Detection_doublets_score_scRNA', 'Doublet_Detection_doublets_scRNA5p', 'Doublet_Detection_doublets_score_scRNA5p', 'AMULET_doublets', 'AMULET_pval', 'AMULET_qval', 'Doublet_Detection_doublets_snRNA', 'Doublet_Detection_doublets_score_snRNA', 'In_final_obj', 'Deepscore'\n",
       "    var: 'highly_variable', 'highly_variable_rank', 'means', 'variances', 'variances_norm'\n",
       "    uns: 'batch_colors', 'log1p', 'neighbors', 'pca', 'sample_colors', 'umap', 'hvg'\n",
       "    layers: 'counts'\n",
       "    obsp: 'connectivities', 'distances'"
      ]
     },
     "execution_count": 61,
     "metadata": {},
     "output_type": "execute_result"
    }
   ],
   "source": [
    "adata"
   ]
  }
 ],
 "metadata": {
  "kernelspec": {
   "display_name": "General_env",
   "language": "python",
   "name": "general_env"
  },
  "language_info": {
   "codemirror_mode": {
    "name": "ipython",
    "version": 3
   },
   "file_extension": ".py",
   "mimetype": "text/x-python",
   "name": "python",
   "nbconvert_exporter": "python",
   "pygments_lexer": "ipython3",
   "version": "3.9.7"
  }
 },
 "nbformat": 4,
 "nbformat_minor": 5
}
