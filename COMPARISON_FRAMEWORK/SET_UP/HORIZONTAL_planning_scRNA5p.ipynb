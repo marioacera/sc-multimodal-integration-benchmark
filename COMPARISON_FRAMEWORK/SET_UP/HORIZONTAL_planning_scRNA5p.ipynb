{
 "cells": [
  {
   "cell_type": "code",
   "execution_count": 1,
   "id": "0d5164c8-779d-42dc-8fbf-1886aa65b403",
   "metadata": {
    "tags": []
   },
   "outputs": [],
   "source": [
    "import warnings\n",
    "warnings.simplefilter(action='ignore', category=FutureWarning)\n",
    "import os\n",
    "\n",
    "import scanpy as sc\n",
    "import anndata\n",
    "import pandas as pd\n",
    "import numpy as np\n",
    "import matplotlib.pyplot as plt\n",
    "import matplotlib as mpl\n",
    "from sklearn.metrics import adjusted_rand_score as ARI\n",
    "from sklearn.metrics import adjusted_mutual_info_score as AMI\n",
    "\n",
    "from scipy import sparse\n",
    "from matplotlib import rcParams\n",
    "rcParams['pdf.fonttype'] = 42 # enables correct plotting of text\n",
    "rcParams['figure.figsize'] = (12,12)\n",
    "import seaborn as sns\n",
    "from scipy import sparse\n",
    "\n",
    "sc.settings.verbosity =0"
   ]
  },
  {
   "cell_type": "code",
   "execution_count": 5,
   "id": "15b3ff41-0b0d-4867-af61-745c29b404fd",
   "metadata": {
    "tags": []
   },
   "outputs": [],
   "source": [
    "adata = sc.read('../MODALITY_INTEGRATION/objects/Integration_2ndQC_metadata.h5ad', compression='gzip')"
   ]
  },
  {
   "cell_type": "code",
   "execution_count": 6,
   "id": "840bd6a1-bed3-4fd9-a5f4-41750320c4e7",
   "metadata": {
    "tags": []
   },
   "outputs": [
    {
     "data": {
      "text/plain": [
       "AnnData object with n_obs × n_vars = 179290 × 38224\n",
       "    obs: 'sample', 'batch', 'n_counts', 'n_genes_by_counts', 'total_counts', 'total_counts_mt', 'pct_counts_mt', 'total_counts_rb', 'pct_counts_rb', 'Deepscore_external', 'Doublet_Detection_doublets_scRNA', 'Doublet_Detection_doublets_score_scRNA', 'Doublet_Detection_doublets_scRNA5p', 'Doublet_Detection_doublets_score_scRNA5p', 'AMULET_doublets', 'AMULET_pval', 'AMULET_qval', 'Doublet_Detection_doublets_snRNA', 'Doublet_Detection_doublets_score_snRNA'\n",
       "    uns: 'batch_colors', 'log1p', 'neighbors', 'pca', 'sample_colors', 'umap'\n",
       "    obsm: 'X_pca', 'X_umap'\n",
       "    varm: 'PCs'\n",
       "    layers: 'counts'\n",
       "    obsp: 'connectivities', 'distances'"
      ]
     },
     "execution_count": 6,
     "metadata": {},
     "output_type": "execute_result"
    }
   ],
   "source": [
    "adata"
   ]
  },
  {
   "cell_type": "code",
   "execution_count": 7,
   "id": "ed3f289b-1ab9-42e3-919a-98f8738ab8ed",
   "metadata": {},
   "outputs": [],
   "source": [
    "mod = 'scRNA5p'"
   ]
  },
  {
   "cell_type": "code",
   "execution_count": 10,
   "id": "47a210cf-3ba3-44a2-bcbe-e5724ebe21be",
   "metadata": {
    "tags": []
   },
   "outputs": [],
   "source": [
    "adata.X = adata.layers['counts'].copy()"
   ]
  },
  {
   "cell_type": "code",
   "execution_count": 11,
   "id": "b3d67e15-49b2-485f-bbfe-043fa5acc117",
   "metadata": {
    "tags": []
   },
   "outputs": [
    {
     "data": {
      "text/plain": [
       "scRNA      89047\n",
       "snRNA      78978\n",
       "scRNA5p    11265\n",
       "Name: batch, dtype: int64"
      ]
     },
     "execution_count": 11,
     "metadata": {},
     "output_type": "execute_result"
    }
   ],
   "source": [
    "adata.obs['batch'].value_counts()"
   ]
  },
  {
   "cell_type": "code",
   "execution_count": 12,
   "id": "b8c90765-e1c8-4385-b5fb-aed1dd1b5cfe",
   "metadata": {
    "tags": []
   },
   "outputs": [],
   "source": [
    "adata = adata[adata.obs['batch'].isin([mod])].copy()"
   ]
  },
  {
   "cell_type": "code",
   "execution_count": 13,
   "id": "3e3bfb9f-2df9-4221-9d4a-1646b7718a42",
   "metadata": {
    "tags": []
   },
   "outputs": [
    {
     "data": {
      "text/html": [
       "<div>\n",
       "<style scoped>\n",
       "    .dataframe tbody tr th:only-of-type {\n",
       "        vertical-align: middle;\n",
       "    }\n",
       "\n",
       "    .dataframe tbody tr th {\n",
       "        vertical-align: top;\n",
       "    }\n",
       "\n",
       "    .dataframe thead th {\n",
       "        text-align: right;\n",
       "    }\n",
       "</style>\n",
       "<table border=\"1\" class=\"dataframe\">\n",
       "  <thead>\n",
       "    <tr style=\"text-align: right;\">\n",
       "      <th></th>\n",
       "      <th>sample</th>\n",
       "      <th>batch</th>\n",
       "      <th>n_counts</th>\n",
       "      <th>n_genes_by_counts</th>\n",
       "      <th>total_counts</th>\n",
       "      <th>total_counts_mt</th>\n",
       "      <th>pct_counts_mt</th>\n",
       "      <th>total_counts_rb</th>\n",
       "      <th>pct_counts_rb</th>\n",
       "      <th>Deepscore_external</th>\n",
       "      <th>Doublet_Detection_doublets_scRNA</th>\n",
       "      <th>Doublet_Detection_doublets_score_scRNA</th>\n",
       "      <th>Doublet_Detection_doublets_scRNA5p</th>\n",
       "      <th>Doublet_Detection_doublets_score_scRNA5p</th>\n",
       "      <th>AMULET_doublets</th>\n",
       "      <th>AMULET_pval</th>\n",
       "      <th>AMULET_qval</th>\n",
       "      <th>Doublet_Detection_doublets_snRNA</th>\n",
       "      <th>Doublet_Detection_doublets_score_snRNA</th>\n",
       "    </tr>\n",
       "  </thead>\n",
       "  <tbody>\n",
       "    <tr>\n",
       "      <th>AAACCTGGTTTGTTGG-1-0-scRNA5p</th>\n",
       "      <td>lib_36</td>\n",
       "      <td>scRNA5p</td>\n",
       "      <td>857.0</td>\n",
       "      <td>548</td>\n",
       "      <td>857.0</td>\n",
       "      <td>113.0</td>\n",
       "      <td>13.185531</td>\n",
       "      <td>0.0</td>\n",
       "      <td>0.000000</td>\n",
       "      <td>Unclassified</td>\n",
       "      <td>0.0</td>\n",
       "      <td>0.469203</td>\n",
       "      <td>0.0</td>\n",
       "      <td>0.469203</td>\n",
       "      <td>False</td>\n",
       "      <td>NaN</td>\n",
       "      <td>NaN</td>\n",
       "      <td>NaN</td>\n",
       "      <td>NaN</td>\n",
       "    </tr>\n",
       "    <tr>\n",
       "      <th>AAAGATGGTCTAGGTT-1-0-scRNA5p</th>\n",
       "      <td>lib_36</td>\n",
       "      <td>scRNA5p</td>\n",
       "      <td>843.0</td>\n",
       "      <td>456</td>\n",
       "      <td>843.0</td>\n",
       "      <td>265.0</td>\n",
       "      <td>31.435350</td>\n",
       "      <td>1.0</td>\n",
       "      <td>0.118624</td>\n",
       "      <td>Unclassified</td>\n",
       "      <td>0.0</td>\n",
       "      <td>5.593929</td>\n",
       "      <td>0.0</td>\n",
       "      <td>5.593929</td>\n",
       "      <td>False</td>\n",
       "      <td>NaN</td>\n",
       "      <td>NaN</td>\n",
       "      <td>NaN</td>\n",
       "      <td>NaN</td>\n",
       "    </tr>\n",
       "    <tr>\n",
       "      <th>AACTCTTTCAGTACGT-1-0-scRNA5p</th>\n",
       "      <td>lib_36</td>\n",
       "      <td>scRNA5p</td>\n",
       "      <td>927.0</td>\n",
       "      <td>481</td>\n",
       "      <td>927.0</td>\n",
       "      <td>307.0</td>\n",
       "      <td>33.117584</td>\n",
       "      <td>1.0</td>\n",
       "      <td>0.107875</td>\n",
       "      <td>Unclassified</td>\n",
       "      <td>0.0</td>\n",
       "      <td>0.366766</td>\n",
       "      <td>0.0</td>\n",
       "      <td>0.366766</td>\n",
       "      <td>False</td>\n",
       "      <td>NaN</td>\n",
       "      <td>NaN</td>\n",
       "      <td>NaN</td>\n",
       "      <td>NaN</td>\n",
       "    </tr>\n",
       "    <tr>\n",
       "      <th>ACCTTTAGTCTCTCTG-1-0-scRNA5p</th>\n",
       "      <td>lib_36</td>\n",
       "      <td>scRNA5p</td>\n",
       "      <td>4606.0</td>\n",
       "      <td>1992</td>\n",
       "      <td>4606.0</td>\n",
       "      <td>713.0</td>\n",
       "      <td>15.479809</td>\n",
       "      <td>13.0</td>\n",
       "      <td>0.282241</td>\n",
       "      <td>Unclassified</td>\n",
       "      <td>0.0</td>\n",
       "      <td>5.606707</td>\n",
       "      <td>0.0</td>\n",
       "      <td>5.606707</td>\n",
       "      <td>False</td>\n",
       "      <td>NaN</td>\n",
       "      <td>NaN</td>\n",
       "      <td>NaN</td>\n",
       "      <td>NaN</td>\n",
       "    </tr>\n",
       "    <tr>\n",
       "      <th>ACGGGCTCATGGTTGT-1-0-scRNA5p</th>\n",
       "      <td>lib_36</td>\n",
       "      <td>scRNA5p</td>\n",
       "      <td>1495.0</td>\n",
       "      <td>594</td>\n",
       "      <td>1495.0</td>\n",
       "      <td>742.0</td>\n",
       "      <td>49.632107</td>\n",
       "      <td>1.0</td>\n",
       "      <td>0.066890</td>\n",
       "      <td>Unclassified</td>\n",
       "      <td>0.0</td>\n",
       "      <td>5.539242</td>\n",
       "      <td>0.0</td>\n",
       "      <td>5.539242</td>\n",
       "      <td>False</td>\n",
       "      <td>NaN</td>\n",
       "      <td>NaN</td>\n",
       "      <td>NaN</td>\n",
       "      <td>NaN</td>\n",
       "    </tr>\n",
       "    <tr>\n",
       "      <th>...</th>\n",
       "      <td>...</td>\n",
       "      <td>...</td>\n",
       "      <td>...</td>\n",
       "      <td>...</td>\n",
       "      <td>...</td>\n",
       "      <td>...</td>\n",
       "      <td>...</td>\n",
       "      <td>...</td>\n",
       "      <td>...</td>\n",
       "      <td>...</td>\n",
       "      <td>...</td>\n",
       "      <td>...</td>\n",
       "      <td>...</td>\n",
       "      <td>...</td>\n",
       "      <td>...</td>\n",
       "      <td>...</td>\n",
       "      <td>...</td>\n",
       "      <td>...</td>\n",
       "      <td>...</td>\n",
       "    </tr>\n",
       "    <tr>\n",
       "      <th>TTTCCTCTCGGAAACG-1-3-scRNA5p</th>\n",
       "      <td>lib_09</td>\n",
       "      <td>scRNA5p</td>\n",
       "      <td>14882.0</td>\n",
       "      <td>3069</td>\n",
       "      <td>14882.0</td>\n",
       "      <td>5019.0</td>\n",
       "      <td>33.725307</td>\n",
       "      <td>25.0</td>\n",
       "      <td>0.167988</td>\n",
       "      <td>PT</td>\n",
       "      <td>0.0</td>\n",
       "      <td>0.947069</td>\n",
       "      <td>0.0</td>\n",
       "      <td>0.947069</td>\n",
       "      <td>False</td>\n",
       "      <td>NaN</td>\n",
       "      <td>NaN</td>\n",
       "      <td>NaN</td>\n",
       "      <td>NaN</td>\n",
       "    </tr>\n",
       "    <tr>\n",
       "      <th>TTTGCGCAGTGGCACA-1-3-scRNA5p</th>\n",
       "      <td>lib_09</td>\n",
       "      <td>scRNA5p</td>\n",
       "      <td>1799.0</td>\n",
       "      <td>599</td>\n",
       "      <td>1799.0</td>\n",
       "      <td>807.0</td>\n",
       "      <td>44.858257</td>\n",
       "      <td>3.0</td>\n",
       "      <td>0.166759</td>\n",
       "      <td>PT</td>\n",
       "      <td>0.0</td>\n",
       "      <td>0.203022</td>\n",
       "      <td>0.0</td>\n",
       "      <td>0.203022</td>\n",
       "      <td>False</td>\n",
       "      <td>NaN</td>\n",
       "      <td>NaN</td>\n",
       "      <td>NaN</td>\n",
       "      <td>NaN</td>\n",
       "    </tr>\n",
       "    <tr>\n",
       "      <th>TTTGGTTCAATCCGAT-1-3-scRNA5p</th>\n",
       "      <td>lib_09</td>\n",
       "      <td>scRNA5p</td>\n",
       "      <td>1563.0</td>\n",
       "      <td>773</td>\n",
       "      <td>1563.0</td>\n",
       "      <td>68.0</td>\n",
       "      <td>4.350608</td>\n",
       "      <td>2.0</td>\n",
       "      <td>0.127959</td>\n",
       "      <td>PT</td>\n",
       "      <td>0.0</td>\n",
       "      <td>0.088040</td>\n",
       "      <td>0.0</td>\n",
       "      <td>0.088040</td>\n",
       "      <td>False</td>\n",
       "      <td>NaN</td>\n",
       "      <td>NaN</td>\n",
       "      <td>NaN</td>\n",
       "      <td>NaN</td>\n",
       "    </tr>\n",
       "    <tr>\n",
       "      <th>TTTGGTTTCAAAGTAG-1-3-scRNA5p</th>\n",
       "      <td>lib_09</td>\n",
       "      <td>scRNA5p</td>\n",
       "      <td>1460.0</td>\n",
       "      <td>698</td>\n",
       "      <td>1460.0</td>\n",
       "      <td>171.0</td>\n",
       "      <td>11.712329</td>\n",
       "      <td>1.0</td>\n",
       "      <td>0.068493</td>\n",
       "      <td>PT</td>\n",
       "      <td>0.0</td>\n",
       "      <td>0.587635</td>\n",
       "      <td>0.0</td>\n",
       "      <td>0.587635</td>\n",
       "      <td>False</td>\n",
       "      <td>NaN</td>\n",
       "      <td>NaN</td>\n",
       "      <td>NaN</td>\n",
       "      <td>NaN</td>\n",
       "    </tr>\n",
       "    <tr>\n",
       "      <th>TTTGTCAGTCACAAGG-1-3-scRNA5p</th>\n",
       "      <td>lib_09</td>\n",
       "      <td>scRNA5p</td>\n",
       "      <td>1628.0</td>\n",
       "      <td>759</td>\n",
       "      <td>1628.0</td>\n",
       "      <td>349.0</td>\n",
       "      <td>21.437347</td>\n",
       "      <td>2.0</td>\n",
       "      <td>0.122850</td>\n",
       "      <td>PT</td>\n",
       "      <td>0.0</td>\n",
       "      <td>1.789325</td>\n",
       "      <td>0.0</td>\n",
       "      <td>1.789325</td>\n",
       "      <td>False</td>\n",
       "      <td>NaN</td>\n",
       "      <td>NaN</td>\n",
       "      <td>NaN</td>\n",
       "      <td>NaN</td>\n",
       "    </tr>\n",
       "  </tbody>\n",
       "</table>\n",
       "<p>11265 rows × 19 columns</p>\n",
       "</div>"
      ],
      "text/plain": [
       "                              sample    batch  n_counts  n_genes_by_counts  \\\n",
       "AAACCTGGTTTGTTGG-1-0-scRNA5p  lib_36  scRNA5p     857.0                548   \n",
       "AAAGATGGTCTAGGTT-1-0-scRNA5p  lib_36  scRNA5p     843.0                456   \n",
       "AACTCTTTCAGTACGT-1-0-scRNA5p  lib_36  scRNA5p     927.0                481   \n",
       "ACCTTTAGTCTCTCTG-1-0-scRNA5p  lib_36  scRNA5p    4606.0               1992   \n",
       "ACGGGCTCATGGTTGT-1-0-scRNA5p  lib_36  scRNA5p    1495.0                594   \n",
       "...                              ...      ...       ...                ...   \n",
       "TTTCCTCTCGGAAACG-1-3-scRNA5p  lib_09  scRNA5p   14882.0               3069   \n",
       "TTTGCGCAGTGGCACA-1-3-scRNA5p  lib_09  scRNA5p    1799.0                599   \n",
       "TTTGGTTCAATCCGAT-1-3-scRNA5p  lib_09  scRNA5p    1563.0                773   \n",
       "TTTGGTTTCAAAGTAG-1-3-scRNA5p  lib_09  scRNA5p    1460.0                698   \n",
       "TTTGTCAGTCACAAGG-1-3-scRNA5p  lib_09  scRNA5p    1628.0                759   \n",
       "\n",
       "                              total_counts  total_counts_mt  pct_counts_mt  \\\n",
       "AAACCTGGTTTGTTGG-1-0-scRNA5p         857.0            113.0      13.185531   \n",
       "AAAGATGGTCTAGGTT-1-0-scRNA5p         843.0            265.0      31.435350   \n",
       "AACTCTTTCAGTACGT-1-0-scRNA5p         927.0            307.0      33.117584   \n",
       "ACCTTTAGTCTCTCTG-1-0-scRNA5p        4606.0            713.0      15.479809   \n",
       "ACGGGCTCATGGTTGT-1-0-scRNA5p        1495.0            742.0      49.632107   \n",
       "...                                    ...              ...            ...   \n",
       "TTTCCTCTCGGAAACG-1-3-scRNA5p       14882.0           5019.0      33.725307   \n",
       "TTTGCGCAGTGGCACA-1-3-scRNA5p        1799.0            807.0      44.858257   \n",
       "TTTGGTTCAATCCGAT-1-3-scRNA5p        1563.0             68.0       4.350608   \n",
       "TTTGGTTTCAAAGTAG-1-3-scRNA5p        1460.0            171.0      11.712329   \n",
       "TTTGTCAGTCACAAGG-1-3-scRNA5p        1628.0            349.0      21.437347   \n",
       "\n",
       "                              total_counts_rb  pct_counts_rb  \\\n",
       "AAACCTGGTTTGTTGG-1-0-scRNA5p              0.0       0.000000   \n",
       "AAAGATGGTCTAGGTT-1-0-scRNA5p              1.0       0.118624   \n",
       "AACTCTTTCAGTACGT-1-0-scRNA5p              1.0       0.107875   \n",
       "ACCTTTAGTCTCTCTG-1-0-scRNA5p             13.0       0.282241   \n",
       "ACGGGCTCATGGTTGT-1-0-scRNA5p              1.0       0.066890   \n",
       "...                                       ...            ...   \n",
       "TTTCCTCTCGGAAACG-1-3-scRNA5p             25.0       0.167988   \n",
       "TTTGCGCAGTGGCACA-1-3-scRNA5p              3.0       0.166759   \n",
       "TTTGGTTCAATCCGAT-1-3-scRNA5p              2.0       0.127959   \n",
       "TTTGGTTTCAAAGTAG-1-3-scRNA5p              1.0       0.068493   \n",
       "TTTGTCAGTCACAAGG-1-3-scRNA5p              2.0       0.122850   \n",
       "\n",
       "                             Deepscore_external  \\\n",
       "AAACCTGGTTTGTTGG-1-0-scRNA5p       Unclassified   \n",
       "AAAGATGGTCTAGGTT-1-0-scRNA5p       Unclassified   \n",
       "AACTCTTTCAGTACGT-1-0-scRNA5p       Unclassified   \n",
       "ACCTTTAGTCTCTCTG-1-0-scRNA5p       Unclassified   \n",
       "ACGGGCTCATGGTTGT-1-0-scRNA5p       Unclassified   \n",
       "...                                         ...   \n",
       "TTTCCTCTCGGAAACG-1-3-scRNA5p                 PT   \n",
       "TTTGCGCAGTGGCACA-1-3-scRNA5p                 PT   \n",
       "TTTGGTTCAATCCGAT-1-3-scRNA5p                 PT   \n",
       "TTTGGTTTCAAAGTAG-1-3-scRNA5p                 PT   \n",
       "TTTGTCAGTCACAAGG-1-3-scRNA5p                 PT   \n",
       "\n",
       "                              Doublet_Detection_doublets_scRNA  \\\n",
       "AAACCTGGTTTGTTGG-1-0-scRNA5p                               0.0   \n",
       "AAAGATGGTCTAGGTT-1-0-scRNA5p                               0.0   \n",
       "AACTCTTTCAGTACGT-1-0-scRNA5p                               0.0   \n",
       "ACCTTTAGTCTCTCTG-1-0-scRNA5p                               0.0   \n",
       "ACGGGCTCATGGTTGT-1-0-scRNA5p                               0.0   \n",
       "...                                                        ...   \n",
       "TTTCCTCTCGGAAACG-1-3-scRNA5p                               0.0   \n",
       "TTTGCGCAGTGGCACA-1-3-scRNA5p                               0.0   \n",
       "TTTGGTTCAATCCGAT-1-3-scRNA5p                               0.0   \n",
       "TTTGGTTTCAAAGTAG-1-3-scRNA5p                               0.0   \n",
       "TTTGTCAGTCACAAGG-1-3-scRNA5p                               0.0   \n",
       "\n",
       "                              Doublet_Detection_doublets_score_scRNA  \\\n",
       "AAACCTGGTTTGTTGG-1-0-scRNA5p                                0.469203   \n",
       "AAAGATGGTCTAGGTT-1-0-scRNA5p                                5.593929   \n",
       "AACTCTTTCAGTACGT-1-0-scRNA5p                                0.366766   \n",
       "ACCTTTAGTCTCTCTG-1-0-scRNA5p                                5.606707   \n",
       "ACGGGCTCATGGTTGT-1-0-scRNA5p                                5.539242   \n",
       "...                                                              ...   \n",
       "TTTCCTCTCGGAAACG-1-3-scRNA5p                                0.947069   \n",
       "TTTGCGCAGTGGCACA-1-3-scRNA5p                                0.203022   \n",
       "TTTGGTTCAATCCGAT-1-3-scRNA5p                                0.088040   \n",
       "TTTGGTTTCAAAGTAG-1-3-scRNA5p                                0.587635   \n",
       "TTTGTCAGTCACAAGG-1-3-scRNA5p                                1.789325   \n",
       "\n",
       "                              Doublet_Detection_doublets_scRNA5p  \\\n",
       "AAACCTGGTTTGTTGG-1-0-scRNA5p                                 0.0   \n",
       "AAAGATGGTCTAGGTT-1-0-scRNA5p                                 0.0   \n",
       "AACTCTTTCAGTACGT-1-0-scRNA5p                                 0.0   \n",
       "ACCTTTAGTCTCTCTG-1-0-scRNA5p                                 0.0   \n",
       "ACGGGCTCATGGTTGT-1-0-scRNA5p                                 0.0   \n",
       "...                                                          ...   \n",
       "TTTCCTCTCGGAAACG-1-3-scRNA5p                                 0.0   \n",
       "TTTGCGCAGTGGCACA-1-3-scRNA5p                                 0.0   \n",
       "TTTGGTTCAATCCGAT-1-3-scRNA5p                                 0.0   \n",
       "TTTGGTTTCAAAGTAG-1-3-scRNA5p                                 0.0   \n",
       "TTTGTCAGTCACAAGG-1-3-scRNA5p                                 0.0   \n",
       "\n",
       "                              Doublet_Detection_doublets_score_scRNA5p  \\\n",
       "AAACCTGGTTTGTTGG-1-0-scRNA5p                                  0.469203   \n",
       "AAAGATGGTCTAGGTT-1-0-scRNA5p                                  5.593929   \n",
       "AACTCTTTCAGTACGT-1-0-scRNA5p                                  0.366766   \n",
       "ACCTTTAGTCTCTCTG-1-0-scRNA5p                                  5.606707   \n",
       "ACGGGCTCATGGTTGT-1-0-scRNA5p                                  5.539242   \n",
       "...                                                                ...   \n",
       "TTTCCTCTCGGAAACG-1-3-scRNA5p                                  0.947069   \n",
       "TTTGCGCAGTGGCACA-1-3-scRNA5p                                  0.203022   \n",
       "TTTGGTTCAATCCGAT-1-3-scRNA5p                                  0.088040   \n",
       "TTTGGTTTCAAAGTAG-1-3-scRNA5p                                  0.587635   \n",
       "TTTGTCAGTCACAAGG-1-3-scRNA5p                                  1.789325   \n",
       "\n",
       "                             AMULET_doublets  AMULET_pval  AMULET_qval  \\\n",
       "AAACCTGGTTTGTTGG-1-0-scRNA5p           False          NaN          NaN   \n",
       "AAAGATGGTCTAGGTT-1-0-scRNA5p           False          NaN          NaN   \n",
       "AACTCTTTCAGTACGT-1-0-scRNA5p           False          NaN          NaN   \n",
       "ACCTTTAGTCTCTCTG-1-0-scRNA5p           False          NaN          NaN   \n",
       "ACGGGCTCATGGTTGT-1-0-scRNA5p           False          NaN          NaN   \n",
       "...                                      ...          ...          ...   \n",
       "TTTCCTCTCGGAAACG-1-3-scRNA5p           False          NaN          NaN   \n",
       "TTTGCGCAGTGGCACA-1-3-scRNA5p           False          NaN          NaN   \n",
       "TTTGGTTCAATCCGAT-1-3-scRNA5p           False          NaN          NaN   \n",
       "TTTGGTTTCAAAGTAG-1-3-scRNA5p           False          NaN          NaN   \n",
       "TTTGTCAGTCACAAGG-1-3-scRNA5p           False          NaN          NaN   \n",
       "\n",
       "                              Doublet_Detection_doublets_snRNA  \\\n",
       "AAACCTGGTTTGTTGG-1-0-scRNA5p                               NaN   \n",
       "AAAGATGGTCTAGGTT-1-0-scRNA5p                               NaN   \n",
       "AACTCTTTCAGTACGT-1-0-scRNA5p                               NaN   \n",
       "ACCTTTAGTCTCTCTG-1-0-scRNA5p                               NaN   \n",
       "ACGGGCTCATGGTTGT-1-0-scRNA5p                               NaN   \n",
       "...                                                        ...   \n",
       "TTTCCTCTCGGAAACG-1-3-scRNA5p                               NaN   \n",
       "TTTGCGCAGTGGCACA-1-3-scRNA5p                               NaN   \n",
       "TTTGGTTCAATCCGAT-1-3-scRNA5p                               NaN   \n",
       "TTTGGTTTCAAAGTAG-1-3-scRNA5p                               NaN   \n",
       "TTTGTCAGTCACAAGG-1-3-scRNA5p                               NaN   \n",
       "\n",
       "                              Doublet_Detection_doublets_score_snRNA  \n",
       "AAACCTGGTTTGTTGG-1-0-scRNA5p                                     NaN  \n",
       "AAAGATGGTCTAGGTT-1-0-scRNA5p                                     NaN  \n",
       "AACTCTTTCAGTACGT-1-0-scRNA5p                                     NaN  \n",
       "ACCTTTAGTCTCTCTG-1-0-scRNA5p                                     NaN  \n",
       "ACGGGCTCATGGTTGT-1-0-scRNA5p                                     NaN  \n",
       "...                                                              ...  \n",
       "TTTCCTCTCGGAAACG-1-3-scRNA5p                                     NaN  \n",
       "TTTGCGCAGTGGCACA-1-3-scRNA5p                                     NaN  \n",
       "TTTGGTTCAATCCGAT-1-3-scRNA5p                                     NaN  \n",
       "TTTGGTTTCAAAGTAG-1-3-scRNA5p                                     NaN  \n",
       "TTTGTCAGTCACAAGG-1-3-scRNA5p                                     NaN  \n",
       "\n",
       "[11265 rows x 19 columns]"
      ]
     },
     "execution_count": 13,
     "metadata": {},
     "output_type": "execute_result"
    }
   ],
   "source": [
    "adata.obs"
   ]
  },
  {
   "cell_type": "code",
   "execution_count": 14,
   "id": "64efcd89-cc73-4f41-95ac-2506b0dd6749",
   "metadata": {
    "tags": []
   },
   "outputs": [
    {
     "name": "stderr",
     "output_type": "stream",
     "text": [
      "/tmp/ipykernel_66787/3819850974.py:1: DtypeWarning: Columns (4,5,6,11,13) have mixed types. Specify dtype option on import or set low_memory=False.\n",
      "  obs = pd.read_csv('../MODALITY_INTEGRATION/Multi_obs.csv', index_col=0)\n"
     ]
    }
   ],
   "source": [
    "obs = pd.read_csv('../MODALITY_INTEGRATION/Multi_obs.csv', index_col=0)"
   ]
  },
  {
   "cell_type": "code",
   "execution_count": 15,
   "id": "3e4a68fa-3448-478e-9fb0-b79ed06254d1",
   "metadata": {
    "tags": []
   },
   "outputs": [
    {
     "data": {
      "text/plain": [
       "array(['snRNA', 'scRNA', 'scRNA5p'], dtype=object)"
      ]
     },
     "execution_count": 15,
     "metadata": {},
     "output_type": "execute_result"
    }
   ],
   "source": [
    "obs['batch'].unique()"
   ]
  },
  {
   "cell_type": "code",
   "execution_count": 16,
   "id": "590b8718-2ebf-448f-8ff1-5d26f673ab05",
   "metadata": {
    "tags": []
   },
   "outputs": [],
   "source": [
    "obs = obs[obs['batch'].isin([mod])]\n",
    "obs.index = [i.split('_')[0] for i in obs.index]"
   ]
  },
  {
   "cell_type": "code",
   "execution_count": 17,
   "id": "8d309d38-888b-440b-b3a5-13fa0c70e201",
   "metadata": {
    "tags": []
   },
   "outputs": [
    {
     "data": {
      "text/plain": [
       "True     8917\n",
       "False    2348\n",
       "Name: In_final_obj, dtype: int64"
      ]
     },
     "execution_count": 17,
     "metadata": {},
     "output_type": "execute_result"
    }
   ],
   "source": [
    "adata.obs['In_final_obj'] = [i in obs.index for i in adata.obs.index]\n",
    "adata.obs['In_final_obj'].value_counts()"
   ]
  },
  {
   "cell_type": "code",
   "execution_count": 18,
   "id": "f08f6e92-30d3-462b-a3c1-00045ec77ec8",
   "metadata": {
    "tags": []
   },
   "outputs": [],
   "source": [
    "adata.obs['In_final_obj'] = adata.obs['In_final_obj'].astype('category')"
   ]
  },
  {
   "cell_type": "code",
   "execution_count": 19,
   "id": "4e46cab7-ec80-4684-9680-2b9291c16a59",
   "metadata": {
    "tags": []
   },
   "outputs": [],
   "source": [
    "obs = obs[obs['modality'].isin(['expression','paired'])]"
   ]
  },
  {
   "cell_type": "code",
   "execution_count": 20,
   "id": "4932ca3d-76a9-4930-a698-207d1b716c32",
   "metadata": {
    "tags": []
   },
   "outputs": [],
   "source": [
    "adata.obs['Deepscore'] = obs['Imputed_Deepscore_external']"
   ]
  },
  {
   "cell_type": "code",
   "execution_count": 21,
   "id": "acaffebe-4b8e-4ed9-9fac-da36e04b2bcc",
   "metadata": {
    "tags": []
   },
   "outputs": [
    {
     "data": {
      "text/plain": [
       "AAACCTGGTTTGTTGG-1-0-scRNA5p    NaN\n",
       "AAAGATGGTCTAGGTT-1-0-scRNA5p    NaN\n",
       "AACTCTTTCAGTACGT-1-0-scRNA5p    NaN\n",
       "ACCTTTAGTCTCTCTG-1-0-scRNA5p    NaN\n",
       "ACGGGCTCATGGTTGT-1-0-scRNA5p    NaN\n",
       "                               ... \n",
       "TTTCCTCTCGGAAACG-1-3-scRNA5p     PT\n",
       "TTTGCGCAGTGGCACA-1-3-scRNA5p     PT\n",
       "TTTGGTTCAATCCGAT-1-3-scRNA5p     PT\n",
       "TTTGGTTTCAAAGTAG-1-3-scRNA5p     PT\n",
       "TTTGTCAGTCACAAGG-1-3-scRNA5p     PT\n",
       "Name: Deepscore, Length: 11265, dtype: object"
      ]
     },
     "execution_count": 21,
     "metadata": {},
     "output_type": "execute_result"
    }
   ],
   "source": [
    "adata.obs['Deepscore']"
   ]
  },
  {
   "cell_type": "code",
   "execution_count": 22,
   "id": "b8d730f5-76fe-4847-89ad-aa4aaa64bf6e",
   "metadata": {
    "tags": []
   },
   "outputs": [],
   "source": [
    "adata = adata[adata.obs['In_final_obj'].astype(bool)].copy()"
   ]
  },
  {
   "cell_type": "markdown",
   "id": "e1f6009e-846a-4796-b328-684c21e8db4d",
   "metadata": {},
   "source": [
    "## Following the same approach as in scRNA-seq 3'"
   ]
  },
  {
   "cell_type": "code",
   "execution_count": 24,
   "id": "d3cfb6db-ef0e-4779-bd29-1f0498cadd55",
   "metadata": {
    "tags": []
   },
   "outputs": [
    {
     "data": {
      "text/plain": [
       "1104"
      ]
     },
     "execution_count": 24,
     "metadata": {},
     "output_type": "execute_result"
    }
   ],
   "source": [
    "filter_mask = (adata.obs['n_genes_by_counts'] < 500) & ~adata.obs['Deepscore_external'].isin(['LEUK'])\n",
    "np.sum(filter_mask)"
   ]
  },
  {
   "cell_type": "code",
   "execution_count": 25,
   "id": "bd2e22f6-9e38-4a8a-9219-d2c937544c53",
   "metadata": {
    "tags": []
   },
   "outputs": [
    {
     "data": {
      "text/plain": [
       "AnnData object with n_obs × n_vars = 7813 × 38224\n",
       "    obs: 'sample', 'batch', 'n_counts', 'n_genes_by_counts', 'total_counts', 'total_counts_mt', 'pct_counts_mt', 'total_counts_rb', 'pct_counts_rb', 'Deepscore_external', 'Doublet_Detection_doublets_scRNA', 'Doublet_Detection_doublets_score_scRNA', 'Doublet_Detection_doublets_scRNA5p', 'Doublet_Detection_doublets_score_scRNA5p', 'AMULET_doublets', 'AMULET_pval', 'AMULET_qval', 'Doublet_Detection_doublets_snRNA', 'Doublet_Detection_doublets_score_snRNA', 'In_final_obj', 'Deepscore'\n",
       "    uns: 'batch_colors', 'log1p', 'neighbors', 'pca', 'sample_colors', 'umap'\n",
       "    obsm: 'X_pca', 'X_umap'\n",
       "    varm: 'PCs'\n",
       "    layers: 'counts'\n",
       "    obsp: 'connectivities', 'distances'"
      ]
     },
     "execution_count": 25,
     "metadata": {},
     "output_type": "execute_result"
    }
   ],
   "source": [
    "adata = adata[~filter_mask].copy()\n",
    "adata"
   ]
  },
  {
   "cell_type": "code",
   "execution_count": 26,
   "id": "0b3f9890-f486-438d-a8c5-e257e6fb794b",
   "metadata": {
    "tags": []
   },
   "outputs": [
    {
     "data": {
      "text/plain": [
       "lib_36    2383\n",
       "lib_10    2376\n",
       "lib_38    2163\n",
       "lib_09     891\n",
       "Name: sample, dtype: int64"
      ]
     },
     "execution_count": 26,
     "metadata": {},
     "output_type": "execute_result"
    }
   ],
   "source": [
    "adata.obs['sample'].value_counts()"
   ]
  },
  {
   "cell_type": "code",
   "execution_count": 27,
   "id": "d46d29ff-6bae-4f51-9dbc-92dde45bb5cd",
   "metadata": {
    "tags": []
   },
   "outputs": [],
   "source": [
    "sc.pp.highly_variable_genes(adata, n_top_genes=2000, flavor = 'seurat_v3', n_bins=1)"
   ]
  },
  {
   "cell_type": "code",
   "execution_count": 30,
   "id": "3ced0cb2-680e-40f1-aad2-ae22e81a1a50",
   "metadata": {
    "tags": []
   },
   "outputs": [],
   "source": [
    "adata.write(f'objects/{mod}_raw.h5ad', compression='gzip')"
   ]
  }
 ],
 "metadata": {
  "kernelspec": {
   "display_name": "General_env",
   "language": "python",
   "name": "general_env"
  },
  "language_info": {
   "codemirror_mode": {
    "name": "ipython",
    "version": 3
   },
   "file_extension": ".py",
   "mimetype": "text/x-python",
   "name": "python",
   "nbconvert_exporter": "python",
   "pygments_lexer": "ipython3",
   "version": "3.9.7"
  }
 },
 "nbformat": 4,
 "nbformat_minor": 5
}
