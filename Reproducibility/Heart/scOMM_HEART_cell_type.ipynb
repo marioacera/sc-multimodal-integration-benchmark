{
 "cells": [
  {
   "cell_type": "code",
   "execution_count": 1,
   "id": "99f9224a",
   "metadata": {},
   "outputs": [
    {
     "name": "stderr",
     "output_type": "stream",
     "text": [
      "2025-08-14 17:40:15.646607: I tensorflow/tsl/cuda/cudart_stub.cc:28] Could not find cuda drivers on your machine, GPU will not be used.\n",
      "2025-08-14 17:40:15.803079: I tensorflow/tsl/cuda/cudart_stub.cc:28] Could not find cuda drivers on your machine, GPU will not be used.\n",
      "2025-08-14 17:40:15.804029: I tensorflow/core/platform/cpu_feature_guard.cc:182] This TensorFlow binary is optimized to use available CPU instructions in performance-critical operations.\n",
      "To enable the following instructions: AVX2 FMA, in other operations, rebuild TensorFlow with the appropriate compiler flags.\n",
      "2025-08-14 17:40:16.533597: W tensorflow/compiler/tf2tensorrt/utils/py_utils.cc:38] TF-TRT Warning: Could not find TensorRT\n"
     ]
    }
   ],
   "source": [
    "import numpy as np\n",
    "import scanpy as sc\n",
    "import pandas as pd\n",
    "import matplotlib.pyplot as plt\n",
    "import matplotlib as mpl\n",
    "\n",
    "from matplotlib import rcParams\n",
    "rcParams['pdf.fonttype'] = 42 # enables correct plotting of text\n",
    "rcParams['figure.figsize'] = (7,7)\n",
    "\n",
    "import random\n",
    "import tensorflow as tf\n",
    "\n",
    "seed = 42\n",
    "\n",
    "\n",
    "random.seed(seed)\n",
    "np.random.seed(seed)\n",
    "tf.random.set_seed(seed)\n",
    "\n",
    "\n",
    "# Import deepscore model # Add deepscore folder to path\n",
    "from deepscore import deepscore \n",
    "import pickle"
   ]
  },
  {
   "cell_type": "code",
   "execution_count": 2,
   "id": "83cb1a19",
   "metadata": {},
   "outputs": [],
   "source": [
    "cell_type = 'cell_type'\n",
    "\n",
    "ref_py = sc.read('/home/macera/Documentos/CZI/MANUSCRIPT_PREP/REVIEWS/external_data/heart/reference.h5ad')\n"
   ]
  },
  {
   "cell_type": "code",
   "execution_count": 3,
   "id": "83918c62",
   "metadata": {},
   "outputs": [],
   "source": [
    "ref_py.layers['counts'] = ref_py.X.copy()\n",
    "\n",
    "ref_py.var['ENSG'] = ref_py.var.index.copy()\n",
    "# ref_py.var.index = ref_py.var['feature_name'].copy()"
   ]
  },
  {
   "cell_type": "code",
   "execution_count": 4,
   "id": "e521e27c",
   "metadata": {},
   "outputs": [
    {
     "data": {
      "text/plain": [
       "array([1., 1., 1., ..., 1., 2., 1.], dtype=float32)"
      ]
     },
     "execution_count": 4,
     "metadata": {},
     "output_type": "execute_result"
    }
   ],
   "source": [
    "ref_py.X.data"
   ]
  },
  {
   "cell_type": "code",
   "execution_count": 5,
   "id": "18b84a7c",
   "metadata": {},
   "outputs": [],
   "source": [
    "\n",
    "overlapping = False\n",
    "compute = False\n",
    "\n",
    "\n",
    "ref_py.X = ref_py.X.copy()\n",
    "sc.pp.normalize_total(ref_py, target_sum=1e4)\n",
    "sc.pp.log1p(ref_py)\n",
    "\n",
    "\n",
    "markers_filename= f'heart_cell_type'\n",
    "\n",
    "# Identify HCA ATLAS differentially expressed genes between cell types \n",
    "\n",
    "if compute == True:\n",
    "    sc.tl.rank_genes_groups(ref_py, cell_type, method='wilcoxon', use_raw=False)\n",
    "    ranked_genes_populations = ref_py.uns['rank_genes_groups'].copy()\n",
    "    with open(f'markers_ds/{markers_filename}.pickle', 'wb') as handle:\n",
    "        pickle.dump(ranked_genes_populations, handle, protocol=pickle.HIGHEST_PROTOCOL)\n",
    "else:\n",
    "    with open(f'markers_ds/{markers_filename}.pickle', 'rb') as handle:\n",
    "        ranked_genes_populations = pickle.load(handle) "
   ]
  },
  {
   "cell_type": "code",
   "execution_count": 6,
   "id": "1837e6ec",
   "metadata": {},
   "outputs": [],
   "source": [
    "markers_filename= f'heart_cell_type'\n",
    "\n",
    "# Identify HCA ATLAS differentially expressed genes between cell types \n",
    "\n",
    "if compute == True:\n",
    "    sc.tl.rank_genes_groups(ref_py, cell_type, method='wilcoxon', use_raw=False)\n",
    "    ranked_genes_populations = ref_py.uns['rank_genes_groups'].copy()\n",
    "    with open(f'markers_ds/{markers_filename}.pickle', 'wb') as handle:\n",
    "        pickle.dump(ranked_genes_populations, handle, protocol=pickle.HIGHEST_PROTOCOL)\n",
    "else:\n",
    "    with open(f'markers_ds/{markers_filename}.pickle', 'rb') as handle:\n",
    "        ranked_genes_populations = pickle.load(handle) "
   ]
  },
  {
   "cell_type": "code",
   "execution_count": 7,
   "id": "ed4b46d0-4c2d-4c90-859f-d69e3c38dcd7",
   "metadata": {
    "tags": []
   },
   "outputs": [
    {
     "data": {
      "text/plain": [
       "AnnData object with n_obs × n_vars = 229621 × 32732\n",
       "    obs: 'sangerID', 'combinedID', 'donor', 'donor_type', 'region', 'region_finest', 'age', 'gender', 'facility', 'cell_or_nuclei', 'modality', 'kit_10x', 'flushed', 'n_genes', 'n_genes_by_counts', 'total_counts', 'total_counts_mt', 'pct_counts_mt', 'total_counts_ribo', 'pct_counts_ribo', 'scrublet_score', 'scrublet_leiden', 'cluster_scrublet_score', 'doublet_pval', 'doublet_bh_pval', 'batch_key', 'leiden_scVI', 'cell_type', 'cell_state_HCAv1', 'cell_state_scNym', 'cell_state_scNym_confidence', 'cell_state', 'latent_RT_efficiency', 'latent_cell_probability', 'latent_scale', 'n_counts', '_scvi_batch', '_scvi_labels', 'clus20', 'doublet_cls', 'original_or_new', 'batch', 'scANVI_predictions', 'leiden_scArches', 'Tech'\n",
       "    var: 'gene_name-new', 'gene_name_scRNA-0-original', 'gene_name_snRNA-1-original', 'gene_name_multiome-2-original'\n",
       "    uns: 'age_colors', 'cell_or_nuclei_colors', 'cell_state_colors', 'cell_type_colors', 'donor_colors', 'donor_type_colors', 'facility_colors', 'flushed_colors', 'gender_colors', 'kit_10x_colors', 'leiden', 'modality_colors', 'neighbors', 'original_or_new_colors', 'region_colors', 'region_finest_colors', 'scANVI_predictions_colors', 'umap'\n",
       "    obsm: 'X_scArches', 'X_umap'\n",
       "    obsp: 'connectivities', 'distances'"
      ]
     },
     "execution_count": 7,
     "metadata": {},
     "output_type": "execute_result"
    }
   ],
   "source": [
    "adata =  sc.read('/home/macera/Documentos/CZI/MANUSCRIPT_PREP/REVIEWS/external_data/heart/query.h5ad')\n",
    "adata"
   ]
  },
  {
   "cell_type": "code",
   "execution_count": null,
   "id": "82757764-83d3-4912-a5e4-464ba49eec5b",
   "metadata": {
    "tags": []
   },
   "outputs": [
    {
     "name": "stdout",
     "output_type": "stream",
     "text": [
      "Model: \"deepscore\"\n",
      "_________________________________________________________________\n",
      " Layer (type)                Output Shape              Param #   \n",
      "=================================================================\n",
      " batch_normalization (Batch  (None, 1850)              7400      \n",
      " Normalization)                                                  \n",
      "                                                                 \n",
      " dense1024 (Dense)           (None, 1024)              1895424   \n",
      "                                                                 \n",
      " dropout (Dropout)           (None, 1024)              0         \n",
      "                                                                 \n",
      " batch_normalization_1 (Bat  (None, 1024)              4096      \n",
      " chNormalization)                                                \n",
      "                                                                 \n",
      " dense256 (Dense)            (None, 256)               262400    \n",
      "                                                                 \n",
      " dropout_1 (Dropout)         (None, 256)               0         \n",
      "                                                                 \n",
      " batch_normalization_2 (Bat  (None, 256)               1024      \n",
      " chNormalization)                                                \n",
      "                                                                 \n",
      " output (Dense)              (None, 5)                 1285      \n",
      "                                                                 \n",
      "=================================================================\n",
      "Total params: 2171629 (8.28 MB)\n",
      "Trainable params: 2165369 (8.26 MB)\n",
      "Non-trainable params: 6260 (24.45 KB)\n",
      "_________________________________________________________________\n"
     ]
    },
    {
     "name": "stderr",
     "output_type": "stream",
     "text": [
      "2025-08-14 17:43:00.721280: W tensorflow/tsl/framework/cpu_allocator_impl.cc:83] Allocation of 2488464600 exceeds 10% of free system memory.\n",
      "2025-08-14 17:43:01.785926: W tensorflow/tsl/framework/cpu_allocator_impl.cc:83] Allocation of 2239617400 exceeds 10% of free system memory.\n"
     ]
    },
    {
     "name": "stdout",
     "output_type": "stream",
     "text": [
      "Epoch 1/30\n",
      "2365/2365 [==============================] - 59s 25ms/step - loss: 0.0065 - categorical_accuracy: 0.9979 - val_loss: 0.0029 - val_categorical_accuracy: 0.9991 - lr: 0.0010\n",
      "Epoch 2/30\n",
      "2365/2365 [==============================] - 66s 28ms/step - loss: 0.0027 - categorical_accuracy: 0.9991 - val_loss: 0.0032 - val_categorical_accuracy: 0.9991 - lr: 0.0010\n",
      "Epoch 3/30\n",
      "2365/2365 [==============================] - 66s 28ms/step - loss: 0.0020 - categorical_accuracy: 0.9993 - val_loss: 0.0034 - val_categorical_accuracy: 0.9990 - lr: 0.0010\n",
      "Epoch 4/30\n",
      "2365/2365 [==============================] - 70s 30ms/step - loss: 0.0022 - categorical_accuracy: 0.9992 - val_loss: 0.0021 - val_categorical_accuracy: 0.9993 - lr: 0.0010\n",
      "Epoch 5/30\n",
      "2365/2365 [==============================] - 70s 30ms/step - loss: 0.0021 - categorical_accuracy: 0.9993 - val_loss: 0.0028 - val_categorical_accuracy: 0.9993 - lr: 0.0010\n",
      "Epoch 6/30\n",
      "2365/2365 [==============================] - 71s 30ms/step - loss: 0.0019 - categorical_accuracy: 0.9994 - val_loss: 0.0037 - val_categorical_accuracy: 0.9989 - lr: 0.0010\n",
      "Epoch 7/30\n",
      "1817/2365 [======================>.......] - ETA: 16s - loss: 0.0017 - categorical_accuracy: 0.9995"
     ]
    }
   ],
   "source": [
    "## SET PARAMETERS\n",
    "n_markers = 500 # Max number of markers to use per cell-type\n",
    "overlapping = False # Parameter to control overlapping marker genes between cell types on the prediction.\n",
    "\n",
    "\n",
    "# ref_py_save = ref_py.copy()\n",
    "\n",
    "# for mod in ['scRNA','snRNA','scRNA5p']:\n",
    "#     if os.path.exists(f'csv/Deepscore_HCA_l1_{mod}_CLEAN.csv'):\n",
    "#         print(f'{mod} already exists!')\n",
    "\n",
    "mod='HEART'\n",
    "\n",
    "# adata.X = adata.layers['counts'].copy()\n",
    "\n",
    "\n",
    "with open(f'markers_ds/{markers_filename}.pickle', 'rb') as handle:\n",
    "    ranked_genes_populations = pickle.load(handle) \n",
    "\n",
    "if overlapping:\n",
    "    selected_markers =[]\n",
    "    for cell_type_ in ref_py.obs[cell_type].unique():\n",
    "        cell_type_markers = []\n",
    "        for marker in ranked_genes_populations['names'][cell_type_][:n_markers]:\n",
    "            if marker in adata.var.index: \n",
    "                selected_markers.append(marker)\n",
    "    selected_markers = set(selected_markers)\n",
    "\n",
    "else:\n",
    "    # Step 2: Store markers for each subset\n",
    "    subset_markers_dict ={}\n",
    "    for subset in ref_py.obs[cell_type].unique():\n",
    "        subset_markers = ranked_genes_populations['names'][subset]\n",
    "        subset_markers = [gene for gene in subset_markers if gene in adata.var.index]\n",
    "        subset_markers_dict[subset] = set(subset_markers[:n_markers+100])\n",
    "\n",
    "    # Step 3: Identify overlapping markers\n",
    "    overlapping_markers = set()\n",
    "    for subset, markers in subset_markers_dict.items():\n",
    "        for other_subset, other_markers in subset_markers_dict.items():\n",
    "            if subset != other_subset:\n",
    "                overlapping_markers.update(markers.intersection(other_markers))\n",
    "\n",
    "    # Step 4: Select markers for each subset, excluding overlapping markers\n",
    "    marker_dict = {}\n",
    "    for subset, markers in subset_markers_dict.items():\n",
    "        unique_markers = [marker for marker in markers if marker not in overlapping_markers]\n",
    "        marker_dict[subset] = unique_markers[:n_markers]  # Select up to TOP n_markers\n",
    "    selected_markers = [marker for subset in marker_dict for marker in marker_dict[subset]]\n",
    "\n",
    "\n",
    "\n",
    "    sc.pp.normalize_total(adata, target_sum=1e4)\n",
    "    sc.pp.log1p(adata)\n",
    "\n",
    "\n",
    "    # Subset the data to the selected markers\n",
    "\n",
    "    ref_py = ref_py[:, list(selected_markers)].copy()\n",
    "    adata = adata[:, list(selected_markers)].copy()\n",
    "\n",
    "    len(selected_markers)\n",
    "\n",
    "    sc.pp.scale(ref_py)\n",
    "    sc.pp.scale(adata)\n",
    "\n",
    "    ref_py.obs[cell_type] = ref_py.obs[cell_type].tolist()\n",
    "    len(ref_py.obs[cell_type].unique())\n",
    "\n",
    "\n",
    "    def scheduler(epoch, lr):\n",
    "        if epoch < 10:\n",
    "            return lr\n",
    "        else:\n",
    "            return lr * tf.math.exp(-0.1)\n",
    "\n",
    "\n",
    "    n_feat = ref_py.shape[1]\n",
    "    n_labs = len(ref_py.obs[cell_type].unique())\n",
    "\n",
    "    ds = deepscore.DeepScore(hidden_nodes=[1024, 256],\n",
    "                   n_features=n_feat, \n",
    "                   n_labels=n_labs,\n",
    "                   epochs=30,\n",
    "                   batch_size=128, \n",
    "                   activation=\"relu\", \n",
    "                   dropout=True, \n",
    "                   dropout_rate=0.1,\n",
    "                   batchnorm=True, \n",
    "                   lr=0.001,\n",
    "                   weight_reg=True)\n",
    "\n",
    "\n",
    "\n",
    "\n",
    "    import os\n",
    "    os.environ[\"TF_GPU_ALLOCATOR\"]=\"cuda_malloc_async\"\n",
    "\n",
    "    ds.set_reference(ref_py, label_by=cell_type, test_prop=0.1)\n",
    "\n",
    "    ds.train(earlystopping=True, patience=10, lr_scheduler=scheduler,)\n",
    "    # ds.model.save(f'models/deepscore') # In case you want to save the DS model\n",
    "\n",
    "    prob_df, adata = ds.annotate(adata, pred_key='Deepscore_HCA',Unclassified = False,return_pred_matrix=True)\n",
    "\n",
    "    # SAVE the RESULTS on csv\n",
    "    adata.obs[['Deepscore_HCA','Deepscore_HCA_score']].to_csv(f'csv/Deepscore_HCA_l1_{mod}.csv')\n",
    "\n",
    "    prob_df.to_csv(f'csv/prob_matrix/Deepscore_HCA_l1_{mod}_CLEAN.csv')\n"
   ]
  }
 ],
 "metadata": {
  "kernelspec": {
   "display_name": "Python (deepscore)",
   "language": "python",
   "name": "deepscore"
  },
  "language_info": {
   "codemirror_mode": {
    "name": "ipython",
    "version": 3
   },
   "file_extension": ".py",
   "mimetype": "text/x-python",
   "name": "python",
   "nbconvert_exporter": "python",
   "pygments_lexer": "ipython3",
   "version": "3.8.19"
  }
 },
 "nbformat": 4,
 "nbformat_minor": 5
}
