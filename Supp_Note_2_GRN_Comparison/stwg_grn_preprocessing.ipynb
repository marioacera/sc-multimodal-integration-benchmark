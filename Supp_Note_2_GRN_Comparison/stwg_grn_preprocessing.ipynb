{
 "cells": [
  {
   "cell_type": "code",
   "execution_count": 1,
   "id": "17d9b39e-d1de-460a-8abb-bc997cf368d5",
   "metadata": {},
   "outputs": [
    {
     "name": "stderr",
     "output_type": "stream",
     "text": [
      "2024-12-08 16:24:11.576650: I tensorflow/core/util/port.cc:153] oneDNN custom operations are on. You may see slightly different numerical results due to floating-point round-off errors from different computation orders. To turn them off, set the environment variable `TF_ENABLE_ONEDNN_OPTS=0`.\n",
      "2024-12-08 16:24:11.592440: E external/local_xla/xla/stream_executor/cuda/cuda_fft.cc:485] Unable to register cuFFT factory: Attempting to register factory for plugin cuFFT when one has already been registered\n",
      "2024-12-08 16:24:11.611626: E external/local_xla/xla/stream_executor/cuda/cuda_dnn.cc:8454] Unable to register cuDNN factory: Attempting to register factory for plugin cuDNN when one has already been registered\n",
      "2024-12-08 16:24:11.617475: E external/local_xla/xla/stream_executor/cuda/cuda_blas.cc:1452] Unable to register cuBLAS factory: Attempting to register factory for plugin cuBLAS when one has already been registered\n",
      "2024-12-08 16:24:11.631330: I tensorflow/core/platform/cpu_feature_guard.cc:210] This TensorFlow binary is optimized to use available CPU instructions in performance-critical operations.\n",
      "To enable the following instructions: AVX2 AVX512F AVX512_VNNI FMA, in other operations, rebuild TensorFlow with the appropriate compiler flags.\n",
      "2024-12-08 16:24:12.487828: W tensorflow/compiler/tf2tensorrt/utils/py_utils.cc:38] TF-TRT Warning: Could not find TensorRT\n"
     ]
    }
   ],
   "source": [
    "import numpy as np\n",
    "import numpy.random as npr\n",
    "import pandas as pd\n",
    "import matplotlib.pyplot as plt\n",
    "import seaborn as sns\n",
    "\n",
    "import warnings\n",
    "from contextlib import contextmanager\n",
    "@contextmanager\n",
    "def ignore_warnings():\n",
    "    with warnings.catch_warnings():\n",
    "        warnings.simplefilter(\"ignore\")\n",
    "        yield\n",
    "\n",
    "from numba.core.errors import NumbaDeprecationWarning\n",
    "warnings.filterwarnings('ignore', category=NumbaDeprecationWarning)\n",
    "import scanpy as sc\n",
    "import anndata as ad\n",
    "import mudata as md\n",
    "import muon as mu\n",
    "import pyranges as pr\n",
    "\n",
    "%config InlineBackend.figure_format = 'retina'"
   ]
  },
  {
   "cell_type": "code",
   "execution_count": 2,
   "id": "88b6b87a-027d-4602-b5c9-ef68656d287d",
   "metadata": {},
   "outputs": [
    {
     "name": "stdout",
     "output_type": "stream",
     "text": [
      "RAW_MDATA_PATH=../data/stwg-v2.h5mu\n",
      "MDATA_PATH=../data/stwg-v2-filtered.h5mu\n",
      "OUTPUT_DIR=../analysis/\n",
      "JASPAR_PATH=../data/JASPAR2024_CORE_vertebrates_non-redundant_pfms_jaspar.txt\n",
      "REFTSS_PATH=../data/reftss.pkl\n",
      "HPA_PATH=../data/hpa_tfs.pkl\n",
      "CHIPATLAS_PATH=../data/chipatlas_kidney_promoters.pkl\n",
      "PLATFORM=batch\n",
      "SAMPLE=sample\n",
      "CELLTYPE=celltype\n",
      "GEX=rna\n",
      "ACC=atac\n",
      "MIN_CELLS=30\n",
      "PROXIMAL_BP=5000\n",
      "RANDOM_STATE=0\n",
      "NORMALIZE_TOTAL=False\n",
      "NUM_CELLS=None\n",
      "READS_PER_CELL=None\n",
      "NUM_TOP_GENES=1000\n",
      "MIN_SAMPLES=-1\n",
      "NUM_TREES=20\n",
      "LEARNING_RATE=0.5\n",
      "MAX_DEPTH=None\n",
      "EARLY_STOPPING=3\n",
      "FEATURE_FRACTION=1\n",
      "BAGGING_FRACTION=1\n",
      "LEAVE_P_OUT=2\n",
      "IMPORTANCE_THRESHOLD=0.95\n",
      "CORRELATION_THRESHOLD=0.2\n"
     ]
    }
   ],
   "source": [
    "from stwg_grn_params import *"
   ]
  },
  {
   "cell_type": "markdown",
   "id": "11b9c626-7d1f-40d8-ac10-96b285311a32",
   "metadata": {},
   "source": [
    "# Collate single-cell data"
   ]
  },
  {
   "cell_type": "code",
   "execution_count": 3,
   "id": "7e037b76-4c6a-4cb3-925a-42d5d0a0323d",
   "metadata": {},
   "outputs": [
    {
     "name": "stderr",
     "output_type": "stream",
     "text": [
      "/home/gridsan/mmurphy/.local/lib/python3.10/site-packages/anndata/_core/anndata.py:1754: UserWarning: Observation names are not unique. To make them unique, call `.obs_names_make_unique`.\n",
      "  utils.warn_names_duplicates(\"obs\")\n"
     ]
    },
    {
     "data": {
      "text/html": [
       "<div>\n",
       "<style scoped>\n",
       "    .dataframe tbody tr th:only-of-type {\n",
       "        vertical-align: middle;\n",
       "    }\n",
       "\n",
       "    .dataframe tbody tr th {\n",
       "        vertical-align: top;\n",
       "    }\n",
       "\n",
       "    .dataframe thead th {\n",
       "        text-align: right;\n",
       "    }\n",
       "</style>\n",
       "<table border=\"1\" class=\"dataframe\">\n",
       "  <thead>\n",
       "    <tr style=\"text-align: right;\">\n",
       "      <th></th>\n",
       "      <th>sample</th>\n",
       "      <th>barcode</th>\n",
       "      <th>batch</th>\n",
       "      <th>celltype</th>\n",
       "    </tr>\n",
       "  </thead>\n",
       "  <tbody>\n",
       "    <tr>\n",
       "      <th>AAACGAAAGGTGCCAA-lib_55-scRNA</th>\n",
       "      <td>lib_55</td>\n",
       "      <td>AAACGAAAGGTGCCAA</td>\n",
       "      <td>scRNA</td>\n",
       "      <td>ICA</td>\n",
       "    </tr>\n",
       "    <tr>\n",
       "      <th>AAACGAACACGTAGAG-lib_55-scRNA</th>\n",
       "      <td>lib_55</td>\n",
       "      <td>AAACGAACACGTAGAG</td>\n",
       "      <td>scRNA</td>\n",
       "      <td>ICA</td>\n",
       "    </tr>\n",
       "    <tr>\n",
       "      <th>AAACGAAGTACTCGCG-lib_55-scRNA</th>\n",
       "      <td>lib_55</td>\n",
       "      <td>AAACGAAGTACTCGCG</td>\n",
       "      <td>scRNA</td>\n",
       "      <td>TAL</td>\n",
       "    </tr>\n",
       "    <tr>\n",
       "      <th>AAACGAATCGAAGAAT-lib_55-scRNA</th>\n",
       "      <td>lib_55</td>\n",
       "      <td>AAACGAATCGAAGAAT</td>\n",
       "      <td>scRNA</td>\n",
       "      <td>aPT</td>\n",
       "    </tr>\n",
       "    <tr>\n",
       "      <th>AAACGAATCTCATTAC-lib_55-scRNA</th>\n",
       "      <td>lib_55</td>\n",
       "      <td>AAACGAATCTCATTAC</td>\n",
       "      <td>scRNA</td>\n",
       "      <td>ICB</td>\n",
       "    </tr>\n",
       "    <tr>\n",
       "      <th>...</th>\n",
       "      <td>...</td>\n",
       "      <td>...</td>\n",
       "      <td>...</td>\n",
       "      <td>...</td>\n",
       "    </tr>\n",
       "    <tr>\n",
       "      <th>TTTGTTGGTTGGATAT-lib_51-snMultiome</th>\n",
       "      <td>lib_51</td>\n",
       "      <td>TTTGTTGGTTGGATAT</td>\n",
       "      <td>snMultiome</td>\n",
       "      <td>CNT</td>\n",
       "    </tr>\n",
       "    <tr>\n",
       "      <th>TTTGTTGGTTGGTTGA-lib_15-snMultiome</th>\n",
       "      <td>lib_15</td>\n",
       "      <td>TTTGTTGGTTGGTTGA</td>\n",
       "      <td>snMultiome</td>\n",
       "      <td>ICA</td>\n",
       "    </tr>\n",
       "    <tr>\n",
       "      <th>TTTGTTGGTTTACTTG-lib_15-snMultiome</th>\n",
       "      <td>lib_15</td>\n",
       "      <td>TTTGTTGGTTTACTTG</td>\n",
       "      <td>snMultiome</td>\n",
       "      <td>DCT</td>\n",
       "    </tr>\n",
       "    <tr>\n",
       "      <th>TTTGTTGGTTTCCGGC-lib_15-snMultiome</th>\n",
       "      <td>lib_15</td>\n",
       "      <td>TTTGTTGGTTTCCGGC</td>\n",
       "      <td>snMultiome</td>\n",
       "      <td>aPT</td>\n",
       "    </tr>\n",
       "    <tr>\n",
       "      <th>TTTGTTGGTTTCCTCC-lib_55-snMultiome</th>\n",
       "      <td>lib_55</td>\n",
       "      <td>TTTGTTGGTTTCCTCC</td>\n",
       "      <td>snMultiome</td>\n",
       "      <td>TAL</td>\n",
       "    </tr>\n",
       "  </tbody>\n",
       "</table>\n",
       "<p>160017 rows × 4 columns</p>\n",
       "</div>"
      ],
      "text/plain": [
       "                                    sample           barcode       batch  \\\n",
       "AAACGAAAGGTGCCAA-lib_55-scRNA       lib_55  AAACGAAAGGTGCCAA       scRNA   \n",
       "AAACGAACACGTAGAG-lib_55-scRNA       lib_55  AAACGAACACGTAGAG       scRNA   \n",
       "AAACGAAGTACTCGCG-lib_55-scRNA       lib_55  AAACGAAGTACTCGCG       scRNA   \n",
       "AAACGAATCGAAGAAT-lib_55-scRNA       lib_55  AAACGAATCGAAGAAT       scRNA   \n",
       "AAACGAATCTCATTAC-lib_55-scRNA       lib_55  AAACGAATCTCATTAC       scRNA   \n",
       "...                                    ...               ...         ...   \n",
       "TTTGTTGGTTGGATAT-lib_51-snMultiome  lib_51  TTTGTTGGTTGGATAT  snMultiome   \n",
       "TTTGTTGGTTGGTTGA-lib_15-snMultiome  lib_15  TTTGTTGGTTGGTTGA  snMultiome   \n",
       "TTTGTTGGTTTACTTG-lib_15-snMultiome  lib_15  TTTGTTGGTTTACTTG  snMultiome   \n",
       "TTTGTTGGTTTCCGGC-lib_15-snMultiome  lib_15  TTTGTTGGTTTCCGGC  snMultiome   \n",
       "TTTGTTGGTTTCCTCC-lib_55-snMultiome  lib_55  TTTGTTGGTTTCCTCC  snMultiome   \n",
       "\n",
       "                                   celltype  \n",
       "AAACGAAAGGTGCCAA-lib_55-scRNA           ICA  \n",
       "AAACGAACACGTAGAG-lib_55-scRNA           ICA  \n",
       "AAACGAAGTACTCGCG-lib_55-scRNA           TAL  \n",
       "AAACGAATCGAAGAAT-lib_55-scRNA           aPT  \n",
       "AAACGAATCTCATTAC-lib_55-scRNA           ICB  \n",
       "...                                     ...  \n",
       "TTTGTTGGTTGGATAT-lib_51-snMultiome      CNT  \n",
       "TTTGTTGGTTGGTTGA-lib_15-snMultiome      ICA  \n",
       "TTTGTTGGTTTACTTG-lib_15-snMultiome      DCT  \n",
       "TTTGTTGGTTTCCGGC-lib_15-snMultiome      aPT  \n",
       "TTTGTTGGTTTCCTCC-lib_55-snMultiome      TAL  \n",
       "\n",
       "[160017 rows x 4 columns]"
      ]
     },
     "execution_count": 3,
     "metadata": {},
     "output_type": "execute_result"
    }
   ],
   "source": [
    "rna = sc.read('../data/rna.h5ad')\n",
    "\n",
    "rna.obsm = {}\n",
    "rna.varm = {}\n",
    "rna.obsp = {}\n",
    "rna.uns = {}\n",
    "\n",
    "rna.obs['celltype'] = rna.obs['Deepscore_Annotation']\n",
    "\n",
    "# duplicate the multiome snRNA\n",
    "multiome = rna[rna.obs['batch'] == 'snRNA'].copy()\n",
    "multiome.obs['batch'] = 'snMultiome'\n",
    "rna = ad.concat([rna, multiome])\n",
    "\n",
    "rna.obs['barcode'] = rna.obs_names.str.split('-').str[0]\n",
    "rna.obs_names = rna.obs['barcode'] + '-' + rna.obs['sample'].astype(str) + '-' + rna.obs['batch'].astype(str)\n",
    "\n",
    "rna.obs = rna.obs[['sample','barcode','batch','celltype']]\n",
    "\n",
    "rna.X = rna.layers['counts']\n",
    "\n",
    "rna = rna[~rna.obs.index.duplicated(keep='first')]\n",
    "\n",
    "rna.obs"
   ]
  },
  {
   "cell_type": "code",
   "execution_count": 4,
   "id": "62c2dbbc-63ed-4d86-b71f-7239c1787a06",
   "metadata": {},
   "outputs": [
    {
     "name": "stderr",
     "output_type": "stream",
     "text": [
      "/home/gridsan/mmurphy/.local/lib/python3.10/site-packages/anndata/_core/anndata.py:1754: UserWarning: Observation names are not unique. To make them unique, call `.obs_names_make_unique`.\n",
      "  utils.warn_names_duplicates(\"obs\")\n"
     ]
    },
    {
     "data": {
      "text/html": [
       "<div>\n",
       "<style scoped>\n",
       "    .dataframe tbody tr th:only-of-type {\n",
       "        vertical-align: middle;\n",
       "    }\n",
       "\n",
       "    .dataframe tbody tr th {\n",
       "        vertical-align: top;\n",
       "    }\n",
       "\n",
       "    .dataframe thead th {\n",
       "        text-align: right;\n",
       "    }\n",
       "</style>\n",
       "<table border=\"1\" class=\"dataframe\">\n",
       "  <thead>\n",
       "    <tr style=\"text-align: right;\">\n",
       "      <th></th>\n",
       "      <th>sample</th>\n",
       "      <th>barcode</th>\n",
       "      <th>batch</th>\n",
       "      <th>celltype</th>\n",
       "    </tr>\n",
       "  </thead>\n",
       "  <tbody>\n",
       "    <tr>\n",
       "      <th>AAACAGCCAACACCTA-lib_15-snMultiome</th>\n",
       "      <td>lib_15</td>\n",
       "      <td>AAACAGCCAACACCTA</td>\n",
       "      <td>snMultiome</td>\n",
       "      <td>PT</td>\n",
       "    </tr>\n",
       "    <tr>\n",
       "      <th>AAACAGCCAAGGCCAA-lib_57-snMultiome</th>\n",
       "      <td>lib_57</td>\n",
       "      <td>AAACAGCCAAGGCCAA</td>\n",
       "      <td>snMultiome</td>\n",
       "      <td>PT</td>\n",
       "    </tr>\n",
       "    <tr>\n",
       "      <th>AAACAGCCAATAACGA-lib_57-snMultiome</th>\n",
       "      <td>lib_57</td>\n",
       "      <td>AAACAGCCAATAACGA</td>\n",
       "      <td>snMultiome</td>\n",
       "      <td>PT</td>\n",
       "    </tr>\n",
       "    <tr>\n",
       "      <th>AAACAGCCACAGCCAT-lib_51-snMultiome</th>\n",
       "      <td>lib_51</td>\n",
       "      <td>AAACAGCCACAGCCAT</td>\n",
       "      <td>snMultiome</td>\n",
       "      <td>FIB</td>\n",
       "    </tr>\n",
       "    <tr>\n",
       "      <th>AAACAGCCACCAAAGG-lib_54-snMultiome</th>\n",
       "      <td>lib_54</td>\n",
       "      <td>AAACAGCCACCAAAGG</td>\n",
       "      <td>snMultiome</td>\n",
       "      <td>aPT</td>\n",
       "    </tr>\n",
       "    <tr>\n",
       "      <th>...</th>\n",
       "      <td>...</td>\n",
       "      <td>...</td>\n",
       "      <td>...</td>\n",
       "      <td>...</td>\n",
       "    </tr>\n",
       "    <tr>\n",
       "      <th>TTTGTTGGTTGAGCCG-lib_15-snMultiome</th>\n",
       "      <td>lib_15</td>\n",
       "      <td>TTTGTTGGTTGAGCCG</td>\n",
       "      <td>snMultiome</td>\n",
       "      <td>DCT</td>\n",
       "    </tr>\n",
       "    <tr>\n",
       "      <th>TTTGTTGGTTGGATAT-lib_51-snMultiome</th>\n",
       "      <td>lib_51</td>\n",
       "      <td>TTTGTTGGTTGGATAT</td>\n",
       "      <td>snMultiome</td>\n",
       "      <td>CNT</td>\n",
       "    </tr>\n",
       "    <tr>\n",
       "      <th>TTTGTTGGTTTACTTG-lib_15-snMultiome</th>\n",
       "      <td>lib_15</td>\n",
       "      <td>TTTGTTGGTTTACTTG</td>\n",
       "      <td>snMultiome</td>\n",
       "      <td>DCT</td>\n",
       "    </tr>\n",
       "    <tr>\n",
       "      <th>TTTGTTGGTTTCCGGC-lib_15-snMultiome</th>\n",
       "      <td>lib_15</td>\n",
       "      <td>TTTGTTGGTTTCCGGC</td>\n",
       "      <td>snMultiome</td>\n",
       "      <td>aPT</td>\n",
       "    </tr>\n",
       "    <tr>\n",
       "      <th>TTTGTTGGTTTCCTCC-lib_55-snMultiome</th>\n",
       "      <td>lib_55</td>\n",
       "      <td>TTTGTTGGTTTCCTCC</td>\n",
       "      <td>snMultiome</td>\n",
       "      <td>TAL</td>\n",
       "    </tr>\n",
       "  </tbody>\n",
       "</table>\n",
       "<p>59980 rows × 4 columns</p>\n",
       "</div>"
      ],
      "text/plain": [
       "                                    sample           barcode       batch  \\\n",
       "AAACAGCCAACACCTA-lib_15-snMultiome  lib_15  AAACAGCCAACACCTA  snMultiome   \n",
       "AAACAGCCAAGGCCAA-lib_57-snMultiome  lib_57  AAACAGCCAAGGCCAA  snMultiome   \n",
       "AAACAGCCAATAACGA-lib_57-snMultiome  lib_57  AAACAGCCAATAACGA  snMultiome   \n",
       "AAACAGCCACAGCCAT-lib_51-snMultiome  lib_51  AAACAGCCACAGCCAT  snMultiome   \n",
       "AAACAGCCACCAAAGG-lib_54-snMultiome  lib_54  AAACAGCCACCAAAGG  snMultiome   \n",
       "...                                    ...               ...         ...   \n",
       "TTTGTTGGTTGAGCCG-lib_15-snMultiome  lib_15  TTTGTTGGTTGAGCCG  snMultiome   \n",
       "TTTGTTGGTTGGATAT-lib_51-snMultiome  lib_51  TTTGTTGGTTGGATAT  snMultiome   \n",
       "TTTGTTGGTTTACTTG-lib_15-snMultiome  lib_15  TTTGTTGGTTTACTTG  snMultiome   \n",
       "TTTGTTGGTTTCCGGC-lib_15-snMultiome  lib_15  TTTGTTGGTTTCCGGC  snMultiome   \n",
       "TTTGTTGGTTTCCTCC-lib_55-snMultiome  lib_55  TTTGTTGGTTTCCTCC  snMultiome   \n",
       "\n",
       "                                   celltype  \n",
       "AAACAGCCAACACCTA-lib_15-snMultiome       PT  \n",
       "AAACAGCCAAGGCCAA-lib_57-snMultiome       PT  \n",
       "AAACAGCCAATAACGA-lib_57-snMultiome       PT  \n",
       "AAACAGCCACAGCCAT-lib_51-snMultiome      FIB  \n",
       "AAACAGCCACCAAAGG-lib_54-snMultiome      aPT  \n",
       "...                                     ...  \n",
       "TTTGTTGGTTGAGCCG-lib_15-snMultiome      DCT  \n",
       "TTTGTTGGTTGGATAT-lib_51-snMultiome      CNT  \n",
       "TTTGTTGGTTTACTTG-lib_15-snMultiome      DCT  \n",
       "TTTGTTGGTTTCCGGC-lib_15-snMultiome      aPT  \n",
       "TTTGTTGGTTTCCTCC-lib_55-snMultiome      TAL  \n",
       "\n",
       "[59980 rows x 4 columns]"
      ]
     },
     "execution_count": 4,
     "metadata": {},
     "output_type": "execute_result"
    }
   ],
   "source": [
    "atac = sc.read('../data/atac.h5ad',gex_only=False)\n",
    "\n",
    "atac.obsm = {}\n",
    "atac.varm = {}\n",
    "atac.obsp = {}\n",
    "atac.uns = {}\n",
    "\n",
    "atac.obs['celltype'] = atac.obs['Deepscore_Annotation']\n",
    "atac.obs['batch'] = 'snMultiome'\n",
    "\n",
    "atac.obs['barcode'] = atac.obs_names.str.split('-').str[0]\n",
    "atac.obs_names = atac.obs['barcode'] + '-' + atac.obs['sample'].astype(str) + '-' + atac.obs['batch'].astype(str)\n",
    "\n",
    "atac.obs = atac.obs[['sample','barcode','batch','celltype']]\n",
    "\n",
    "atac.X = atac.layers['counts']\n",
    "\n",
    "atac = atac[~atac.obs.index.duplicated(keep='first')]\n",
    "\n",
    "atac.obs"
   ]
  },
  {
   "cell_type": "code",
   "execution_count": 5,
   "id": "ecda4ed9-3de1-443c-af00-55fc2afba207",
   "metadata": {},
   "outputs": [
    {
     "name": "stderr",
     "output_type": "stream",
     "text": [
      "/home/gridsan/mmurphy/.local/lib/python3.10/site-packages/mudata/_core/mudata.py:1531: FutureWarning: From 0.4 .update() will not pull obs/var columns from individual modalities by default anymore. Set mudata.set_options(pull_on_update=False) to adopt the new behaviour, which will become the default. Use new pull_obs/pull_var and push_obs/push_var methods for more flexibility.\n",
      "  self._update_attr(\"var\", axis=0, join_common=join_common)\n",
      "/home/gridsan/mmurphy/.local/lib/python3.10/site-packages/mudata/_core/mudata.py:1429: FutureWarning: From 0.4 .update() will not pull obs/var columns from individual modalities by default anymore. Set mudata.set_options(pull_on_update=False) to adopt the new behaviour, which will become the default. Use new pull_obs/pull_var and push_obs/push_var methods for more flexibility.\n",
      "  self._update_attr(\"obs\", axis=1, join_common=join_common)\n",
      "/home/gridsan/mmurphy/.local/lib/python3.10/site-packages/mudata/_core/mudata.py:1531: FutureWarning: From 0.4 .update() will not pull obs/var columns from individual modalities by default anymore. Set mudata.set_options(pull_on_update=False) to adopt the new behaviour, which will become the default. Use new pull_obs/pull_var and push_obs/push_var methods for more flexibility.\n",
      "  self._update_attr(\"var\", axis=0, join_common=join_common)\n",
      "/home/gridsan/mmurphy/.local/lib/python3.10/site-packages/mudata/_core/mudata.py:1429: FutureWarning: From 0.4 .update() will not pull obs/var columns from individual modalities by default anymore. Set mudata.set_options(pull_on_update=False) to adopt the new behaviour, which will become the default. Use new pull_obs/pull_var and push_obs/push_var methods for more flexibility.\n",
      "  self._update_attr(\"obs\", axis=1, join_common=join_common)\n"
     ]
    }
   ],
   "source": [
    "mdata = mu.MuData({\n",
    "    GEX: rna,\n",
    "    ACC: atac\n",
    "})\n",
    "\n",
    "var = mdata.var.copy()\n",
    "\n",
    "gex_obs = mdata.obs.filter(like=GEX).astype(np.object_)\n",
    "gex_obs.columns = gex_obs.columns.str.replace(f'{GEX}:','')\n",
    "acc_obs = mdata.obs.filter(like=ACC).astype(np.object_)\n",
    "acc_obs.columns = acc_obs.columns.str.replace(f'{ACC}:','')\n",
    "obs = gex_obs.fillna(acc_obs)\n",
    "mdata.obs = pd.concat([mdata.obs,obs],axis=1)\n",
    "\n",
    "mdata.var = var.loc[mdata.var_names]\n",
    "\n",
    "intervals = mdata['atac'].var_names.str.split(':|-',expand=True).to_frame()\n",
    "intervals.index = mdata['atac'].var_names\n",
    "intervals.columns = ['Chromosome','Start','End']\n",
    "intervals['Start'] = intervals['Start'].astype(int)\n",
    "intervals['End'] = intervals['End'].astype(int)\n",
    "\n",
    "mdata['atac'].var = mdata['atac'].var.join(intervals)\n",
    "\n",
    "gene_annots = pd.read_csv('../data/gencode.v44.basic.annotation.gtf.gz',sep='\\t',header=None,comment='#')\n",
    "gene_annots.columns = ['seqname', 'source', 'feature', 'start', 'end', 'score', 'strand', 'frame', 'attribute']\n",
    "gene_annots = gene_annots.query('feature==\"gene\"')\n",
    "attributes = (gene_annots['attribute'].str.extractall(r'(\\w+)\\s+\"([^\"]+)\"')\n",
    "              .droplevel(1).reset_index().drop_duplicates(subset=['index',0])\n",
    "              .pivot(index='index',columns=0,values=1))\n",
    "gene_annots = gene_annots.join(attributes)\n",
    "\n",
    "gene_annots = gene_annots.drop_duplicates(subset='gene_name',keep='first')\n",
    "gene_annots = gene_annots.set_index('gene_name')\n",
    "\n",
    "mdata['rna'].var = mdata['rna'].var.join(gene_annots).drop(columns='artif_dupl')\n",
    "\n",
    "mdata.write(RAW_MDATA_PATH)"
   ]
  },
  {
   "cell_type": "markdown",
   "id": "dbceff0b-e0c9-4a78-89e5-70fa69324fe8",
   "metadata": {},
   "source": [
    "# Filter single-cell data"
   ]
  },
  {
   "cell_type": "code",
   "execution_count": 6,
   "id": "5d1d9701-b6d0-4065-bf1c-01c0f2b0ae42",
   "metadata": {
    "tags": []
   },
   "outputs": [
    {
     "name": "stderr",
     "output_type": "stream",
     "text": [
      "/home/gridsan/mmurphy/.local/lib/python3.10/site-packages/mudata/_core/mudata.py:1531: FutureWarning: From 0.4 .update() will not pull obs/var columns from individual modalities by default anymore. Set mudata.set_options(pull_on_update=False) to adopt the new behaviour, which will become the default. Use new pull_obs/pull_var and push_obs/push_var methods for more flexibility.\n",
      "  self._update_attr(\"var\", axis=0, join_common=join_common)\n",
      "/home/gridsan/mmurphy/.local/lib/python3.10/site-packages/mudata/_core/mudata.py:1429: FutureWarning: From 0.4 .update() will not pull obs/var columns from individual modalities by default anymore. Set mudata.set_options(pull_on_update=False) to adopt the new behaviour, which will become the default. Use new pull_obs/pull_var and push_obs/push_var methods for more flexibility.\n",
      "  self._update_attr(\"obs\", axis=1, join_common=join_common)\n"
     ]
    },
    {
     "data": {
      "text/plain": [
       "(182280, 190515)"
      ]
     },
     "execution_count": 6,
     "metadata": {},
     "output_type": "execute_result"
    }
   ],
   "source": [
    "mdata = mu.read(RAW_MDATA_PATH)\n",
    "\n",
    "mdata.shape"
   ]
  },
  {
   "cell_type": "code",
   "execution_count": 7,
   "id": "85b225cd",
   "metadata": {},
   "outputs": [
    {
     "name": "stderr",
     "output_type": "stream",
     "text": [
      "/home/gridsan/mmurphy/.local/lib/python3.10/site-packages/mudata/_core/mudata.py:1531: FutureWarning: From 0.4 .update() will not pull obs/var columns from individual modalities by default anymore. Set mudata.set_options(pull_on_update=False) to adopt the new behaviour, which will become the default. Use new pull_obs/pull_var and push_obs/push_var methods for more flexibility.\n",
      "  self._update_attr(\"var\", axis=0, join_common=join_common)\n",
      "/home/gridsan/mmurphy/.local/lib/python3.10/site-packages/mudata/_core/mudata.py:1429: FutureWarning: From 0.4 .update() will not pull obs/var columns from individual modalities by default anymore. Set mudata.set_options(pull_on_update=False) to adopt the new behaviour, which will become the default. Use new pull_obs/pull_var and push_obs/push_var methods for more flexibility.\n",
      "  self._update_attr(\"obs\", axis=1, join_common=join_common)\n"
     ]
    },
    {
     "data": {
      "text/plain": [
       "(42464, 190515)"
      ]
     },
     "execution_count": 7,
     "metadata": {},
     "output_type": "execute_result"
    }
   ],
   "source": [
    "# limit to biological samples represented in all modalities. there are *three* of these\n",
    "celltypes = mdata.obs[CELLTYPE].unique()\n",
    "platforms = mdata.obs[PLATFORM].unique()\n",
    "\n",
    "min_samples = len(platforms) if MIN_SAMPLES == -1 else MIN_SAMPLES\n",
    "    \n",
    "mdata = mdata[mdata.obs.groupby(SAMPLE,observed=True)[PLATFORM].transform('nunique') == min_samples].copy()\n",
    "mdata.shape"
   ]
  },
  {
   "cell_type": "code",
   "execution_count": 8,
   "id": "9fe08743",
   "metadata": {},
   "outputs": [
    {
     "data": {
      "text/plain": [
       "(42464, 190515)"
      ]
     },
     "execution_count": 8,
     "metadata": {},
     "output_type": "execute_result"
    }
   ],
   "source": [
    "# downsample each sample x platform to same bulk number of cells\n",
    "# (ensuring we only use cells with GEX avialabel)\n",
    "# because cell type bias is a property of the platform, don't touch it\n",
    "# (currently not doing this - it's confounded with the platform itself?)\n",
    "\n",
    "if NUM_CELLS is not None:\n",
    "    indices = []\n",
    "    for (platform, sample), _df in mdata[GEX].obs.groupby([PLATFORM,SAMPLE],observed=True):\n",
    "        indices.extend(_df.sample(int(num_cells), random_state=RANDOM_STATE).index.tolist())\n",
    "\n",
    "    mdata = mdata[indices].copy()\n",
    "    \n",
    "mdata.shape"
   ]
  },
  {
   "cell_type": "code",
   "execution_count": 9,
   "id": "656e514f-ff11-4304-a4ab-9df1d931de67",
   "metadata": {},
   "outputs": [
    {
     "name": "stdout",
     "output_type": "stream",
     "text": [
      "scRNA lib_09 1813\n",
      "scRNA lib_10 1578\n",
      "scRNA lib_36 1002\n",
      "scRNA5p lib_09 1080\n",
      "scRNA5p lib_10 2720\n",
      "scRNA5p lib_36 2616\n",
      "snMultiome lib_09 3507\n",
      "snMultiome lib_10 2722\n",
      "snMultiome lib_36 8631\n",
      "snRNA lib_09 3507\n",
      "snRNA lib_10 2722\n",
      "snRNA lib_36 8631\n"
     ]
    }
   ],
   "source": [
    "for (platform, sample), _df in mdata[GEX].obs.groupby([PLATFORM,SAMPLE],observed=True):\n",
    "    print(platform, sample, len(_df))"
   ]
  },
  {
   "cell_type": "code",
   "execution_count": 10,
   "id": "d3ecc37b-24e2-4a05-88a6-a66b06372211",
   "metadata": {},
   "outputs": [
    {
     "name": "stdout",
     "output_type": "stream",
     "text": [
      "scRNA lib_09 3107.1494\n",
      "scRNA lib_10 6582.6426\n",
      "scRNA lib_36 1360.1996\n",
      "scRNA5p lib_09 5144.8276\n",
      "scRNA5p lib_10 4927.6562\n",
      "scRNA5p lib_36 6101.9565\n",
      "snMultiome lib_09 3563.9612\n",
      "snMultiome lib_10 3076.3335\n",
      "snMultiome lib_36 6483.363\n",
      "snRNA lib_09 3563.9612\n",
      "snRNA lib_10 3076.3335\n",
      "snRNA lib_36 6483.363\n"
     ]
    }
   ],
   "source": [
    "for (platform, sample), _df in mdata[GEX].obs.groupby([PLATFORM,SAMPLE],observed=True):\n",
    "    print(platform, sample, mdata[GEX][_df.index].X.sum(axis=1).mean())"
   ]
  },
  {
   "cell_type": "code",
   "execution_count": 11,
   "id": "dae6a1b6-054b-4edd-b839-fbc766941b4a",
   "metadata": {},
   "outputs": [
    {
     "name": "stderr",
     "output_type": "stream",
     "text": [
      "/home/gridsan/mmurphy/.local/lib/python3.10/site-packages/mudata/_core/mudata.py:1531: FutureWarning: From 0.4 .update() will not pull obs/var columns from individual modalities by default anymore. Set mudata.set_options(pull_on_update=False) to adopt the new behaviour, which will become the default. Use new pull_obs/pull_var and push_obs/push_var methods for more flexibility.\n",
      "  self._update_attr(\"var\", axis=0, join_common=join_common)\n",
      "/home/gridsan/mmurphy/.local/lib/python3.10/site-packages/mudata/_core/mudata.py:1429: FutureWarning: From 0.4 .update() will not pull obs/var columns from individual modalities by default anymore. Set mudata.set_options(pull_on_update=False) to adopt the new behaviour, which will become the default. Use new pull_obs/pull_var and push_obs/push_var methods for more flexibility.\n",
      "  self._update_attr(\"obs\", axis=1, join_common=join_common)\n"
     ]
    }
   ],
   "source": [
    "mdata.write(MDATA_PATH)"
   ]
  },
  {
   "cell_type": "markdown",
   "id": "ff3e5929-ea67-41a5-ad2a-5f0dd07cd93f",
   "metadata": {},
   "source": [
    "# HPA TFs"
   ]
  },
  {
   "cell_type": "code",
   "execution_count": 12,
   "id": "b83f1179-5d09-4c97-9860-3d2381264ffa",
   "metadata": {
    "tags": []
   },
   "outputs": [
    {
     "data": {
      "text/plain": [
       "3677"
      ]
     },
     "execution_count": 12,
     "metadata": {},
     "output_type": "execute_result"
    }
   ],
   "source": [
    "#!wget https://www.proteinatlas.org/download/normal_tissue.tsv.zip\n",
    "hpa_annots = pd.read_csv('../data/normal_tissue.tsv.zip',sep='\\t')\n",
    "hpa = pd.read_csv('../data/hpa_v23_kidney.tsv',sep='\\t',header=None)\n",
    "hpa.columns = ['Gene name','Gene','uniprot_id','antibody_id','Tissue','Cell type',\n",
    "               'staining','intensity','quantity','location','sex','age','donor_id','image_url']\n",
    "hpa = hpa.merge(hpa_annots,on=['Gene','Gene name','Tissue','Cell type'])\n",
    "\n",
    "df = hpa.query('Reliability==\"Enhanced\"')\n",
    "df = df[['Gene name','location','staining']].drop_duplicates()\n",
    "df['location'] = df['location'].str.split(',')\n",
    "df = df.explode('location')\n",
    "df['staining'] = df['staining'].map({'not detected':0.}).fillna(1.)\n",
    "df = df.pivot_table(index='Gene name',columns='location',values='staining',aggfunc='mean').fillna(0.)\n",
    "\n",
    "df.to_pickle(HPA_PATH)\n",
    "\n",
    "len(df)"
   ]
  },
  {
   "cell_type": "markdown",
   "id": "8cdacd17-ccc5-47cb-84f4-87c9b122c45e",
   "metadata": {},
   "source": [
    "# RefTSS start sites"
   ]
  },
  {
   "cell_type": "code",
   "execution_count": 13,
   "id": "5cf868bd-8601-41ab-8d1b-7d78a1d39aa0",
   "metadata": {},
   "outputs": [
    {
     "data": {
      "text/plain": [
       "98695"
      ]
     },
     "execution_count": 13,
     "metadata": {},
     "output_type": "execute_result"
    }
   ],
   "source": [
    "tss_bed = pd.read_csv('../data/refTSS_v4.1_human_coordinate.hg38.bed.txt.gz',sep='\\t')\n",
    "tss_annot = pd.read_csv('../data/refTSS_v4.1_human_hg38_annotation.txt.gz',sep='\\t')\n",
    "tss = tss_bed.merge(tss_annot,on='refTSS_ID').dropna(subset='Gene_symbol')\n",
    "tss.columns = tss.columns.str.capitalize()\n",
    "tss['gene'] = tss['Gene_symbol']\n",
    "\n",
    "tss.to_pickle(REFTSS_PATH)\n",
    "\n",
    "len(tss)"
   ]
  },
  {
   "cell_type": "markdown",
   "id": "4cb03842-8769-4108-9bf5-4d7f893e47e2",
   "metadata": {},
   "source": [
    "# Kidney ChipSeq links"
   ]
  },
  {
   "cell_type": "code",
   "execution_count": 14,
   "id": "5073edbd-80db-419c-8aa7-707d3dd41f92",
   "metadata": {},
   "outputs": [],
   "source": [
    "def read_chipatlas(fn):\n",
    "    chipseq = pd.read_csv(fn,sep='\\t',engine='pyarrow',header=None,skiprows=1).iloc[:,:6]\n",
    "    chipseq.columns = ['Chromosome', 'Start', 'End', 'attributes', 'score', 'Strand']\n",
    "    chipseq['tf'] = chipseq['attributes'].str.split(';').str[1].str.split('=').str[1].str.split('%20').str[0]\n",
    "    del chipseq['attributes']\n",
    "    chipseq['Chromosome'] = chipseq['Chromosome'].astype('category')\n",
    "    chipseq['tf'] = chipseq['tf'].astype('category')\n",
    "    chipseq['Strand'] = chipseq['Strand'].astype('category')\n",
    "    chipseq = chipseq.query('tf!=\"Epitope\" and tf!=\"GFP\"')\n",
    "    return chipseq\n",
    "\n",
    "chipseq = read_chipatlas('../data/Oth.Kid.05.AllAg.AllCell.bed')\n",
    "chipseq.to_pickle('../data/Oth.Kid.05.AllAg.AllCell.pkl')\n",
    "\n",
    "atac = read_chipatlas('../data/ATC.Kid.05.AllAg.Kidney_Cortex.bed')\n",
    "atac.to_pickle('../data/ATC.Kid.05.AllAg.Kidney_Cortex.pkl')"
   ]
  },
  {
   "cell_type": "code",
   "execution_count": 15,
   "id": "9ad8dc1f-b92a-4d3d-9e3b-00ddc1d435cc",
   "metadata": {
    "tags": []
   },
   "outputs": [
    {
     "data": {
      "text/plain": [
       "1255823"
      ]
     },
     "execution_count": 15,
     "metadata": {},
     "output_type": "execute_result"
    }
   ],
   "source": [
    "# from ChipAtlas\n",
    "chipseq = pd.read_pickle('../data/Oth.Kid.05.AllAg.AllCell.pkl')\n",
    "pr_chipseq = pr.PyRanges(chipseq)\n",
    "\n",
    "atac = pd.read_pickle('../data/ATC.Kid.05.AllAg.Kidney_Cortex.pkl')\n",
    "pr_atac = pr.PyRanges(atac)\n",
    "pr_chipseq = pr_chipseq.intersect(pr_atac)\n",
    "\n",
    "tss = pd.read_pickle('../data/reftss.pkl')\n",
    "pr_tss = pr.PyRanges(tss)\n",
    "\n",
    "chipseq_grn = pr_tss.join(pr_chipseq, slack=500).df\n",
    "\n",
    "chipseq_grn = chipseq_grn[['tf','gene']].drop_duplicates()\n",
    "chipseq_grn.to_pickle(CHIPATLAS_PATH)\n",
    "\n",
    "len(chipseq_grn)"
   ]
  }
 ],
 "metadata": {
  "kernelspec": {
   "display_name": "Python 3 (ipykernel)",
   "language": "python",
   "name": "python3"
  },
  "language_info": {
   "codemirror_mode": {
    "name": "ipython",
    "version": 3
   },
   "file_extension": ".py",
   "mimetype": "text/x-python",
   "name": "python",
   "nbconvert_exporter": "python",
   "pygments_lexer": "ipython3",
   "version": "3.10.14"
  }
 },
 "nbformat": 4,
 "nbformat_minor": 5
}
