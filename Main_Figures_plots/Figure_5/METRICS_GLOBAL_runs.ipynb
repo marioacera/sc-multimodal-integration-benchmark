{
 "cells": [
  {
   "cell_type": "code",
   "execution_count": null,
   "id": "a9caf45a-e477-4315-afd3-7b92d6992119",
   "metadata": {
    "tags": []
   },
   "outputs": [],
   "source": [
    "import umap\n",
    "\n",
    "import scanpy as sc\n",
    "import pandas as pd\n",
    "import numpy as np\n",
    "import matplotlib.pyplot as plt\n",
    "import matplotlib as mpl\n",
    "from sklearn.metrics import adjusted_rand_score as ARI\n",
    "from sklearn.metrics import adjusted_mutual_info_score as AMI\n",
    "\n",
    "from matplotlib import rcParams\n",
    "rcParams['pdf.fonttype'] = 42 # enables correct plotting of text\n",
    "rcParams['figure.figsize'] = (12,12)\n",
    "import seaborn as sns\n",
    "# \n",
    "sc.settings.verbosity =0\n",
    "\n",
    "import matplotlib.pyplot as plt\n",
    "import pandas as pd\n",
    "import scanpy as sc\n",
    "from scib_metrics.nearest_neighbors import  pynndescent\n",
    "import scib_metrics\n",
    "\n",
    "# import pickle\n",
    "import muon as mu\n",
    "\n",
    "import os\n",
    "compute = True\n",
    "\n",
    "import numpy as np\n",
    "import pandas as pd\n",
    "\n",
    "# Ensure the directory for intermediate and final results exists\n",
    "if not os.path.exists('CLISI'):\n",
    "    os.makedirs('CLISI')\n",
    "if not os.path.exists('Silhouette'):\n",
    "    os.makedirs('Silhouette')"
   ]
  },
  {
   "cell_type": "code",
   "execution_count": 2,
   "id": "9804f9c3",
   "metadata": {},
   "outputs": [],
   "source": [
    "l1_colors = {\n",
    "'ATL': '#1f77b4',\n",
    "  'PT_VCAM1': '#c5b0d5',\n",
    " 'CNT': '#ff7f0e',\n",
    " 'DCT': '#279e68',\n",
    "  'DCT1': '#279e68',\n",
    " 'DCT2': '#ffb500',\n",
    " 'DTL': '#d62728',\n",
    " 'EC': '#aa40fc',\n",
    " 'ENDO': '#aa40fc',\n",
    " 'FIB': '#8c564b',\n",
    " 'IC': '#e377c2',\n",
    " 'ICA': '#e377c2',\n",
    " 'ICB': '#7b4f4b',\n",
    " 'IMM': '#b5bd61',\n",
    " 'LEUK': '#b5bd61',\n",
    " 'NEU': '#17becf',\n",
    " 'PC': '#aec7e8',\n",
    " 'PEC': '#17becf',\n",
    " 'POD': '#98df8a',\n",
    " 'PODO': '#98df8a',\n",
    "'PT': '#ff9896',\n",
    " 'PapE': '#c5b0d5',\n",
    " 'TAL': '#c49c94',\n",
    "'MES': '#f7b6d2',\n",
    " 'VSM/P': '#f7b6d2','Unclassified':'#d3d3d3'}"
   ]
  },
  {
   "cell_type": "code",
   "execution_count": 3,
   "id": "2bb40145",
   "metadata": {},
   "outputs": [],
   "source": [
    "l3_colors = {\n",
    "'ATL': '#ffff00',\n",
    " 'B': '#1ce6ff',\n",
    " 'C-TAL': '#ff34ff',\n",
    " 'PC': '#aec7e8',\n",
    " 'CCD-IC-A': '#ff4a46',\n",
    " 'CCD-PC': '#008941',\n",
    " 'CNT': '#006fa6',\n",
    " 'CNT-IC-A': '#a30059',\n",
    " 'CNT-PC': '#ffdbe5',\n",
    " 'DCT1': '#7a4900',\n",
    " 'DCT2': '#0000a6',\n",
    " 'DTL': '#63ffac',\n",
    " 'EC-AEA': '#b79762',\n",
    " 'EC-AVR': '#004d43',\n",
    " 'EC-DVR': '#8fb0ff',\n",
    " 'EC-GC': '#997d87',\n",
    " 'EC-LYM': '#5a0007',\n",
    " 'EC-PTC': '#809693',\n",
    " 'FIB': '#6a3a4c',\n",
    " 'IC-B': '#1b4400',\n",
    " 'IMCD': '#4fc601',\n",
    " 'M-FIB': '#3b5dff',\n",
    " 'M-TAL': '#4a3b53',\n",
    " 'MAC-M2': '#ff2f80',\n",
    " 'MAST': '#61615a',\n",
    " 'MC': '#ba0900',\n",
    " 'MD': '#6b7900',\n",
    " 'MDC': '#00c2a0',\n",
    " 'MYOF': '#ffaa92',\n",
    " 'N': '#ff90c9',\n",
    " 'NEU': '#b903aa',\n",
    " 'NKC/T': '#d16100',\n",
    " 'OMCD-IC-A': '#ddefff',\n",
    " 'OMCD-PC': '#000035',\n",
    " 'PEC': '#7b4f4b',\n",
    " 'PL': '#a1c299',\n",
    " 'POD': '#300018',\n",
    " 'PT-S1/2': '#0aa6d8',\n",
    " 'PT-S3': '#013349',\n",
    " 'PapE': '#00846f',\n",
    " 'REN': '#372101',\n",
    " 'T': '#ffb500',\n",
    " 'VSMC': '#c2ffed',\n",
    " 'VSMC/P': '#a079bf',\n",
    " 'aFIB': '#cc0744',\n",
    " 'aPT': '#c0b9b2',\n",
    " 'aTAL1': '#c2ff99',\n",
    " 'aTAL2': '#001e09',\n",
    " 'cDC': '#00489c',\n",
    " 'cycCNT': '#6f0062',\n",
    " 'cycDCT': '#0cbd66',\n",
    " 'cycEC': '#eec3ff',\n",
    " 'cycMNP': '#456d75',\n",
    " 'cycMYOF': '#b77b68',\n",
    " 'cycNKC/T': '#7a87a1',\n",
    " 'cycPT': '#788d66',\n",
    " 'dC-IC-A': '#885578',\n",
    " 'dC-TAL': '#fad09f',\n",
    " 'dCNT': '#ff8a9a',\n",
    " 'dDCT': '#d157a0',\n",
    " 'dEC': '#bec459',\n",
    " 'dEC-PTC': '#456648',\n",
    " 'dFIB': '#0086ed',\n",
    " 'dIMCD': '#886f4c',\n",
    " 'dM-FIB': '#34362d',\n",
    " 'dM-TAL': '#b4a8bd',\n",
    " 'dOMCD-PC': '#00a6aa',\n",
    " 'dPT': '#452c2c',\n",
    " 'dVSMC': '#636375',\n",
    " 'ncMON': '#a3c8c9',\n",
    " 'pDC': '#ff913f',\n",
    " 'tPC-IC': '#938a81','Unclassified':'#d3d3d3'}"
   ]
  },
  {
   "cell_type": "code",
   "execution_count": null,
   "id": "fb96793c",
   "metadata": {},
   "outputs": [],
   "source": [
    "\n",
    "def df_aver(adata_obs, ann, ann_path, csv_folder='CLISI', mods=['Seurat_WNN', 'snRNA_Multi'], value_metric='median', integrated=False, threshold=0, min_pop_size=40):\n",
    "    adata_obs[ann] = adata_obs[ann].tolist()\n",
    "    adata_obs[ann] = adata_obs[ann].astype('category')\n",
    "    ct_list = adata_obs[ann].cat.categories\n",
    "    \n",
    "    df_averages = pd.DataFrame(index=ct_list, columns=[f'{ann}_{mod}' for mod in mods])\n",
    "    df_counts = pd.DataFrame(index=ct_list, columns=[f'{ann}_{mod}' for mod in mods])\n",
    "    \n",
    "    for mod in mods:\n",
    "        for ct in ct_list:\n",
    "            ct_sanitized = ct.replace('/', '_')\n",
    "            filepath = os.path.join(csv_folder, mod, ann_path)\n",
    "            temp_df = pd.read_csv(filepath + '.csv', index_col=0)\n",
    "            \n",
    "            idxs = adata_obs[ann].isin([ct])\n",
    "            count = np.sum(idxs)\n",
    "            df_counts.loc[ct, f'{ann}_{mod}'] = count\n",
    "            \n",
    "            if count > min_pop_size:\n",
    "                if value_metric == 'median':\n",
    "                    average_score = temp_df.loc[idxs]['binary_LISI'].median()\n",
    "                elif value_metric == 'mean':\n",
    "                    average_score = temp_df.loc[idxs]['binary_LISI'].mean()\n",
    "                else:\n",
    "                    average_score = np.nan\n",
    "\n",
    "                if pd.isna(average_score):\n",
    "                    df_averages.loc[ct, f'{ann}_{mod}'] = 0 \n",
    "                else:\n",
    "                    df_averages.loc[ct, f'{ann}_{mod}'] = average_score \n",
    "            else:\n",
    "                print(f'{ct} in {ann}_{mod} is too small')\n",
    "                df_averages.loc[ct, f'{ann}_{mod}'] = 0\n",
    "                \n",
    "    return df_averages, df_counts\n",
    "\n",
    "    \n",
    "def binary_LISI(neigh, metadata):\n",
    "    \"\"\"\n",
    "    Compute a binary version of the Local Inverse Simpson Index (LISI).\n",
    "\n",
    "    :param neigh: A pynndescent object with the 'indices' attribute having shape (n_cells, n_neighbors)\n",
    "    :param metadata: An array of shape (n_cells,) containing metadata labels for each cell\n",
    "    :return: A numpy array of shape (n_cells,) with the binary LISI scores\n",
    "    \"\"\"\n",
    "    n_cells = neigh.indices.shape[0]\n",
    "    binary_lisi_scores = np.zeros(n_cells)\n",
    "\n",
    "    for i in range(n_cells):\n",
    "        center_label = metadata[i]\n",
    "        neighbor_indices = neigh.indices[i]\n",
    "        neighbor_labels = metadata[neighbor_indices]\n",
    "\n",
    "        # Count how many neighbors have the same label as the center cell\n",
    "        same_label_count = np.sum(neighbor_labels == center_label)\n",
    "        \n",
    "        # Compute the proportion of same label in the neighborhood\n",
    "        binary_lisi_scores[i] = same_label_count / len(neighbor_indices)\n",
    "\n",
    "    return binary_lisi_scores\n",
    "\n",
    "def result_exists(mod, i, ann, n_size, ct):\n",
    "    ct_sanitized = ct.replace('/', '_')  # Sanitize cell type name for use in filename\n",
    "    filename = f'CLISI_csv_PARTIAL/scIB_{mod}_{i}_{ann}_BINARY_{n_size}_{ct_sanitized}.csv'\n",
    "    return os.path.exists(filename), filename\n",
    "\n",
    "def check_dir(filename):\n",
    "    directory = os.path.dirname(filename)\n",
    "    # Create the directory and any intermediate directories, if they don't exist\n",
    "    os.makedirs(directory, exist_ok=True)\n",
    "\n",
    "    \n",
    "def save_binary_lisi_scores(binary_lisi_scores, filename, valid_indices):\n",
    "    temp_df = pd.DataFrame(binary_lisi_scores, index=valid_indices, columns=['binary_LISI'])\n",
    "    print(temp_df.shape)\n",
    "\n",
    "    temp_df.to_csv(filename)\n",
    "\n",
    "def save_scores(scores, filename, valid_indices, col_name = 'score'):\n",
    "    temp_df = pd.DataFrame(scores, index=valid_indices, columns=[col_name])\n",
    "    print(temp_df.shape)\n",
    "    check_dir(filename)\n",
    "    temp_df.to_csv(filename)\n"
   ]
  },
  {
   "cell_type": "markdown",
   "id": "463a9137-4317-4c5e-a02a-7a1d39a37fc1",
   "metadata": {
    "tags": []
   },
   "source": [
    "# COMPUTING CLISI - RNA\n"
   ]
  },
  {
   "cell_type": "code",
   "execution_count": 6,
   "id": "8c2e4711",
   "metadata": {},
   "outputs": [
    {
     "name": "stdout",
     "output_type": "stream",
     "text": [
      "CLISI Dir already existis.\n"
     ]
    },
    {
     "name": "stderr",
     "output_type": "stream",
     "text": [
      "/tmp/ipykernel_11475/143264723.py:140: FutureWarning: Series.__getitem__ treating keys as positions is deprecated. In a future version, integer keys will always be treated as labels (consistent with DataFrame behavior). To access a value by position, use `ser.iloc[pos]`\n",
      "  center_label = metadata[i]\n",
      "/tmp/ipykernel_11475/143264723.py:142: FutureWarning: Series.__getitem__ treating keys as positions is deprecated. In a future version, integer keys will always be treated as labels (consistent with DataFrame behavior). To access a value by position, use `ser.iloc[pos]`\n",
      "  neighbor_labels = metadata[neighbor_indices]\n"
     ]
    },
    {
     "name": "stdout",
     "output_type": "stream",
     "text": [
      "(35513, 1)\n",
      "(35513, 1)\n",
      "(35513, 1)\n"
     ]
    },
    {
     "name": "stderr",
     "output_type": "stream",
     "text": [
      "/tmp/ipykernel_11475/143264723.py:140: FutureWarning: Series.__getitem__ treating keys as positions is deprecated. In a future version, integer keys will always be treated as labels (consistent with DataFrame behavior). To access a value by position, use `ser.iloc[pos]`\n",
      "  center_label = metadata[i]\n",
      "/tmp/ipykernel_11475/143264723.py:142: FutureWarning: Series.__getitem__ treating keys as positions is deprecated. In a future version, integer keys will always be treated as labels (consistent with DataFrame behavior). To access a value by position, use `ser.iloc[pos]`\n",
      "  neighbor_labels = metadata[neighbor_indices]\n"
     ]
    },
    {
     "name": "stdout",
     "output_type": "stream",
     "text": [
      "(35513, 1)\n",
      "(35513, 1)\n",
      "(35513, 1)\n",
      "CLISI Dir already existis.\n"
     ]
    },
    {
     "name": "stderr",
     "output_type": "stream",
     "text": [
      "/tmp/ipykernel_11475/143264723.py:140: FutureWarning: Series.__getitem__ treating keys as positions is deprecated. In a future version, integer keys will always be treated as labels (consistent with DataFrame behavior). To access a value by position, use `ser.iloc[pos]`\n",
      "  center_label = metadata[i]\n",
      "/tmp/ipykernel_11475/143264723.py:142: FutureWarning: Series.__getitem__ treating keys as positions is deprecated. In a future version, integer keys will always be treated as labels (consistent with DataFrame behavior). To access a value by position, use `ser.iloc[pos]`\n",
      "  neighbor_labels = metadata[neighbor_indices]\n"
     ]
    },
    {
     "name": "stdout",
     "output_type": "stream",
     "text": [
      "(7813, 1)\n",
      "(7813, 1)\n",
      "(7813, 1)\n"
     ]
    },
    {
     "name": "stderr",
     "output_type": "stream",
     "text": [
      "/tmp/ipykernel_11475/143264723.py:140: FutureWarning: Series.__getitem__ treating keys as positions is deprecated. In a future version, integer keys will always be treated as labels (consistent with DataFrame behavior). To access a value by position, use `ser.iloc[pos]`\n",
      "  center_label = metadata[i]\n",
      "/tmp/ipykernel_11475/143264723.py:142: FutureWarning: Series.__getitem__ treating keys as positions is deprecated. In a future version, integer keys will always be treated as labels (consistent with DataFrame behavior). To access a value by position, use `ser.iloc[pos]`\n",
      "  neighbor_labels = metadata[neighbor_indices]\n"
     ]
    },
    {
     "name": "stdout",
     "output_type": "stream",
     "text": [
      "(7813, 1)\n",
      "(7813, 1)\n",
      "(7813, 1)\n",
      "CLISI Dir already existis.\n"
     ]
    },
    {
     "name": "stderr",
     "output_type": "stream",
     "text": [
      "/tmp/ipykernel_11475/143264723.py:140: FutureWarning: Series.__getitem__ treating keys as positions is deprecated. In a future version, integer keys will always be treated as labels (consistent with DataFrame behavior). To access a value by position, use `ser.iloc[pos]`\n",
      "  center_label = metadata[i]\n",
      "/tmp/ipykernel_11475/143264723.py:142: FutureWarning: Series.__getitem__ treating keys as positions is deprecated. In a future version, integer keys will always be treated as labels (consistent with DataFrame behavior). To access a value by position, use `ser.iloc[pos]`\n",
      "  neighbor_labels = metadata[neighbor_indices]\n"
     ]
    },
    {
     "name": "stdout",
     "output_type": "stream",
     "text": [
      "(53799, 1)\n",
      "(53799, 1)\n",
      "(53799, 1)\n"
     ]
    },
    {
     "name": "stderr",
     "output_type": "stream",
     "text": [
      "/tmp/ipykernel_11475/143264723.py:140: FutureWarning: Series.__getitem__ treating keys as positions is deprecated. In a future version, integer keys will always be treated as labels (consistent with DataFrame behavior). To access a value by position, use `ser.iloc[pos]`\n",
      "  center_label = metadata[i]\n",
      "/tmp/ipykernel_11475/143264723.py:142: FutureWarning: Series.__getitem__ treating keys as positions is deprecated. In a future version, integer keys will always be treated as labels (consistent with DataFrame behavior). To access a value by position, use `ser.iloc[pos]`\n",
      "  neighbor_labels = metadata[neighbor_indices]\n"
     ]
    },
    {
     "name": "stdout",
     "output_type": "stream",
     "text": [
      "(53799, 1)\n",
      "(53799, 1)\n",
      "(53799, 1)\n"
     ]
    }
   ],
   "source": [
    "folder = '../HORIZONTAL_RNA/objects/byTech/'\n",
    "save_key = i = 'scVI'\n",
    "ann_l = ['Deepscore_HCA_l1_Clean', 'Deepscore_HCA_l3_Clean']\n",
    "n_size = 50\n",
    "for object in ['scRNA.h5ad', 'scRNA5p.h5ad','snRNA.h5ad']:\n",
    "    if object.startswith('.') == False:\n",
    "        object_san = object.replace('.h5ad','')\n",
    "        try:\n",
    "            os.mkdir(f'CLISI/{object_san}')\n",
    "        except:\n",
    "            print('CLISI Dir already existis.')\n",
    "        adata = sc.read(f'../HORIZONTAL_RNA/objects/byTech/{object}')\n",
    "        adata.obs.to_csv(f'obs/{object_san}.csv')\n",
    "        neigh = pynndescent(adata.obsm[i], n_neighbors=n_size)\n",
    "\n",
    "        for ann in ann_l:\n",
    "            # Perform pynndescent computation\n",
    "            binary_lisi_scores = binary_LISI(neigh, adata.obs[ann])\n",
    "            # Save the computed binary LISI scores to a CSV file\n",
    "            filename = f'CLISI/{object_san}/{ann}.csv'\n",
    "            save_binary_lisi_scores(binary_lisi_scores, filename,adata.obs.index)\n",
    "\n",
    "\n",
    "            silhouette_scores = scib_metrics.utils.silhouette_samples(adata.obsm[i], adata.obs[ann])\n",
    "            # Save the computed binary LISI scores to a CSV file\n",
    "            filename = f'Silhouette/{object_san}/{ann}.csv'\n",
    "            save_scores(silhouette_scores, filename,adata.obs.index, col_name = 'Silhouette')\n",
    "\n",
    "            silhouette_scores = scib_metrics.utils.silhouette_samples(adata.obsm[i], adata.obs[ann])\n",
    "            # Save the computed binary LISI scores to a CSV file\n",
    "            filename = f'Silhouette/{object_san}/{ann}.csv'\n",
    "            save_scores(silhouette_scores, filename,adata.obs.index, col_name = 'Silhouette')"
   ]
  },
  {
   "cell_type": "code",
   "execution_count": 7,
   "id": "369b095b",
   "metadata": {},
   "outputs": [
    {
     "name": "stdout",
     "output_type": "stream",
     "text": [
      "CLISI Dir already existis.\n",
      "                              sample    batch  n_counts  n_genes_by_counts  \\\n",
      "ACTCACCTCGCTCCAT-11-snRNA     lib_55    snRNA     485.0                370   \n",
      "ACTTACAAGGTCAAAG-6-snRNA      lib_34    snRNA    1904.0               1281   \n",
      "AGCACTTAGTTCCCGT-1-snRNA      lib_09    snRNA     686.0                382   \n",
      "AGCCTAAGTCAAGTGC-6-snRNA      lib_34    snRNA     232.0                205   \n",
      "ATGAAGCCACCTCGCT-12-snRNA     lib_56    snRNA     304.0                255   \n",
      "...                              ...      ...       ...                ...   \n",
      "TTTCCTCTCGGAAACG-1-3-scRNA5p  lib_09  scRNA5p   14882.0               3069   \n",
      "TTTGCGCAGTGGCACA-1-3-scRNA5p  lib_09  scRNA5p    1799.0                599   \n",
      "TTTGGTTCAATCCGAT-1-3-scRNA5p  lib_09  scRNA5p    1563.0                773   \n",
      "TTTGGTTTCAAAGTAG-1-3-scRNA5p  lib_09  scRNA5p    1460.0                698   \n",
      "TTTGTCAGTCACAAGG-1-3-scRNA5p  lib_09  scRNA5p    1628.0                759   \n",
      "\n",
      "                              total_counts  total_counts_mt  pct_counts_mt  \\\n",
      "ACTCACCTCGCTCCAT-11-snRNA            485.0             72.0      14.845361   \n",
      "ACTTACAAGGTCAAAG-6-snRNA            1904.0             10.0       0.525210   \n",
      "AGCACTTAGTTCCCGT-1-snRNA             686.0              2.0       0.291545   \n",
      "AGCCTAAGTCAAGTGC-6-snRNA             232.0             23.0       9.913794   \n",
      "ATGAAGCCACCTCGCT-12-snRNA            304.0              0.0       0.000000   \n",
      "...                                    ...              ...            ...   \n",
      "TTTCCTCTCGGAAACG-1-3-scRNA5p       14882.0           5019.0      33.725307   \n",
      "TTTGCGCAGTGGCACA-1-3-scRNA5p        1799.0            807.0      44.858257   \n",
      "TTTGGTTCAATCCGAT-1-3-scRNA5p        1563.0             68.0       4.350608   \n",
      "TTTGGTTTCAAAGTAG-1-3-scRNA5p        1460.0            171.0      11.712329   \n",
      "TTTGTCAGTCACAAGG-1-3-scRNA5p        1628.0            349.0      21.437347   \n",
      "\n",
      "                              total_counts_rb  pct_counts_rb  \\\n",
      "ACTCACCTCGCTCCAT-11-snRNA                 5.0       1.030928   \n",
      "ACTTACAAGGTCAAAG-6-snRNA                  5.0       0.262605   \n",
      "AGCACTTAGTTCCCGT-1-snRNA                  1.0       0.145773   \n",
      "AGCCTAAGTCAAGTGC-6-snRNA                  3.0       1.293103   \n",
      "ATGAAGCCACCTCGCT-12-snRNA                 1.0       0.328947   \n",
      "...                                       ...            ...   \n",
      "TTTCCTCTCGGAAACG-1-3-scRNA5p             25.0       0.167988   \n",
      "TTTGCGCAGTGGCACA-1-3-scRNA5p              3.0       0.166759   \n",
      "TTTGGTTCAATCCGAT-1-3-scRNA5p              2.0       0.127959   \n",
      "TTTGGTTTCAAAGTAG-1-3-scRNA5p              1.0       0.068493   \n",
      "TTTGTCAGTCACAAGG-1-3-scRNA5p              2.0       0.122850   \n",
      "\n",
      "                             Deepscore_external  ...  \\\n",
      "ACTCACCTCGCTCCAT-11-snRNA          Unclassified  ...   \n",
      "ACTTACAAGGTCAAAG-6-snRNA           Unclassified  ...   \n",
      "AGCACTTAGTTCCCGT-1-snRNA           Unclassified  ...   \n",
      "AGCCTAAGTCAAGTGC-6-snRNA           Unclassified  ...   \n",
      "ATGAAGCCACCTCGCT-12-snRNA          Unclassified  ...   \n",
      "...                                         ...  ...   \n",
      "TTTCCTCTCGGAAACG-1-3-scRNA5p                 PT  ...   \n",
      "TTTGCGCAGTGGCACA-1-3-scRNA5p                 PT  ...   \n",
      "TTTGGTTCAATCCGAT-1-3-scRNA5p                 PT  ...   \n",
      "TTTGGTTTCAAAGTAG-1-3-scRNA5p                 PT  ...   \n",
      "TTTGTCAGTCACAAGG-1-3-scRNA5p                 PT  ...   \n",
      "\n",
      "                              Deepscore_HCA_l3_Full_score  Deepscore_Muto  \\\n",
      "ACTCACCTCGCTCCAT-11-snRNA                        0.820547    Unclassified   \n",
      "ACTTACAAGGTCAAAG-6-snRNA                         0.999516             TAL   \n",
      "AGCACTTAGTTCCCGT-1-snRNA                         0.712492             FIB   \n",
      "AGCCTAAGTCAAGTGC-6-snRNA                         0.850436            DCT1   \n",
      "ATGAAGCCACCTCGCT-12-snRNA                        0.999526        PT_VCAM1   \n",
      "...                                                   ...             ...   \n",
      "TTTCCTCTCGGAAACG-1-3-scRNA5p                     0.631247              PT   \n",
      "TTTGCGCAGTGGCACA-1-3-scRNA5p                     0.998143              PT   \n",
      "TTTGGTTCAATCCGAT-1-3-scRNA5p                     0.985656              PT   \n",
      "TTTGGTTTCAAAGTAG-1-3-scRNA5p                     0.612900              PT   \n",
      "TTTGTCAGTCACAAGG-1-3-scRNA5p                     0.773016              PT   \n",
      "\n",
      "                              Deepscore_Muto_score  leiden_scVI_0.3  \\\n",
      "ACTCACCTCGCTCCAT-11-snRNA                 0.467089                0   \n",
      "ACTTACAAGGTCAAAG-6-snRNA                  0.583557                5   \n",
      "AGCACTTAGTTCCCGT-1-snRNA                  0.767254                9   \n",
      "AGCCTAAGTCAAGTGC-6-snRNA                  0.905356                4   \n",
      "ATGAAGCCACCTCGCT-12-snRNA                 0.954208                4   \n",
      "...                                            ...              ...   \n",
      "TTTCCTCTCGGAAACG-1-3-scRNA5p              0.999677                0   \n",
      "TTTGCGCAGTGGCACA-1-3-scRNA5p              0.950126                0   \n",
      "TTTGGTTCAATCCGAT-1-3-scRNA5p              0.996338                0   \n",
      "TTTGGTTTCAAAGTAG-1-3-scRNA5p              0.994251                0   \n",
      "TTTGTCAGTCACAAGG-1-3-scRNA5p              0.998885                0   \n",
      "\n",
      "                              leiden_scVI_1.4  leiden_scVI_2  leiden_scVI_6  \\\n",
      "ACTCACCTCGCTCCAT-11-snRNA                  14             16             26   \n",
      "ACTTACAAGGTCAAAG-6-snRNA                    5              3             48   \n",
      "AGCACTTAGTTCCCGT-1-snRNA                   24             27             58   \n",
      "AGCCTAAGTCAAGTGC-6-snRNA                    6              6              9   \n",
      "ATGAAGCCACCTCGCT-12-snRNA                   6              6              9   \n",
      "...                                       ...            ...            ...   \n",
      "TTTCCTCTCGGAAACG-1-3-scRNA5p                0              9             19   \n",
      "TTTGCGCAGTGGCACA-1-3-scRNA5p                4              9             23   \n",
      "TTTGGTTCAATCCGAT-1-3-scRNA5p                4             12             34   \n",
      "TTTGGTTTCAAAGTAG-1-3-scRNA5p                2              0              6   \n",
      "TTTGTCAGTCACAAGG-1-3-scRNA5p                4              9             23   \n",
      "\n",
      "                              leiden_scVI_10  Manual_Annotation_l1  \\\n",
      "ACTCACCTCGCTCCAT-11-snRNA                 14                    PT   \n",
      "ACTTACAAGGTCAAAG-6-snRNA                  51                   DCT   \n",
      "AGCACTTAGTTCCCGT-1-snRNA                  82                 VSM/P   \n",
      "AGCCTAAGTCAAGTGC-6-snRNA                 100                    PT   \n",
      "ATGAAGCCACCTCGCT-12-snRNA                100                    PT   \n",
      "...                                      ...                   ...   \n",
      "TTTCCTCTCGGAAACG-1-3-scRNA5p              27                    PT   \n",
      "TTTGCGCAGTGGCACA-1-3-scRNA5p              35                    PT   \n",
      "TTTGGTTCAATCCGAT-1-3-scRNA5p              68                    PT   \n",
      "TTTGGTTTCAAAGTAG-1-3-scRNA5p              93                    PT   \n",
      "TTTGTCAGTCACAAGG-1-3-scRNA5p              35                    PT   \n",
      "\n",
      "                              Manual_Annotation_l2  \n",
      "ACTCACCTCGCTCCAT-11-snRNA                    PT-S3  \n",
      "ACTTACAAGGTCAAAG-6-snRNA                      DCT1  \n",
      "AGCACTTAGTTCCCGT-1-snRNA                        MC  \n",
      "AGCCTAAGTCAAGTGC-6-snRNA                       aPT  \n",
      "ATGAAGCCACCTCGCT-12-snRNA                      aPT  \n",
      "...                                            ...  \n",
      "TTTCCTCTCGGAAACG-1-3-scRNA5p               PT-S1/2  \n",
      "TTTGCGCAGTGGCACA-1-3-scRNA5p               PT-S1/2  \n",
      "TTTGGTTCAATCCGAT-1-3-scRNA5p                   aPT  \n",
      "TTTGGTTTCAAAGTAG-1-3-scRNA5p               PT-S1/2  \n",
      "TTTGTCAGTCACAAGG-1-3-scRNA5p               PT-S1/2  \n",
      "\n",
      "[97125 rows x 43 columns]\n"
     ]
    },
    {
     "name": "stderr",
     "output_type": "stream",
     "text": [
      "/tmp/ipykernel_17646/143264723.py:140: FutureWarning: Series.__getitem__ treating keys as positions is deprecated. In a future version, integer keys will always be treated as labels (consistent with DataFrame behavior). To access a value by position, use `ser.iloc[pos]`\n",
      "  center_label = metadata[i]\n",
      "/tmp/ipykernel_17646/143264723.py:142: FutureWarning: Series.__getitem__ treating keys as positions is deprecated. In a future version, integer keys will always be treated as labels (consistent with DataFrame behavior). To access a value by position, use `ser.iloc[pos]`\n",
      "  neighbor_labels = metadata[neighbor_indices]\n"
     ]
    },
    {
     "name": "stdout",
     "output_type": "stream",
     "text": [
      "(97125, 1)\n",
      "(97125, 1)\n"
     ]
    },
    {
     "name": "stderr",
     "output_type": "stream",
     "text": [
      "/tmp/ipykernel_17646/143264723.py:140: FutureWarning: Series.__getitem__ treating keys as positions is deprecated. In a future version, integer keys will always be treated as labels (consistent with DataFrame behavior). To access a value by position, use `ser.iloc[pos]`\n",
      "  center_label = metadata[i]\n",
      "/tmp/ipykernel_17646/143264723.py:142: FutureWarning: Series.__getitem__ treating keys as positions is deprecated. In a future version, integer keys will always be treated as labels (consistent with DataFrame behavior). To access a value by position, use `ser.iloc[pos]`\n",
      "  neighbor_labels = metadata[neighbor_indices]\n"
     ]
    },
    {
     "name": "stdout",
     "output_type": "stream",
     "text": [
      "(97125, 1)\n",
      "(97125, 1)\n"
     ]
    }
   ],
   "source": [
    "folder = '../HORIZONTAL_RNA/objects/'\n",
    "save_key = i = 'scVI'\n",
    "ann_l = ['Deepscore_HCA_l1_Clean', 'Deepscore_HCA_l3_Clean']\n",
    "n_size = 50\n",
    "object = 'RNA_STWG_final.h5ad'\n",
    "try:\n",
    "    os.mkdir(f'CLISI/{object_san}')\n",
    "except:\n",
    "    print('CLISI Dir already existis.')\n",
    "adata = sc.read(f'../HORIZONTAL_RNA/objects/{object}')\n",
    "adata.obs.to_csv('obs/RNA_Integration.csv')\n",
    "print(adata.obs)\n",
    "neigh = pynndescent(adata.obsm[i], n_neighbors=n_size)\n",
    "\n",
    "for ann in ann_l:\n",
    "    # Perform pynndescent computation\n",
    "    binary_lisi_scores = binary_LISI(neigh, adata.obs[ann])\n",
    "    # Save the computed binary LISI scores to a CSV file\n",
    "    filename = f'CLISI/RNA_STWG_final/{ann}.csv'\n",
    "    save_binary_lisi_scores(binary_lisi_scores, filename,adata.obs.index)\n",
    "\n",
    "    silhouette_scores = scib_metrics.utils.silhouette_samples(adata.obsm[i], adata.obs[ann])\n",
    "    # Save the computed binary LISI scores to a CSV file\n",
    "    filename = f'Silhouette/RNA_STWG_final/{ann}.csv'\n",
    "    save_scores(silhouette_scores, filename,adata.obs.index, col_name = 'Silhouette')"
   ]
  },
  {
   "cell_type": "markdown",
   "id": "d5f756bd",
   "metadata": {},
   "source": [
    "# ATAC"
   ]
  },
  {
   "cell_type": "code",
   "execution_count": 8,
   "id": "402b46c6",
   "metadata": {},
   "outputs": [
    {
     "name": "stderr",
     "output_type": "stream",
     "text": [
      "/tmp/ipykernel_14995/143264723.py:140: FutureWarning: Series.__getitem__ treating keys as positions is deprecated. In a future version, integer keys will always be treated as labels (consistent with DataFrame behavior). To access a value by position, use `ser.iloc[pos]`\n",
      "  center_label = metadata[i]\n",
      "/tmp/ipykernel_14995/143264723.py:142: FutureWarning: Series.__getitem__ treating keys as positions is deprecated. In a future version, integer keys will always be treated as labels (consistent with DataFrame behavior). To access a value by position, use `ser.iloc[pos]`\n",
      "  neighbor_labels = metadata[neighbor_indices]\n"
     ]
    },
    {
     "name": "stdout",
     "output_type": "stream",
     "text": [
      "(37717, 1)\n",
      "(37717, 1)\n"
     ]
    },
    {
     "name": "stderr",
     "output_type": "stream",
     "text": [
      "/tmp/ipykernel_14995/143264723.py:140: FutureWarning: Series.__getitem__ treating keys as positions is deprecated. In a future version, integer keys will always be treated as labels (consistent with DataFrame behavior). To access a value by position, use `ser.iloc[pos]`\n",
      "  center_label = metadata[i]\n",
      "/tmp/ipykernel_14995/143264723.py:142: FutureWarning: Series.__getitem__ treating keys as positions is deprecated. In a future version, integer keys will always be treated as labels (consistent with DataFrame behavior). To access a value by position, use `ser.iloc[pos]`\n",
      "  neighbor_labels = metadata[neighbor_indices]\n"
     ]
    },
    {
     "name": "stdout",
     "output_type": "stream",
     "text": [
      "(37717, 1)\n",
      "(37717, 1)\n"
     ]
    }
   ],
   "source": [
    "folder = '../HORIZONTAL_ATAC/objects/'\n",
    "save_key = i = 'X_spectral_mnn'\n",
    "ann_l = ['Deepscore_HCA_l1_Clean', 'Deepscore_HCA_l3_Clean']\n",
    "n_size = 50\n",
    "\n",
    "adata = sc.read(f'../HORIZONTAL_ATAC/objects/atac_full.h5ad')\n",
    "adata.obs.to_csv('obs/atac.csv')\n",
    "adata = adata[~adata.obs['Deepscore_HCA_l1_Clean'].isin([pd.NA])]\n",
    "\n",
    "neigh = pynndescent(adata.obsm[i], n_neighbors=n_size)\n",
    "\n",
    "for ann in ann_l:\n",
    "    # Perform pynndescent computation\n",
    "    binary_lisi_scores = binary_LISI(neigh, adata.obs[ann])\n",
    "    # Save the computed binary LISI scores to a CSV file\n",
    "    filename = f'CLISI/Spectral_Atac_mnn/{ann}.csv'\n",
    "    save_binary_lisi_scores(binary_lisi_scores, filename,adata.obs.index)\n",
    "\n",
    "    silhouette_scores = scib_metrics.utils.silhouette_samples(adata.obsm[i], adata.obs[ann])\n",
    "    # Save the computed binary LISI scores to a CSV file\n",
    "    filename = f'Silhouette/Spectral_Atac_mnn/{ann}.csv'\n",
    "    save_scores(silhouette_scores, filename,adata.obs.index, col_name = 'Silhouette')"
   ]
  },
  {
   "cell_type": "markdown",
   "id": "97ca80ce",
   "metadata": {},
   "source": [
    "# VERTICAL"
   ]
  },
  {
   "cell_type": "code",
   "execution_count": 10,
   "id": "7cb69a80",
   "metadata": {},
   "outputs": [
    {
     "name": "stderr",
     "output_type": "stream",
     "text": [
      "/home/macera/.conda/envs/scanpy_basic/lib/python3.9/site-packages/anndata/_core/anndata.py:430: FutureWarning: The dtype argument is deprecated and will be removed in late 2024.\n",
      "  warnings.warn(\n",
      "/home/macera/.conda/envs/scanpy_basic/lib/python3.9/site-packages/anndata/_core/anndata.py:430: FutureWarning: The dtype argument is deprecated and will be removed in late 2024.\n",
      "  warnings.warn(\n",
      "/tmp/ipykernel_17646/143264723.py:140: FutureWarning: Series.__getitem__ treating keys as positions is deprecated. In a future version, integer keys will always be treated as labels (consistent with DataFrame behavior). To access a value by position, use `ser.iloc[pos]`\n",
      "  center_label = metadata[i]\n",
      "/tmp/ipykernel_17646/143264723.py:142: FutureWarning: Series.__getitem__ treating keys as positions is deprecated. In a future version, integer keys will always be treated as labels (consistent with DataFrame behavior). To access a value by position, use `ser.iloc[pos]`\n",
      "  neighbor_labels = metadata[neighbor_indices]\n"
     ]
    },
    {
     "name": "stdout",
     "output_type": "stream",
     "text": [
      "(37717, 1)\n",
      "(37717, 1)\n"
     ]
    },
    {
     "name": "stderr",
     "output_type": "stream",
     "text": [
      "/tmp/ipykernel_17646/143264723.py:140: FutureWarning: Series.__getitem__ treating keys as positions is deprecated. In a future version, integer keys will always be treated as labels (consistent with DataFrame behavior). To access a value by position, use `ser.iloc[pos]`\n",
      "  center_label = metadata[i]\n",
      "/tmp/ipykernel_17646/143264723.py:142: FutureWarning: Series.__getitem__ treating keys as positions is deprecated. In a future version, integer keys will always be treated as labels (consistent with DataFrame behavior). To access a value by position, use `ser.iloc[pos]`\n",
      "  neighbor_labels = metadata[neighbor_indices]\n"
     ]
    },
    {
     "name": "stdout",
     "output_type": "stream",
     "text": [
      "(37717, 1)\n",
      "(37717, 1)\n"
     ]
    }
   ],
   "source": [
    "import muon as mu\n",
    "folder = '../VERTICAL_INTEGRATION/objects/'\n",
    "save_key = i = 'Spectral_Multi_mnn'\n",
    "ann_l = ['Deepscore_HCA_l1_Clean', 'Deepscore_HCA_l3_Clean']\n",
    "n_size = 50\n",
    "\n",
    "adata = mu.read(f'../VERTICAL_INTEGRATION/objects/mdata_final_comparison.h5mu')\n",
    "adata.obs.to_csv('obs/Vertical.csv')\n",
    "adata = adata[~adata.obs['Deepscore_HCA_l1_Clean'].isin([pd.NA])]\n",
    "\n",
    "neigh = pynndescent(adata.obsm[i], n_neighbors=n_size)\n",
    "\n",
    "for ann in ann_l:\n",
    "    # Perform pynndescent computation\n",
    "    binary_lisi_scores = binary_LISI(neigh, adata.obs[ann])\n",
    "    # Save the computed binary LISI scores to a CSV file\n",
    "    filename = f'CLISI/Spectral_Multi_mnn/{ann}.csv'\n",
    "    save_binary_lisi_scores(binary_lisi_scores, filename,adata.obs.index)\n",
    "\n",
    "    silhouette_scores = scib_metrics.utils.silhouette_samples(adata.obsm[i], adata.obs[ann])\n",
    "    # Save the computed binary LISI scores to a CSV file\n",
    "    filename = f'Silhouette/Spectral_Multi_mnn/{ann}.csv'\n",
    "    save_scores(silhouette_scores, filename,adata.obs.index, col_name = 'Silhouette')"
   ]
  },
  {
   "cell_type": "markdown",
   "id": "c07b3a41",
   "metadata": {},
   "source": [
    "# MOSAIC"
   ]
  },
  {
   "cell_type": "code",
   "execution_count": 5,
   "id": "bd8b9796",
   "metadata": {},
   "outputs": [
    {
     "name": "stderr",
     "output_type": "stream",
     "text": [
      "/tmp/ipykernel_17739/1660066902.py:140: FutureWarning: Series.__getitem__ treating keys as positions is deprecated. In a future version, integer keys will always be treated as labels (consistent with DataFrame behavior). To access a value by position, use `ser.iloc[pos]`\n",
      "  center_label = metadata[i]\n",
      "/tmp/ipykernel_17739/1660066902.py:142: FutureWarning: Series.__getitem__ treating keys as positions is deprecated. In a future version, integer keys will always be treated as labels (consistent with DataFrame behavior). To access a value by position, use `ser.iloc[pos]`\n",
      "  neighbor_labels = metadata[neighbor_indices]\n"
     ]
    },
    {
     "name": "stdout",
     "output_type": "stream",
     "text": [
      "(119744, 1)\n"
     ]
    }
   ],
   "source": [
    "adata = mu.read('../MOSAIC_INTEGRATION/objects/multiVI.h5ad')\n",
    "pd.DataFrame(adata.obsm['MultiVI'], index = adata.obs.index).to_csv('../MOSAIC_INTEGRATION/csv/multiVI_save.csv')\n",
    "\n",
    "atac_ann = pd.read_csv('../DEEPSCORE/csv/atac_unpaired_annotations.csv', index_col=0)\n",
    "atac_ann.index = [i+'-snMulti_accessibility' for i in atac_ann.index]\n",
    "atac_ann = atac_ann[atac_ann.index.isin(adata.obs.index)]\n",
    "\n",
    "adata.obs['Deepscore_HCA_l1_Clean'] = adata.obs['Deepscore_HCA_l1_Clean'].tolist()\n",
    "adata.obs['Deepscore_HCA_l3_Clean'] = adata.obs['Deepscore_HCA_l3_Clean'].tolist()\n",
    "adata.obs.loc[atac_ann.index,'Deepscore_HCA_l1_Clean'] = atac_ann['deepscore_L1_full_annot']\n",
    "adata.obs.loc[atac_ann.index,'Deepscore_HCA_l3_Clean'] = atac_ann['deepscore_L2_ver3_full_annot']\n",
    "\n",
    "adata.obs.to_csv('obs/MultiVI.csv')\n",
    "folder = '../MOSAIC_INTEGRATION/csv/MultiVI'\n",
    "save_key = i = 'MultiVI'\n",
    "ann_l = ['Deepscore_HCA_l1_Clean', 'Deepscore_HCA_l3_Clean']\n",
    "n_size = 50\n",
    "adata = adata[~adata.obs['Deepscore_HCA_l1_Clean'].isin([pd.NA])]\n",
    "neigh = pynndescent(adata.obsm[i], n_neighbors=n_size)\n",
    "\n",
    "for ann in ann_l:\n",
    "    # Perform pynndescent computation\n",
    "    binary_lisi_scores = binary_LISI(neigh, adata.obs[ann])\n",
    "    # Save the computed binary LISI scores to a CSV file\n",
    "    filename = f'CLISI/{i}/{ann}.csv'\n",
    "    save_binary_lisi_scores(binary_lisi_scores, filename,adata.obs.index)\n",
    "\n",
    "    silhouette_scores = scib_metrics.utils.silhouette_samples(adata.obsm[i], adata.obs[ann])\n",
    "    # Save the computed binary LISI scores to a CSV file\n",
    "    filename = f'Silhouette/MultiVI/{ann}.csv'\n",
    "    save_scores(silhouette_scores, filename,adata.obs.index, col_name = 'Silhouette')"
   ]
  },
  {
   "cell_type": "markdown",
   "id": "f6632491",
   "metadata": {},
   "source": [
    "# DIAGONAL"
   ]
  },
  {
   "cell_type": "code",
   "execution_count": 7,
   "id": "35e76698",
   "metadata": {},
   "outputs": [
    {
     "name": "stderr",
     "output_type": "stream",
     "text": [
      "/home/macera/.conda/envs/scanpy_basic/lib/python3.9/site-packages/anndata/_core/aligned_df.py:67: ImplicitModificationWarning: Transforming to str index.\n",
      "  warnings.warn(\"Transforming to str index.\", ImplicitModificationWarning)\n",
      "/tmp/ipykernel_14995/143264723.py:140: FutureWarning: Series.__getitem__ treating keys as positions is deprecated. In a future version, integer keys will always be treated as labels (consistent with DataFrame behavior). To access a value by position, use `ser.iloc[pos]`\n",
      "  center_label = metadata[i]\n",
      "/tmp/ipykernel_14995/143264723.py:142: FutureWarning: Series.__getitem__ treating keys as positions is deprecated. In a future version, integer keys will always be treated as labels (consistent with DataFrame behavior). To access a value by position, use `ser.iloc[pos]`\n",
      "  neighbor_labels = metadata[neighbor_indices]\n"
     ]
    },
    {
     "name": "stdout",
     "output_type": "stream",
     "text": [
      "(134842, 1)\n",
      "(134842, 1)\n"
     ]
    },
    {
     "name": "stderr",
     "output_type": "stream",
     "text": [
      "/tmp/ipykernel_14995/143264723.py:140: FutureWarning: Series.__getitem__ treating keys as positions is deprecated. In a future version, integer keys will always be treated as labels (consistent with DataFrame behavior). To access a value by position, use `ser.iloc[pos]`\n",
      "  center_label = metadata[i]\n",
      "/tmp/ipykernel_14995/143264723.py:142: FutureWarning: Series.__getitem__ treating keys as positions is deprecated. In a future version, integer keys will always be treated as labels (consistent with DataFrame behavior). To access a value by position, use `ser.iloc[pos]`\n",
      "  neighbor_labels = metadata[neighbor_indices]\n"
     ]
    },
    {
     "name": "stdout",
     "output_type": "stream",
     "text": [
      "(134842, 1)\n",
      "(134842, 1)\n"
     ]
    }
   ],
   "source": [
    "adata = mu.read('../../../../beegfs/CZI/Downstream/DIAGONAL_Integration/objects/GLUE_comb_emb_FINAL.h5ad')\n",
    "adata.obs.to_csv('obs/GLUE_comb.csv')\n",
    "pd.DataFrame(adata.obsm['X_glue'], index = adata.obs.index).to_csv('../DIAGONAL_INTEGRATION/csv/GLUE.csv')\n",
    "# folder = '../DIAGONAL_INTEGRATION/csv/GLUE'\n",
    "save_key = i = 'X_glue'\n",
    "ann_l = ['Deepscore_HCA_l1_Clean', 'Deepscore_HCA_l3_Clean']\n",
    "n_size = 50\n",
    "adata = adata[~adata.obs['Deepscore_HCA_l1_Clean'].isin([pd.NA])]\n",
    "\n",
    "neigh = pynndescent(adata.obsm[i], n_neighbors=n_size)\n",
    "\n",
    "for ann in ann_l:\n",
    "\n",
    "    # Perform pynndescent computation\n",
    "    binary_lisi_scores = binary_LISI(neigh, adata.obs[ann])\n",
    "    # Save the computed binary LISI scores to a CSV file\n",
    "    filename = f'CLISI/GLUE/{ann}.csv'\n",
    "    save_binary_lisi_scores(binary_lisi_scores, filename,adata.obs.index)\n",
    "\n",
    "    silhouette_scores = scib_metrics.utils.silhouette_samples(adata.obsm[i], adata.obs[ann])\n",
    "    # Save the computed binary LISI scores to a CSV file\n",
    "    filename = f'Silhouette/GLUE/{ann}.csv'\n",
    "    save_scores(silhouette_scores, filename,adata.obs.index, col_name = 'Silhouette')"
   ]
  }
 ],
 "metadata": {
  "kernelspec": {
   "display_name": "scanpy_basic",
   "language": "python",
   "name": "scanpy_basic"
  },
  "language_info": {
   "codemirror_mode": {
    "name": "ipython",
    "version": 3
   },
   "file_extension": ".py",
   "mimetype": "text/x-python",
   "name": "python",
   "nbconvert_exporter": "python",
   "pygments_lexer": "ipython3",
   "version": "3.9.18"
  }
 },
 "nbformat": 4,
 "nbformat_minor": 5
}
